{
  "nbformat": 4,
  "nbformat_minor": 0,
  "metadata": {
    "colab": {
      "provenance": [],
      "include_colab_link": true
    },
    "kernelspec": {
      "name": "python3",
      "display_name": "Python 3"
    },
    "language_info": {
      "name": "python"
    }
  },
  "cells": [
    {
      "cell_type": "markdown",
      "metadata": {
        "id": "view-in-github",
        "colab_type": "text"
      },
      "source": [
        "<a href=\"https://colab.research.google.com/github/Malthr/sembago-ml/blob/main/a_star_script.ipynb\" target=\"_parent\"><img src=\"https://colab.research.google.com/assets/colab-badge.svg\" alt=\"Open In Colab\"/></a>"
      ]
    },
    {
      "cell_type": "code",
      "execution_count": null,
      "metadata": {
        "id": "LwAXl60-73zX"
      },
      "outputs": [],
      "source": [
        "import json\n",
        "import heapq\n",
        "import math\n",
        "import sys"
      ]
    },
    {
      "cell_type": "code",
      "source": [
        "class Node:\n",
        "    def __init__(self, name, latitude, longitude):\n",
        "        self.name = name\n",
        "        self.latitude = latitude\n",
        "        self.longitude = longitude\n",
        "        self.g_score = float('inf')\n",
        "        self.h_score = float('inf')\n",
        "        self.f_score = float('inf')\n",
        "        self.came_from = None\n",
        "\n",
        "    def __lt__(self, other):\n",
        "        return self.f_score < other.f_score"
      ],
      "metadata": {
        "id": "GPq7WU4E8Q2p"
      },
      "execution_count": null,
      "outputs": []
    },
    {
      "cell_type": "code",
      "source": [
        "def haversine(lat1, lon1, lat2, lon2):\n",
        "    # Konversi derajat ke radian\n",
        "    lat1 = math.radians(lat1)\n",
        "    lon1 = math.radians(lon1)\n",
        "    lat2 = math.radians(lat2)\n",
        "    lon2 = math.radians(lon2)\n",
        "\n",
        "    # Perbedaan latitude dan longitude\n",
        "    dlat = lat2 - lat1\n",
        "    dlon = lon2 - lon1\n",
        "\n",
        "    # Menggunakan rumus Haversine\n",
        "    a = math.sin(dlat/2)**2 + math.cos(lat1) * math.cos(lat2) * math.sin(dlon/2)**2\n",
        "    c = 2 * math.atan2(math.sqrt(a), math.sqrt(1-a))\n",
        "    radius = 6371  # Radius bumi dalam kilometer\n",
        "    distance = radius * c\n",
        "\n",
        "    return distance"
      ],
      "metadata": {
        "id": "2k9IlRvu8NcZ"
      },
      "execution_count": null,
      "outputs": []
    },
    {
      "cell_type": "code",
      "source": [
        "def a_star(graph, start, goal):\n",
        "    open_set = []\n",
        "    heapq.heappush(open_set, start)\n",
        "    start.g_score = 0\n",
        "    start.h_score = haversine(start.latitude, start.longitude, goal.latitude, goal.longitude)\n",
        "    start.f_score = start.h_score\n",
        "\n",
        "    while open_set:\n",
        "        current = heapq.heappop(open_set)\n",
        "\n",
        "        if current == goal:\n",
        "            path = []\n",
        "            while current:\n",
        "                path.insert(0, current.name)\n",
        "                current = current.came_from\n",
        "            return path\n",
        "\n",
        "        for neighbor in graph[current.name]:\n",
        "            tentative_g_score = current.g_score + haversine(current.latitude, current.longitude, neighbor.latitude, neighbor.longitude)\n",
        "\n",
        "            if tentative_g_score < neighbor.g_score:\n",
        "                neighbor.came_from = current\n",
        "                neighbor.g_score = tentative_g_score\n",
        "                neighbor.h_score = haversine(neighbor.latitude, neighbor.longitude, goal.latitude, goal.longitude)\n",
        "                neighbor.f_score = neighbor.g_score + neighbor.h_score\n",
        "\n",
        "                if neighbor not in open_set:\n",
        "                    heapq.heappush(open_set, neighbor)\n",
        "\n",
        "    return None"
      ],
      "metadata": {
        "id": "5Ms6JtmS8ZJr"
      },
      "execution_count": null,
      "outputs": []
    },
    {
      "cell_type": "code",
      "source": [
        "if __name__ == '__main__':\n",
        "  try :\n",
        "    input_data = json.loads(sys.stdin.read())\n",
        "\n",
        "    if isinstance(input_data, list) and len(input_data) == 3:\n",
        "      user_lat, user_long, data = input_data\n",
        "\n",
        "      # Memasukkan data dan diubah menjadi object\n",
        "      nodes = [Node(name, lat, lon) for name, lat, lon in data]\n",
        "\n",
        "      # Bangun Graf\n",
        "      graph = {node.name: [] for node in nodes}\n",
        "      for node in nodes:\n",
        "        for other_node in nodes:\n",
        "          if node != other_node:\n",
        "            graph[node.name].append(other_node)\n",
        "\n",
        "      nearest_markets = heapq.smallest(\n",
        "          5, nodes, key=lambda node: havesine(user_lat, user_long, node_lat, node_long)\n",
        "      )\n",
        "\n",
        "      user_node = Node('User_Location', user_lat, user_long)\n",
        "\n",
        "      for i, nearest_market in enumerate(nearest_markets):\n",
        "        result_path = a_star(graph, user_node, nearest_market)\n",
        "\n",
        "        if result_path:\n",
        "          print(f\"Top {i + 1} Nearest Minimarket Path:\")\n",
        "          print(json.dumps(result_path))\n",
        "        else:\n",
        "          print(f\"Top {i + 1} Nearest Minimarket: No valid path found.\")\n",
        "    else:\n",
        "      print(json.dumps({'error': 'Invalid input format. Expected a list of three arguments.'}))\n",
        "  except Exception as e:\n",
        "    print(json.dumps({'error': str(e)}))"
      ],
      "metadata": {
        "colab": {
          "base_uri": "https://localhost:8080/"
        },
        "id": "HGk3TTvp8rfM",
        "outputId": "d151b233-0919-4590-dadb-98474c10c654"
      },
      "execution_count": null,
      "outputs": [
        {
          "output_type": "stream",
          "name": "stdout",
          "text": [
            "{\"error\": \"Expecting value: line 1 column 1 (char 0)\"}\n"
          ]
        }
      ]
    }
  ]
}