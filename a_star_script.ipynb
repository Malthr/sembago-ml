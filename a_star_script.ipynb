{
  "nbformat": 4,
  "nbformat_minor": 0,
  "metadata": {
    "colab": {
      "provenance": [],
      "include_colab_link": true
    },
    "kernelspec": {
      "name": "python3",
      "display_name": "Python 3"
    },
    "language_info": {
      "name": "python"
    }
  },
  "cells": [
    {
      "cell_type": "markdown",
      "metadata": {
        "id": "view-in-github",
        "colab_type": "text"
      },
      "source": [
        "<a href=\"https://colab.research.google.com/github/Malthr/sembago-ml/blob/main/a_star_script.ipynb\" target=\"_parent\"><img src=\"https://colab.research.google.com/assets/colab-badge.svg\" alt=\"Open In Colab\"/></a>"
      ]
    },
    {
      "cell_type": "code",
      "execution_count": null,
      "metadata": {
        "id": "LwAXl60-73zX"
      },
      "outputs": [],
      "source": [
        "import json\n",
        "import heapq\n",
        "import math\n",
        "import sys"
      ]
    },
    {
      "cell_type": "code",
      "source": [
        "class Node:\n",
        "    def __init__(self, name, latitude, longitude):\n",
        "        self.name = name\n",
        "        self.latitude = latitude\n",
        "        self.longitude = longitude\n",
        "        self.g_score = float('inf')\n",
        "        self.h_score = float('inf')\n",
        "        self.f_score = float('inf')\n",
        "        self.came_from = None\n",
        "\n",
        "    def __lt__(self, other):\n",
        "        return self.f_score < other.f_score"
      ],
      "metadata": {
        "id": "GPq7WU4E8Q2p"
      },
      "execution_count": null,
      "outputs": []
    },
    {
      "cell_type": "code",
      "source": [
        "def haversine(lat1, lon1, lat2, lon2):\n",
        "    # Convert degrees to radians\n",
        "    lat1 = math.radians(lat1)\n",
        "    lon1 = math.radians(lon1)\n",
        "    lat2 = math.radians(lat2)\n",
        "    lon2 = math.radians(lon2)\n",
        "\n",
        "    # Latitude and Longitude Difference\n",
        "    dlat = lat2 - lat1\n",
        "    dlon = lon2 - lon1\n",
        "\n",
        "    # Haversine Formula\n",
        "    a = math.sin(dlat/2)**2 + math.cos(lat1) * math.cos(lat2) * math.sin(dlon/2)**2\n",
        "    c = 2 * math.atan2(math.sqrt(a), math.sqrt(1-a))\n",
        "    radius = 6371  # Earth Radius in kilometer\n",
        "    distance = radius * c\n",
        "\n",
        "    return distance"
      ],
      "metadata": {
        "id": "2k9IlRvu8NcZ"
      },
      "execution_count": null,
      "outputs": []
    },
    {
      "cell_type": "code",
      "source": [
        "def a_star(graph, start, goal):\n",
        "    open_set = []\n",
        "    heapq.heappush(open_set, start)\n",
        "    start.g_score = 0\n",
        "    start.h_score = haversine(start.latitude, start.longitude, goal.latitude, goal.longitude)\n",
        "    start.f_score = start.h_score\n",
        "\n",
        "    while open_set:\n",
        "        current = heapq.heappop(open_set)\n",
        "\n",
        "        if current == goal:\n",
        "            path = []\n",
        "            while current:\n",
        "                path.insert(0, current.name)\n",
        "                current = current.came_from\n",
        "            return path\n",
        "\n",
        "        for neighbor in graph[current.name]:\n",
        "            tentative_g_score = current.g_score + haversine(current.latitude, current.longitude, neighbor.latitude, neighbor.longitude)\n",
        "\n",
        "            if tentative_g_score < neighbor.g_score:\n",
        "                neighbor.came_from = current\n",
        "                neighbor.g_score = tentative_g_score\n",
        "                neighbor.h_score = haversine(neighbor.latitude, neighbor.longitude, goal.latitude, goal.longitude)\n",
        "                neighbor.f_score = neighbor.g_score + neighbor.h_score\n",
        "\n",
        "                if neighbor not in open_set:\n",
        "                    heapq.heappush(open_set, neighbor)\n",
        "\n",
        "    return None"
      ],
      "metadata": {
        "id": "5Ms6JtmS8ZJr"
      },
      "execution_count": null,
      "outputs": []
    },
    {
      "cell_type": "code",
      "source": [
        "if __name__ == '__main__':\n",
        "  try :\n",
        "    input_data = json.loads(sys.stdin.read())\n",
        "\n",
        "    import json\n",
        "\n",
        "    # If will check whether input_data is dictionary\n",
        "    if isinstance(input_data, dict) and 'user_lat' in input_data and 'user_long' in input_data and 'data' in input_data:\n",
        "\n",
        "    # Fetch all data from input_data from the form of dict\n",
        "      user_lat = input_data['user_lat']\n",
        "      user_long = input_data['user_long']\n",
        "      data = input_data['data']\n",
        "\n",
        "      nodes = [Node(node_data['name'], node_data['latitude'], node_data['longitude']) for node_data in data]\n",
        "\n",
        "      graph = {node.name: [] for node in nodes}\n",
        "      for node in nodes:\n",
        "        for other_node in nodes:\n",
        "          if node != other_node:\n",
        "            graph[node.name].append(other_node)\n",
        "\n",
        "      user_node = Node('User_Location', user_lat, user_long)\n",
        "\n",
        "      # Add User Graph where the node is user_node.name (User_Location)\n",
        "      graph[user_node.name] = [node for node in nodes if node != user_node]\n",
        "\n",
        "      nearest_markets = heapq.nsmallest(\n",
        "          5, nodes, key=lambda node: haversine(float(user_lat), float(user_long), float(node.latitude), float(node.longitude))\n",
        "      )\n",
        "\n",
        "      for i, nearest_market in enumerate(nearest_markets):\n",
        "        result_path = a_star(graph, user_node, nearest_market)\n",
        "        print(json.dumps({\n",
        "            \"goal_node\": nearest_market.name,\n",
        "            \"distance_km\": haversine(user_lat, user_long, nearest_market.latitude, nearest_market.longitude)\n",
        "        }))\n",
        "    else:\n",
        "      print(json.dumps({'error': 'Invalid input format. Expected a list of three arguments.'}))\n",
        "  except TypeError as e:\n",
        "    print(json.dumps({'error': str(e)}))"
      ],
      "metadata": {
        "colab": {
          "base_uri": "https://localhost:8080/"
        },
        "id": "HGk3TTvp8rfM",
        "outputId": "d151b233-0919-4590-dadb-98474c10c654"
      },
      "execution_count": null,
      "outputs": [
        {
          "output_type": "stream",
          "name": "stdout",
          "text": [
            "{\"error\": \"Expecting value: line 1 column 1 (char 0)\"}\n"
          ]
        }
      ]
    },
    {
      "cell_type": "code",
      "source": [],
      "metadata": {
        "id": "l4a6bTs7wc1N"
      },
      "execution_count": null,
      "outputs": []
    }
  ]
}