{
  "nbformat": 4,
  "nbformat_minor": 0,
  "metadata": {
    "colab": {
      "provenance": [],
      "authorship_tag": "ABX9TyON3iJ5vugA9IFCYTZXcLSB",
      "include_colab_link": true
    },
    "kernelspec": {
      "name": "python3",
      "display_name": "Python 3"
    },
    "language_info": {
      "name": "python"
    }
  },
  "cells": [
    {
      "cell_type": "markdown",
      "metadata": {
        "id": "view-in-github",
        "colab_type": "text"
      },
      "source": [
        "<a href=\"https://colab.research.google.com/github/Malthr/sembago-ml/blob/main/Ranking_stage.ipynb\" target=\"_parent\"><img src=\"https://colab.research.google.com/assets/colab-badge.svg\" alt=\"Open In Colab\"/></a>"
      ]
    },
    {
      "cell_type": "code",
      "execution_count": 54,
      "metadata": {
        "id": "7VKOzGgeNmrZ"
      },
      "outputs": [],
      "source": [
        "!pip install -q tensorflow-recommenders\n",
        "!pip install -q --upgrade tensorflow-datasets"
      ]
    },
    {
      "cell_type": "code",
      "source": [
        "import os\n",
        "import pprint\n",
        "import pandas as pd\n",
        "\n",
        "from typing import Dict, Text\n",
        "\n",
        "import numpy as np\n",
        "import tensorflow as tf\n",
        "import tensorflow_datasets as tfds\n",
        "import tensorflow_recommenders as tfrs\n",
        "from google.colab import drive"
      ],
      "metadata": {
        "id": "0dY5LVkgNvKz"
      },
      "execution_count": 55,
      "outputs": []
    },
    {
      "cell_type": "code",
      "source": [
        "drive.mount('/content/drive')\n",
        "%cd /content/drive/Shareddrives/Machine Learning CH2-PS393"
      ],
      "metadata": {
        "colab": {
          "base_uri": "https://localhost:8080/"
        },
        "id": "D9YAHkd0OpkL",
        "outputId": "bff784ab-c5f8-454c-a979-d13dba3af6af"
      },
      "execution_count": 56,
      "outputs": [
        {
          "output_type": "stream",
          "name": "stdout",
          "text": [
            "Drive already mounted at /content/drive; to attempt to forcibly remount, call drive.mount(\"/content/drive\", force_remount=True).\n",
            "/content/drive/Shareddrives/Machine Learning CH2-PS393\n"
          ]
        }
      ]
    },
    {
      "cell_type": "code",
      "source": [
        "# Convert CSV Dataset into TensorFlow Dataset\n",
        "def load_dataset(file_path, features, labels=None):\n",
        "  df = pd.read_csv(file_path)\n",
        "\n",
        "  features = df[features]\n",
        "\n",
        "  if labels:\n",
        "    labels = df[labels]\n",
        "    dataset = tf.data.Dataset.from_tensor_slices((dict(features), labels))\n",
        "  else:\n",
        "    dataset = tf.data.Dataset.from_tensor_slices(dict(features))\n",
        "\n",
        "  return dataset"
      ],
      "metadata": {
        "id": "gj5oQQiyN4YZ"
      },
      "execution_count": 57,
      "outputs": []
    },
    {
      "cell_type": "code",
      "source": [
        "ratings = load_dataset('dummy_ratings.csv', ['id_user', 'id_produk', 'rating'])"
      ],
      "metadata": {
        "id": "ZXwEkQhpOk6C"
      },
      "execution_count": 58,
      "outputs": []
    },
    {
      "cell_type": "code",
      "source": [
        "# Check Dataset Length\n",
        "print(len(ratings))"
      ],
      "metadata": {
        "colab": {
          "base_uri": "https://localhost:8080/"
        },
        "id": "mbmmG3umR5zc",
        "outputId": "cf007b9f-0d59-4268-e1bb-da2abbc7c5e9"
      },
      "execution_count": 59,
      "outputs": [
        {
          "output_type": "stream",
          "name": "stdout",
          "text": [
            "500\n"
          ]
        }
      ]
    },
    {
      "cell_type": "code",
      "source": [
        "ratings = ratings.map(lambda x: {\n",
        "    \"id_produk\": x[\"id_produk\"],\n",
        "    \"id_user\": x[\"id_user\"],\n",
        "    \"rating\": x[\"rating\"]\n",
        "})"
      ],
      "metadata": {
        "id": "vakqupiNQ1H5"
      },
      "execution_count": 60,
      "outputs": []
    },
    {
      "cell_type": "code",
      "source": [
        "tf.random.set_seed(42)\n",
        "shuffled = ratings.shuffle(1_000, seed=42, reshuffle_each_iteration=False)\n",
        "\n",
        "train_percentage = 80\n",
        "\n",
        "train_size = int(train_percentage / 100 * len(ratings))\n",
        "test_size = int((100 - train_percentage) / 100 * len(ratings))\n",
        "\n",
        "train = shuffled.take(train_size)\n",
        "test = shuffled.skip(train_size).take(test_size)"
      ],
      "metadata": {
        "id": "_8459gUURMlH"
      },
      "execution_count": 61,
      "outputs": []
    },
    {
      "cell_type": "code",
      "source": [
        "# Check Splitted Data Length\n",
        "print(len(train))\n",
        "print(len(test))"
      ],
      "metadata": {
        "colab": {
          "base_uri": "https://localhost:8080/"
        },
        "id": "uZZa19buZtLg",
        "outputId": "654dc69d-cc02-4be2-b996-cd20ee78fef3"
      },
      "execution_count": 62,
      "outputs": [
        {
          "output_type": "stream",
          "name": "stdout",
          "text": [
            "400\n",
            "100\n"
          ]
        }
      ]
    },
    {
      "cell_type": "code",
      "source": [
        "id_produks = ratings.batch(1_000).map(lambda x: x[\"id_produk\"])\n",
        "id_users = ratings.batch(1_000).map(lambda x: x[\"id_user\"])\n",
        "\n",
        "unique_id_produks = np.unique(np.concatenate(list(id_produks)))\n",
        "unique_id_users = np.unique(np.concatenate(list(id_users)))"
      ],
      "metadata": {
        "id": "bTFp84bMS87P"
      },
      "execution_count": 63,
      "outputs": []
    },
    {
      "cell_type": "code",
      "source": [
        "class RankingModel(tf.keras.Model):\n",
        "\n",
        "  def __init__(self):\n",
        "    super().__init__()\n",
        "    embedding_dimension = 128\n",
        "\n",
        "    # Compute embeddings for users.\n",
        "    self.user_embeddings = tf.keras.Sequential([\n",
        "      tf.keras.layers.StringLookup(\n",
        "        vocabulary=unique_id_users, mask_token=None),\n",
        "      tf.keras.layers.Embedding(len(unique_id_users) + 1, embedding_dimension)\n",
        "    ])\n",
        "\n",
        "    # Compute embeddings for produks.\n",
        "    self.produk_embeddings = tf.keras.Sequential([\n",
        "      tf.keras.layers.StringLookup(\n",
        "        vocabulary=unique_id_produks, mask_token=None),\n",
        "      tf.keras.layers.Embedding(len(unique_id_produks) + 1, embedding_dimension)\n",
        "    ])\n",
        "\n",
        "    # Compute predictions.\n",
        "    self.ratings = tf.keras.Sequential([\n",
        "      # Learn multiple dense layers.\n",
        "      tf.keras.layers.Dense(32, activation=\"relu\"),\n",
        "      tf.keras.layers.Dense(32, activation=\"relu\"),\n",
        "      # Make rating predictions in the final layer.\n",
        "      tf.keras.layers.Dense(1)\n",
        "  ])\n",
        "\n",
        "  def call(self, inputs):\n",
        "\n",
        "    id_user, id_produk = inputs\n",
        "\n",
        "    user_embedding = self.user_embeddings(id_user)\n",
        "    produk_embedding = self.produk_embeddings(id_produk)\n",
        "\n",
        "    return self.ratings(tf.concat([user_embedding, produk_embedding], axis=1))"
      ],
      "metadata": {
        "id": "6smmblv8TiG3"
      },
      "execution_count": 141,
      "outputs": []
    },
    {
      "cell_type": "code",
      "source": [
        "task = tfrs.tasks.Ranking(\n",
        "  loss = tf.keras.losses.MeanSquaredError(),\n",
        "  metrics=[tf.keras.metrics.RootMeanSquaredError()]\n",
        ")"
      ],
      "metadata": {
        "id": "cyKGYqfLT_kF"
      },
      "execution_count": 142,
      "outputs": []
    },
    {
      "cell_type": "code",
      "source": [
        "class ProdRankingRecModel(tfrs.models.Model):\n",
        "\n",
        "  def __init__(self):\n",
        "    super().__init__()\n",
        "    self.ranking_model: tf.keras.Model = RankingModel()\n",
        "    self.task: tf.keras.layers.Layer = tfrs.tasks.Ranking(\n",
        "      loss = tf.keras.losses.MeanSquaredError(),\n",
        "      metrics=[tf.keras.metrics.RootMeanSquaredError()]\n",
        "    )\n",
        "\n",
        "  def call(self, features: Dict[str, tf.Tensor]) -> tf.Tensor:\n",
        "    return self.ranking_model(\n",
        "        (features[\"id_user\"], features[\"id_produk\"]))\n",
        "\n",
        "  def compute_loss(self, features: Dict[Text, tf.Tensor], training=False) -> tf.Tensor:\n",
        "    labels = features.pop(\"rating\")\n",
        "\n",
        "    rating_predictions = self(features)\n",
        "\n",
        "    # The task computes the loss and the metrics.\n",
        "    return self.task(labels=labels, predictions=rating_predictions)"
      ],
      "metadata": {
        "id": "eE1iafT-UKhp"
      },
      "execution_count": 143,
      "outputs": []
    },
    {
      "cell_type": "code",
      "source": [
        "model = ProdRankingRecModel()\n",
        "model.compile(optimizer=tf.keras.optimizers.Adagrad(learning_rate=0.001))"
      ],
      "metadata": {
        "id": "11e0tj3IUmsW"
      },
      "execution_count": 144,
      "outputs": []
    },
    {
      "cell_type": "code",
      "source": [
        "cached_train = train.shuffle(100).batch(16).cache()\n",
        "cached_test = test.batch(16).cache()"
      ],
      "metadata": {
        "id": "u_HvdcVvUrrO"
      },
      "execution_count": 145,
      "outputs": []
    },
    {
      "cell_type": "code",
      "source": [
        "# Check Cached Data Length\n",
        "print(len(cached_train))\n",
        "print(len(cached_test))"
      ],
      "metadata": {
        "colab": {
          "base_uri": "https://localhost:8080/"
        },
        "id": "VxxDKs4OU0Ep",
        "outputId": "fce08989-5f52-4dba-928d-ce61447ffe2b"
      },
      "execution_count": 146,
      "outputs": [
        {
          "output_type": "stream",
          "name": "stdout",
          "text": [
            "25\n",
            "7\n"
          ]
        }
      ]
    },
    {
      "cell_type": "code",
      "source": [
        "model.fit(cached_train, epochs=100)"
      ],
      "metadata": {
        "colab": {
          "base_uri": "https://localhost:8080/"
        },
        "id": "lNNX_8GSU1p2",
        "outputId": "20fbd5ff-bfcc-4364-8ab1-011f1d5a897c"
      },
      "execution_count": 147,
      "outputs": [
        {
          "output_type": "stream",
          "name": "stdout",
          "text": [
            "Epoch 1/100\n",
            "25/25 [==============================] - 1s 2ms/step - root_mean_squared_error: 3.3772 - loss: 11.4788 - regularization_loss: 0.0000e+00 - total_loss: 11.4788\n",
            "Epoch 2/100\n",
            "25/25 [==============================] - 0s 2ms/step - root_mean_squared_error: 3.3510 - loss: 11.3031 - regularization_loss: 0.0000e+00 - total_loss: 11.3031\n",
            "Epoch 3/100\n",
            "25/25 [==============================] - 0s 2ms/step - root_mean_squared_error: 3.3323 - loss: 11.1779 - regularization_loss: 0.0000e+00 - total_loss: 11.1779\n",
            "Epoch 4/100\n",
            "25/25 [==============================] - 0s 2ms/step - root_mean_squared_error: 3.3155 - loss: 11.0660 - regularization_loss: 0.0000e+00 - total_loss: 11.0660\n",
            "Epoch 5/100\n",
            "25/25 [==============================] - 0s 2ms/step - root_mean_squared_error: 3.2995 - loss: 10.9597 - regularization_loss: 0.0000e+00 - total_loss: 10.9597\n",
            "Epoch 6/100\n",
            "25/25 [==============================] - 0s 2ms/step - root_mean_squared_error: 3.2840 - loss: 10.8569 - regularization_loss: 0.0000e+00 - total_loss: 10.8569\n",
            "Epoch 7/100\n",
            "25/25 [==============================] - 0s 2ms/step - root_mean_squared_error: 3.2688 - loss: 10.7563 - regularization_loss: 0.0000e+00 - total_loss: 10.7563\n",
            "Epoch 8/100\n",
            "25/25 [==============================] - 0s 2ms/step - root_mean_squared_error: 3.2535 - loss: 10.6559 - regularization_loss: 0.0000e+00 - total_loss: 10.6559\n",
            "Epoch 9/100\n",
            "25/25 [==============================] - 0s 2ms/step - root_mean_squared_error: 3.2382 - loss: 10.5559 - regularization_loss: 0.0000e+00 - total_loss: 10.5559\n",
            "Epoch 10/100\n",
            "25/25 [==============================] - 0s 2ms/step - root_mean_squared_error: 3.2228 - loss: 10.4558 - regularization_loss: 0.0000e+00 - total_loss: 10.4558\n",
            "Epoch 11/100\n",
            "25/25 [==============================] - 0s 3ms/step - root_mean_squared_error: 3.2072 - loss: 10.3548 - regularization_loss: 0.0000e+00 - total_loss: 10.3548\n",
            "Epoch 12/100\n",
            "25/25 [==============================] - 0s 2ms/step - root_mean_squared_error: 3.1913 - loss: 10.2523 - regularization_loss: 0.0000e+00 - total_loss: 10.2523\n",
            "Epoch 13/100\n",
            "25/25 [==============================] - 0s 2ms/step - root_mean_squared_error: 3.1750 - loss: 10.1480 - regularization_loss: 0.0000e+00 - total_loss: 10.1480\n",
            "Epoch 14/100\n",
            "25/25 [==============================] - 0s 2ms/step - root_mean_squared_error: 3.1583 - loss: 10.0417 - regularization_loss: 0.0000e+00 - total_loss: 10.0417\n",
            "Epoch 15/100\n",
            "25/25 [==============================] - 0s 2ms/step - root_mean_squared_error: 3.1413 - loss: 9.9337 - regularization_loss: 0.0000e+00 - total_loss: 9.9337\n",
            "Epoch 16/100\n",
            "25/25 [==============================] - 0s 2ms/step - root_mean_squared_error: 3.1238 - loss: 9.8233 - regularization_loss: 0.0000e+00 - total_loss: 9.8233\n",
            "Epoch 17/100\n",
            "25/25 [==============================] - 0s 2ms/step - root_mean_squared_error: 3.1058 - loss: 9.7105 - regularization_loss: 0.0000e+00 - total_loss: 9.7105\n",
            "Epoch 18/100\n",
            "25/25 [==============================] - 0s 2ms/step - root_mean_squared_error: 3.0873 - loss: 9.5948 - regularization_loss: 0.0000e+00 - total_loss: 9.5948\n",
            "Epoch 19/100\n",
            "25/25 [==============================] - 0s 2ms/step - root_mean_squared_error: 3.0681 - loss: 9.4762 - regularization_loss: 0.0000e+00 - total_loss: 9.4762\n",
            "Epoch 20/100\n",
            "25/25 [==============================] - 0s 2ms/step - root_mean_squared_error: 3.0485 - loss: 9.3549 - regularization_loss: 0.0000e+00 - total_loss: 9.3549\n",
            "Epoch 21/100\n",
            "25/25 [==============================] - 0s 3ms/step - root_mean_squared_error: 3.0282 - loss: 9.2307 - regularization_loss: 0.0000e+00 - total_loss: 9.2307\n",
            "Epoch 22/100\n",
            "25/25 [==============================] - 0s 2ms/step - root_mean_squared_error: 3.0073 - loss: 9.1038 - regularization_loss: 0.0000e+00 - total_loss: 9.1038\n",
            "Epoch 23/100\n",
            "25/25 [==============================] - 0s 2ms/step - root_mean_squared_error: 2.9858 - loss: 8.9739 - regularization_loss: 0.0000e+00 - total_loss: 8.9739\n",
            "Epoch 24/100\n",
            "25/25 [==============================] - 0s 2ms/step - root_mean_squared_error: 2.9636 - loss: 8.8408 - regularization_loss: 0.0000e+00 - total_loss: 8.8408\n",
            "Epoch 25/100\n",
            "25/25 [==============================] - 0s 2ms/step - root_mean_squared_error: 2.9408 - loss: 8.7048 - regularization_loss: 0.0000e+00 - total_loss: 8.7048\n",
            "Epoch 26/100\n",
            "25/25 [==============================] - 0s 2ms/step - root_mean_squared_error: 2.9172 - loss: 8.5655 - regularization_loss: 0.0000e+00 - total_loss: 8.5655\n",
            "Epoch 27/100\n",
            "25/25 [==============================] - 0s 2ms/step - root_mean_squared_error: 2.8928 - loss: 8.4228 - regularization_loss: 0.0000e+00 - total_loss: 8.4228\n",
            "Epoch 28/100\n",
            "25/25 [==============================] - 0s 2ms/step - root_mean_squared_error: 2.8677 - loss: 8.2770 - regularization_loss: 0.0000e+00 - total_loss: 8.2770\n",
            "Epoch 29/100\n",
            "25/25 [==============================] - 0s 2ms/step - root_mean_squared_error: 2.8417 - loss: 8.1278 - regularization_loss: 0.0000e+00 - total_loss: 8.1278\n",
            "Epoch 30/100\n",
            "25/25 [==============================] - 0s 2ms/step - root_mean_squared_error: 2.8150 - loss: 7.9754 - regularization_loss: 0.0000e+00 - total_loss: 7.9754\n",
            "Epoch 31/100\n",
            "25/25 [==============================] - 0s 2ms/step - root_mean_squared_error: 2.7874 - loss: 7.8195 - regularization_loss: 0.0000e+00 - total_loss: 7.8195\n",
            "Epoch 32/100\n",
            "25/25 [==============================] - 0s 2ms/step - root_mean_squared_error: 2.7589 - loss: 7.6602 - regularization_loss: 0.0000e+00 - total_loss: 7.6602\n",
            "Epoch 33/100\n",
            "25/25 [==============================] - 0s 2ms/step - root_mean_squared_error: 2.7295 - loss: 7.4977 - regularization_loss: 0.0000e+00 - total_loss: 7.4977\n",
            "Epoch 34/100\n",
            "25/25 [==============================] - 0s 2ms/step - root_mean_squared_error: 2.6993 - loss: 7.3323 - regularization_loss: 0.0000e+00 - total_loss: 7.3323\n",
            "Epoch 35/100\n",
            "25/25 [==============================] - 0s 2ms/step - root_mean_squared_error: 2.6682 - loss: 7.1642 - regularization_loss: 0.0000e+00 - total_loss: 7.1642\n",
            "Epoch 36/100\n",
            "25/25 [==============================] - 0s 2ms/step - root_mean_squared_error: 2.6363 - loss: 6.9936 - regularization_loss: 0.0000e+00 - total_loss: 6.9936\n",
            "Epoch 37/100\n",
            "25/25 [==============================] - 0s 2ms/step - root_mean_squared_error: 2.6035 - loss: 6.8205 - regularization_loss: 0.0000e+00 - total_loss: 6.8205\n",
            "Epoch 38/100\n",
            "25/25 [==============================] - 0s 3ms/step - root_mean_squared_error: 2.5698 - loss: 6.6449 - regularization_loss: 0.0000e+00 - total_loss: 6.6449\n",
            "Epoch 39/100\n",
            "25/25 [==============================] - 0s 2ms/step - root_mean_squared_error: 2.5352 - loss: 6.4670 - regularization_loss: 0.0000e+00 - total_loss: 6.4670\n",
            "Epoch 40/100\n",
            "25/25 [==============================] - 0s 2ms/step - root_mean_squared_error: 2.4997 - loss: 6.2869 - regularization_loss: 0.0000e+00 - total_loss: 6.2869\n",
            "Epoch 41/100\n",
            "25/25 [==============================] - 0s 2ms/step - root_mean_squared_error: 2.4634 - loss: 6.1052 - regularization_loss: 0.0000e+00 - total_loss: 6.1052\n",
            "Epoch 42/100\n",
            "25/25 [==============================] - 0s 2ms/step - root_mean_squared_error: 2.4264 - loss: 5.9226 - regularization_loss: 0.0000e+00 - total_loss: 5.9226\n",
            "Epoch 43/100\n",
            "25/25 [==============================] - 0s 2ms/step - root_mean_squared_error: 2.3886 - loss: 5.7395 - regularization_loss: 0.0000e+00 - total_loss: 5.7395\n",
            "Epoch 44/100\n",
            "25/25 [==============================] - 0s 2ms/step - root_mean_squared_error: 2.3502 - loss: 5.5561 - regularization_loss: 0.0000e+00 - total_loss: 5.5561\n",
            "Epoch 45/100\n",
            "25/25 [==============================] - 0s 2ms/step - root_mean_squared_error: 2.3112 - loss: 5.3728 - regularization_loss: 0.0000e+00 - total_loss: 5.3728\n",
            "Epoch 46/100\n",
            "25/25 [==============================] - 0s 2ms/step - root_mean_squared_error: 2.2716 - loss: 5.1898 - regularization_loss: 0.0000e+00 - total_loss: 5.1898\n",
            "Epoch 47/100\n",
            "25/25 [==============================] - 0s 2ms/step - root_mean_squared_error: 2.2315 - loss: 5.0077 - regularization_loss: 0.0000e+00 - total_loss: 5.0077\n",
            "Epoch 48/100\n",
            "25/25 [==============================] - 0s 2ms/step - root_mean_squared_error: 2.1910 - loss: 4.8270 - regularization_loss: 0.0000e+00 - total_loss: 4.8270\n",
            "Epoch 49/100\n",
            "25/25 [==============================] - 0s 2ms/step - root_mean_squared_error: 2.1501 - loss: 4.6484 - regularization_loss: 0.0000e+00 - total_loss: 4.6484\n",
            "Epoch 50/100\n",
            "25/25 [==============================] - 0s 2ms/step - root_mean_squared_error: 2.1091 - loss: 4.4721 - regularization_loss: 0.0000e+00 - total_loss: 4.4721\n",
            "Epoch 51/100\n",
            "25/25 [==============================] - 0s 2ms/step - root_mean_squared_error: 2.0679 - loss: 4.2988 - regularization_loss: 0.0000e+00 - total_loss: 4.2988\n",
            "Epoch 52/100\n",
            "25/25 [==============================] - 0s 2ms/step - root_mean_squared_error: 2.0267 - loss: 4.1289 - regularization_loss: 0.0000e+00 - total_loss: 4.1289\n",
            "Epoch 53/100\n",
            "25/25 [==============================] - 0s 2ms/step - root_mean_squared_error: 1.9857 - loss: 3.9628 - regularization_loss: 0.0000e+00 - total_loss: 3.9628\n",
            "Epoch 54/100\n",
            "25/25 [==============================] - 0s 2ms/step - root_mean_squared_error: 1.9448 - loss: 3.8009 - regularization_loss: 0.0000e+00 - total_loss: 3.8009\n",
            "Epoch 55/100\n",
            "25/25 [==============================] - 0s 2ms/step - root_mean_squared_error: 1.9043 - loss: 3.6438 - regularization_loss: 0.0000e+00 - total_loss: 3.6438\n",
            "Epoch 56/100\n",
            "25/25 [==============================] - 0s 2ms/step - root_mean_squared_error: 1.8643 - loss: 3.4917 - regularization_loss: 0.0000e+00 - total_loss: 3.4917\n",
            "Epoch 57/100\n",
            "25/25 [==============================] - 0s 2ms/step - root_mean_squared_error: 1.8248 - loss: 3.3449 - regularization_loss: 0.0000e+00 - total_loss: 3.3449\n",
            "Epoch 58/100\n",
            "25/25 [==============================] - 0s 2ms/step - root_mean_squared_error: 1.7860 - loss: 3.2037 - regularization_loss: 0.0000e+00 - total_loss: 3.2037\n",
            "Epoch 59/100\n",
            "25/25 [==============================] - 0s 2ms/step - root_mean_squared_error: 1.7480 - loss: 3.0683 - regularization_loss: 0.0000e+00 - total_loss: 3.0683\n",
            "Epoch 60/100\n",
            "25/25 [==============================] - 0s 2ms/step - root_mean_squared_error: 1.7109 - loss: 2.9390 - regularization_loss: 0.0000e+00 - total_loss: 2.9390\n",
            "Epoch 61/100\n",
            "25/25 [==============================] - 0s 2ms/step - root_mean_squared_error: 1.6748 - loss: 2.8157 - regularization_loss: 0.0000e+00 - total_loss: 2.8157\n",
            "Epoch 62/100\n",
            "25/25 [==============================] - 0s 2ms/step - root_mean_squared_error: 1.6397 - loss: 2.6985 - regularization_loss: 0.0000e+00 - total_loss: 2.6985\n",
            "Epoch 63/100\n",
            "25/25 [==============================] - 0s 2ms/step - root_mean_squared_error: 1.6057 - loss: 2.5875 - regularization_loss: 0.0000e+00 - total_loss: 2.5875\n",
            "Epoch 64/100\n",
            "25/25 [==============================] - 0s 2ms/step - root_mean_squared_error: 1.5730 - loss: 2.4826 - regularization_loss: 0.0000e+00 - total_loss: 2.4826\n",
            "Epoch 65/100\n",
            "25/25 [==============================] - 0s 2ms/step - root_mean_squared_error: 1.5415 - loss: 2.3838 - regularization_loss: 0.0000e+00 - total_loss: 2.3838\n",
            "Epoch 66/100\n",
            "25/25 [==============================] - 0s 2ms/step - root_mean_squared_error: 1.5113 - loss: 2.2909 - regularization_loss: 0.0000e+00 - total_loss: 2.2909\n",
            "Epoch 67/100\n",
            "25/25 [==============================] - 0s 2ms/step - root_mean_squared_error: 1.4824 - loss: 2.2037 - regularization_loss: 0.0000e+00 - total_loss: 2.2037\n",
            "Epoch 68/100\n",
            "25/25 [==============================] - 0s 2ms/step - root_mean_squared_error: 1.4549 - loss: 2.1222 - regularization_loss: 0.0000e+00 - total_loss: 2.1222\n",
            "Epoch 69/100\n",
            "25/25 [==============================] - 0s 2ms/step - root_mean_squared_error: 1.4286 - loss: 2.0460 - regularization_loss: 0.0000e+00 - total_loss: 2.0460\n",
            "Epoch 70/100\n",
            "25/25 [==============================] - 0s 2ms/step - root_mean_squared_error: 1.4037 - loss: 1.9749 - regularization_loss: 0.0000e+00 - total_loss: 1.9749\n",
            "Epoch 71/100\n",
            "25/25 [==============================] - 0s 2ms/step - root_mean_squared_error: 1.3801 - loss: 1.9087 - regularization_loss: 0.0000e+00 - total_loss: 1.9087\n",
            "Epoch 72/100\n",
            "25/25 [==============================] - 0s 2ms/step - root_mean_squared_error: 1.3577 - loss: 1.8471 - regularization_loss: 0.0000e+00 - total_loss: 1.8471\n",
            "Epoch 73/100\n",
            "25/25 [==============================] - 0s 2ms/step - root_mean_squared_error: 1.3366 - loss: 1.7898 - regularization_loss: 0.0000e+00 - total_loss: 1.7898\n",
            "Epoch 74/100\n",
            "25/25 [==============================] - 0s 2ms/step - root_mean_squared_error: 1.3167 - loss: 1.7366 - regularization_loss: 0.0000e+00 - total_loss: 1.7366\n",
            "Epoch 75/100\n",
            "25/25 [==============================] - 0s 2ms/step - root_mean_squared_error: 1.2979 - loss: 1.6871 - regularization_loss: 0.0000e+00 - total_loss: 1.6871\n",
            "Epoch 76/100\n",
            "25/25 [==============================] - 0s 2ms/step - root_mean_squared_error: 1.2801 - loss: 1.6411 - regularization_loss: 0.0000e+00 - total_loss: 1.6411\n",
            "Epoch 77/100\n",
            "25/25 [==============================] - 0s 2ms/step - root_mean_squared_error: 1.2634 - loss: 1.5984 - regularization_loss: 0.0000e+00 - total_loss: 1.5984\n",
            "Epoch 78/100\n",
            "25/25 [==============================] - 0s 2ms/step - root_mean_squared_error: 1.2476 - loss: 1.5586 - regularization_loss: 0.0000e+00 - total_loss: 1.5586\n",
            "Epoch 79/100\n",
            "25/25 [==============================] - 0s 2ms/step - root_mean_squared_error: 1.2328 - loss: 1.5215 - regularization_loss: 0.0000e+00 - total_loss: 1.5215\n",
            "Epoch 80/100\n",
            "25/25 [==============================] - 0s 2ms/step - root_mean_squared_error: 1.2187 - loss: 1.4870 - regularization_loss: 0.0000e+00 - total_loss: 1.4870\n",
            "Epoch 81/100\n",
            "25/25 [==============================] - 0s 2ms/step - root_mean_squared_error: 1.2055 - loss: 1.4547 - regularization_loss: 0.0000e+00 - total_loss: 1.4547\n",
            "Epoch 82/100\n",
            "25/25 [==============================] - 0s 2ms/step - root_mean_squared_error: 1.1930 - loss: 1.4246 - regularization_loss: 0.0000e+00 - total_loss: 1.4246\n",
            "Epoch 83/100\n",
            "25/25 [==============================] - 0s 2ms/step - root_mean_squared_error: 1.1811 - loss: 1.3963 - regularization_loss: 0.0000e+00 - total_loss: 1.3963\n",
            "Epoch 84/100\n",
            "25/25 [==============================] - 0s 2ms/step - root_mean_squared_error: 1.1699 - loss: 1.3698 - regularization_loss: 0.0000e+00 - total_loss: 1.3698\n",
            "Epoch 85/100\n",
            "25/25 [==============================] - 0s 3ms/step - root_mean_squared_error: 1.1592 - loss: 1.3449 - regularization_loss: 0.0000e+00 - total_loss: 1.3449\n",
            "Epoch 86/100\n",
            "25/25 [==============================] - 0s 2ms/step - root_mean_squared_error: 1.1490 - loss: 1.3214 - regularization_loss: 0.0000e+00 - total_loss: 1.3214\n",
            "Epoch 87/100\n",
            "25/25 [==============================] - 0s 2ms/step - root_mean_squared_error: 1.1393 - loss: 1.2992 - regularization_loss: 0.0000e+00 - total_loss: 1.2992\n",
            "Epoch 88/100\n",
            "25/25 [==============================] - 0s 2ms/step - root_mean_squared_error: 1.1301 - loss: 1.2783 - regularization_loss: 0.0000e+00 - total_loss: 1.2783\n",
            "Epoch 89/100\n",
            "25/25 [==============================] - 0s 2ms/step - root_mean_squared_error: 1.1213 - loss: 1.2583 - regularization_loss: 0.0000e+00 - total_loss: 1.2583\n",
            "Epoch 90/100\n",
            "25/25 [==============================] - 0s 2ms/step - root_mean_squared_error: 1.1128 - loss: 1.2394 - regularization_loss: 0.0000e+00 - total_loss: 1.2394\n",
            "Epoch 91/100\n",
            "25/25 [==============================] - 0s 2ms/step - root_mean_squared_error: 1.1047 - loss: 1.2214 - regularization_loss: 0.0000e+00 - total_loss: 1.2214\n",
            "Epoch 92/100\n",
            "25/25 [==============================] - 0s 2ms/step - root_mean_squared_error: 1.0968 - loss: 1.2042 - regularization_loss: 0.0000e+00 - total_loss: 1.2042\n",
            "Epoch 93/100\n",
            "25/25 [==============================] - 0s 2ms/step - root_mean_squared_error: 1.0893 - loss: 1.1877 - regularization_loss: 0.0000e+00 - total_loss: 1.1877\n",
            "Epoch 94/100\n",
            "25/25 [==============================] - 0s 2ms/step - root_mean_squared_error: 1.0820 - loss: 1.1719 - regularization_loss: 0.0000e+00 - total_loss: 1.1719\n",
            "Epoch 95/100\n",
            "25/25 [==============================] - 0s 2ms/step - root_mean_squared_error: 1.0750 - loss: 1.1568 - regularization_loss: 0.0000e+00 - total_loss: 1.1568\n",
            "Epoch 96/100\n",
            "25/25 [==============================] - 0s 2ms/step - root_mean_squared_error: 1.0682 - loss: 1.1422 - regularization_loss: 0.0000e+00 - total_loss: 1.1422\n",
            "Epoch 97/100\n",
            "25/25 [==============================] - 0s 2ms/step - root_mean_squared_error: 1.0616 - loss: 1.1282 - regularization_loss: 0.0000e+00 - total_loss: 1.1282\n",
            "Epoch 98/100\n",
            "25/25 [==============================] - 0s 3ms/step - root_mean_squared_error: 1.0552 - loss: 1.1146 - regularization_loss: 0.0000e+00 - total_loss: 1.1146\n",
            "Epoch 99/100\n",
            "25/25 [==============================] - 0s 2ms/step - root_mean_squared_error: 1.0489 - loss: 1.1016 - regularization_loss: 0.0000e+00 - total_loss: 1.1016\n",
            "Epoch 100/100\n",
            "25/25 [==============================] - 0s 2ms/step - root_mean_squared_error: 1.0429 - loss: 1.0889 - regularization_loss: 0.0000e+00 - total_loss: 1.0889\n"
          ]
        },
        {
          "output_type": "execute_result",
          "data": {
            "text/plain": [
              "<keras.src.callbacks.History at 0x7befb1665cf0>"
            ]
          },
          "metadata": {},
          "execution_count": 147
        }
      ]
    },
    {
      "cell_type": "code",
      "source": [
        "model.evaluate(cached_test, return_dict=True)"
      ],
      "metadata": {
        "colab": {
          "base_uri": "https://localhost:8080/"
        },
        "id": "J5zxM-DlaSlc",
        "outputId": "03aedfd0-9b40-4985-cf11-5b5e672454aa"
      },
      "execution_count": 148,
      "outputs": [
        {
          "output_type": "stream",
          "name": "stdout",
          "text": [
            "7/7 [==============================] - 0s 3ms/step - root_mean_squared_error: 1.6942 - loss: 2.8073 - regularization_loss: 0.0000e+00 - total_loss: 2.8073\n"
          ]
        },
        {
          "output_type": "execute_result",
          "data": {
            "text/plain": [
              "{'root_mean_squared_error': 1.6942249536514282,\n",
              " 'loss': 2.581789970397949,\n",
              " 'regularization_loss': 0,\n",
              " 'total_loss': 2.581789970397949}"
            ]
          },
          "metadata": {},
          "execution_count": 148
        }
      ]
    },
    {
      "cell_type": "code",
      "source": [
        "tf.saved_model.save(model, \"ranking_model\")"
      ],
      "metadata": {
        "id": "OozPZLpsaVMm"
      },
      "execution_count": 149,
      "outputs": []
    },
    {
      "cell_type": "code",
      "source": [],
      "metadata": {
        "id": "MQY8WDv8gCC-"
      },
      "execution_count": null,
      "outputs": []
    }
  ]
}