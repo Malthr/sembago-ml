{
  "nbformat": 4,
  "nbformat_minor": 0,
  "metadata": {
    "colab": {
      "provenance": [],
      "authorship_tag": "ABX9TyMyQ1YyJgUWOJPzB0kjYQ2s",
      "include_colab_link": true
    },
    "kernelspec": {
      "name": "python3",
      "display_name": "Python 3"
    },
    "language_info": {
      "name": "python"
    }
  },
  "cells": [
    {
      "cell_type": "markdown",
      "metadata": {
        "id": "view-in-github",
        "colab_type": "text"
      },
      "source": [
        "<a href=\"https://colab.research.google.com/github/Malthr/sembago-ml/blob/main/Ranking_stage.ipynb\" target=\"_parent\"><img src=\"https://colab.research.google.com/assets/colab-badge.svg\" alt=\"Open In Colab\"/></a>"
      ]
    },
    {
      "cell_type": "code",
      "execution_count": null,
      "metadata": {
        "id": "7VKOzGgeNmrZ",
        "colab": {
          "base_uri": "https://localhost:8080/"
        },
        "outputId": "b7265772-b581-4b9f-b4a0-9a6fdbad4a59"
      },
      "outputs": [
        {
          "output_type": "stream",
          "name": "stdout",
          "text": [
            "\u001b[?25l     \u001b[90m━━━━━━━━━━━━━━━━━━━━━━━━━━━━━━━━━━━━━━━━\u001b[0m \u001b[32m0.0/96.2 kB\u001b[0m \u001b[31m?\u001b[0m eta \u001b[36m-:--:--\u001b[0m\r\u001b[2K     \u001b[91m━━━━━━━━━━━━━━━━━\u001b[0m\u001b[90m╺\u001b[0m\u001b[90m━━━━━━━━━━━━━━━━━━━━━━\u001b[0m \u001b[32m41.0/96.2 kB\u001b[0m \u001b[31m1.1 MB/s\u001b[0m eta \u001b[36m0:00:01\u001b[0m\r\u001b[2K     \u001b[90m━━━━━━━━━━━━━━━━━━━━━━━━━━━━━━━━━━━━━━━━\u001b[0m \u001b[32m96.2/96.2 kB\u001b[0m \u001b[31m1.5 MB/s\u001b[0m eta \u001b[36m0:00:00\u001b[0m\n",
            "\u001b[?25h"
          ]
        }
      ],
      "source": [
        "!pip install -q tensorflow-recommenders\n",
        "!pip install -q --upgrade tensorflow-datasets"
      ]
    },
    {
      "cell_type": "code",
      "source": [
        "import os\n",
        "import pprint\n",
        "import pandas as pd\n",
        "\n",
        "from typing import Dict, Text\n",
        "\n",
        "import numpy as np\n",
        "import tensorflow as tf\n",
        "import tensorflow_datasets as tfds\n",
        "import tensorflow_recommenders as tfrs\n",
        "from google.colab import drive"
      ],
      "metadata": {
        "id": "0dY5LVkgNvKz"
      },
      "execution_count": null,
      "outputs": []
    },
    {
      "cell_type": "code",
      "source": [
        "drive.mount('/content/drive')\n",
        "%cd /content/drive/Shareddrives/Machine Learning CH2-PS393/Dataset_Sembago"
      ],
      "metadata": {
        "colab": {
          "base_uri": "https://localhost:8080/"
        },
        "id": "D9YAHkd0OpkL",
        "outputId": "d5d678c4-04a2-4f13-f0b9-910fde2881c9"
      },
      "execution_count": null,
      "outputs": [
        {
          "output_type": "stream",
          "name": "stdout",
          "text": [
            "Drive already mounted at /content/drive; to attempt to forcibly remount, call drive.mount(\"/content/drive\", force_remount=True).\n",
            "/content/drive/Shareddrives/Machine Learning CH2-PS393/Dataset_Sembago\n"
          ]
        }
      ]
    },
    {
      "cell_type": "code",
      "source": [
        "# Convert CSV Dataset into TensorFlow Dataset\n",
        "def load_dataset(file_path, features, labels=None):\n",
        "  df = pd.read_csv(file_path)\n",
        "\n",
        "  features = df[features]\n",
        "\n",
        "  if labels:\n",
        "    labels = df[labels]\n",
        "    dataset = tf.data.Dataset.from_tensor_slices((dict(features), labels))\n",
        "  else:\n",
        "    dataset = tf.data.Dataset.from_tensor_slices(dict(features))\n",
        "\n",
        "  return dataset"
      ],
      "metadata": {
        "id": "gj5oQQiyN4YZ"
      },
      "execution_count": null,
      "outputs": []
    },
    {
      "cell_type": "code",
      "source": [
        "ratings = load_dataset('dummy_ratings.csv', ['id_user', 'id_produk', 'rating'])"
      ],
      "metadata": {
        "id": "ZXwEkQhpOk6C"
      },
      "execution_count": null,
      "outputs": []
    },
    {
      "cell_type": "code",
      "source": [
        "# Check Dataset Length\n",
        "print(len(ratings))"
      ],
      "metadata": {
        "colab": {
          "base_uri": "https://localhost:8080/"
        },
        "id": "mbmmG3umR5zc",
        "outputId": "c4c76872-ca5e-4a01-e3d1-a99e70fcce5f"
      },
      "execution_count": null,
      "outputs": [
        {
          "output_type": "stream",
          "name": "stdout",
          "text": [
            "3000\n"
          ]
        }
      ]
    },
    {
      "cell_type": "code",
      "source": [
        "ratings = ratings.map(lambda x: {\n",
        "    \"id_produk\": x[\"id_produk\"],\n",
        "    \"id_user\": x[\"id_user\"],\n",
        "    \"rating\": x[\"rating\"]\n",
        "})"
      ],
      "metadata": {
        "id": "vakqupiNQ1H5"
      },
      "execution_count": null,
      "outputs": []
    },
    {
      "cell_type": "code",
      "source": [
        "tf.random.set_seed(42)\n",
        "shuffled = ratings.shuffle(1_000, seed=42, reshuffle_each_iteration=False)\n",
        "\n",
        "train_percentage = 80\n",
        "\n",
        "train_size = int(train_percentage / 100 * len(ratings))\n",
        "test_size = int((100 - train_percentage) / 100 * len(ratings))\n",
        "\n",
        "train = shuffled.take(train_size)\n",
        "test = shuffled.skip(train_size).take(test_size)"
      ],
      "metadata": {
        "id": "_8459gUURMlH"
      },
      "execution_count": null,
      "outputs": []
    },
    {
      "cell_type": "code",
      "source": [
        "# Check Splitted Data Length\n",
        "print(len(train))\n",
        "print(len(test))"
      ],
      "metadata": {
        "colab": {
          "base_uri": "https://localhost:8080/"
        },
        "id": "uZZa19buZtLg",
        "outputId": "49924863-d376-40f2-d9ca-6d0904a36a1e"
      },
      "execution_count": null,
      "outputs": [
        {
          "output_type": "stream",
          "name": "stdout",
          "text": [
            "2400\n",
            "600\n"
          ]
        }
      ]
    },
    {
      "cell_type": "code",
      "source": [
        "id_produks = ratings.batch(1_000).map(lambda x: x[\"id_produk\"])\n",
        "id_users = ratings.batch(1_000).map(lambda x: x[\"id_user\"])\n",
        "\n",
        "unique_id_produks = np.unique(np.concatenate(list(id_produks)))\n",
        "unique_id_users = np.unique(np.concatenate(list(id_users)))"
      ],
      "metadata": {
        "id": "bTFp84bMS87P"
      },
      "execution_count": null,
      "outputs": []
    },
    {
      "cell_type": "code",
      "source": [
        "class RankingModel(tf.keras.Model):\n",
        "\n",
        "  def __init__(self):\n",
        "    super().__init__()\n",
        "    embedding_dimension = 128\n",
        "\n",
        "    # Compute embeddings for users.\n",
        "    self.user_embeddings = tf.keras.Sequential([\n",
        "      tf.keras.layers.StringLookup(\n",
        "        vocabulary=unique_id_users, mask_token=None),\n",
        "      tf.keras.layers.Embedding(len(unique_id_users) + 1, embedding_dimension)\n",
        "    ])\n",
        "\n",
        "    # Compute embeddings for produks.\n",
        "    self.produk_embeddings = tf.keras.Sequential([\n",
        "      tf.keras.layers.StringLookup(\n",
        "        vocabulary=unique_id_produks, mask_token=None),\n",
        "      tf.keras.layers.Embedding(len(unique_id_produks) + 1, embedding_dimension)\n",
        "    ])\n",
        "\n",
        "    # Compute predictions.\n",
        "    self.ratings = tf.keras.Sequential([\n",
        "      # Learn multiple dense layers.\n",
        "      tf.keras.layers.Dense(32, activation=\"relu\"),\n",
        "      tf.keras.layers.Dense(32, activation=\"relu\"),\n",
        "      # Make rating predictions in the final layer.\n",
        "      tf.keras.layers.Dense(1)\n",
        "  ])\n",
        "\n",
        "  def call(self, inputs):\n",
        "\n",
        "    id_user, id_produk = inputs\n",
        "\n",
        "    user_embedding = self.user_embeddings(id_user)\n",
        "    produk_embedding = self.produk_embeddings(id_produk)\n",
        "\n",
        "    return self.ratings(tf.concat([user_embedding, produk_embedding], axis=1))"
      ],
      "metadata": {
        "id": "6smmblv8TiG3"
      },
      "execution_count": null,
      "outputs": []
    },
    {
      "cell_type": "code",
      "source": [
        "task = tfrs.tasks.Ranking(\n",
        "  loss = tf.keras.losses.MeanSquaredError(),\n",
        "  metrics=[tf.keras.metrics.RootMeanSquaredError()]\n",
        ")"
      ],
      "metadata": {
        "id": "cyKGYqfLT_kF"
      },
      "execution_count": null,
      "outputs": []
    },
    {
      "cell_type": "code",
      "source": [
        "class ProdRankingRecModel(tfrs.models.Model):\n",
        "\n",
        "  def __init__(self):\n",
        "    super().__init__()\n",
        "    self.ranking_model: tf.keras.Model = RankingModel()\n",
        "    self.task: tf.keras.layers.Layer = tfrs.tasks.Ranking(\n",
        "      loss = tf.keras.losses.MeanSquaredError(),\n",
        "      metrics=[tf.keras.metrics.RootMeanSquaredError()]\n",
        "    )\n",
        "\n",
        "  def call(self, features: Dict[str, tf.Tensor]) -> tf.Tensor:\n",
        "    return self.ranking_model(\n",
        "        (features[\"id_user\"], features[\"id_produk\"]))\n",
        "\n",
        "  def compute_loss(self, features: Dict[Text, tf.Tensor], training=False) -> tf.Tensor:\n",
        "    labels = features.pop(\"rating\")\n",
        "\n",
        "    rating_predictions = self(features)\n",
        "\n",
        "    # The task computes the loss and the metrics.\n",
        "    return self.task(labels=labels, predictions=rating_predictions)"
      ],
      "metadata": {
        "id": "eE1iafT-UKhp"
      },
      "execution_count": null,
      "outputs": []
    },
    {
      "cell_type": "code",
      "source": [
        "model = ProdRankingRecModel()\n",
        "model.compile(optimizer=tf.keras.optimizers.Adagrad(learning_rate=0.001))"
      ],
      "metadata": {
        "id": "11e0tj3IUmsW"
      },
      "execution_count": null,
      "outputs": []
    },
    {
      "cell_type": "code",
      "source": [
        "cached_train = train.shuffle(100).batch(16).cache()\n",
        "cached_test = test.batch(16).cache()"
      ],
      "metadata": {
        "id": "u_HvdcVvUrrO"
      },
      "execution_count": null,
      "outputs": []
    },
    {
      "cell_type": "code",
      "source": [
        "# Check Cached Data Length\n",
        "print(len(cached_train))\n",
        "print(len(cached_test))"
      ],
      "metadata": {
        "colab": {
          "base_uri": "https://localhost:8080/"
        },
        "id": "VxxDKs4OU0Ep",
        "outputId": "52d25158-187a-4e85-8022-56e334582bc6"
      },
      "execution_count": null,
      "outputs": [
        {
          "output_type": "stream",
          "name": "stdout",
          "text": [
            "150\n",
            "38\n"
          ]
        }
      ]
    },
    {
      "cell_type": "code",
      "source": [
        "history = model.fit(cached_train, epochs=100)"
      ],
      "metadata": {
        "colab": {
          "base_uri": "https://localhost:8080/"
        },
        "id": "lNNX_8GSU1p2",
        "outputId": "5df83c05-af27-4f50-881b-ff40f9d4ccdb"
      },
      "execution_count": null,
      "outputs": [
        {
          "output_type": "stream",
          "name": "stdout",
          "text": [
            "Epoch 1/100\n",
            "150/150 [==============================] - 2s 3ms/step - root_mean_squared_error: 3.1937 - loss: 10.2025 - regularization_loss: 0.0000e+00 - total_loss: 10.2025\n",
            "Epoch 2/100\n",
            "150/150 [==============================] - 0s 3ms/step - root_mean_squared_error: 3.0715 - loss: 9.4367 - regularization_loss: 0.0000e+00 - total_loss: 9.4367\n",
            "Epoch 3/100\n",
            "150/150 [==============================] - 1s 3ms/step - root_mean_squared_error: 2.9477 - loss: 8.6918 - regularization_loss: 0.0000e+00 - total_loss: 8.6918\n",
            "Epoch 4/100\n",
            "150/150 [==============================] - 0s 3ms/step - root_mean_squared_error: 2.8113 - loss: 7.9055 - regularization_loss: 0.0000e+00 - total_loss: 7.9055\n",
            "Epoch 5/100\n",
            "150/150 [==============================] - 1s 3ms/step - root_mean_squared_error: 2.6590 - loss: 7.0722 - regularization_loss: 0.0000e+00 - total_loss: 7.0722\n",
            "Epoch 6/100\n",
            "150/150 [==============================] - 0s 3ms/step - root_mean_squared_error: 2.4897 - loss: 6.2002 - regularization_loss: 0.0000e+00 - total_loss: 6.2002\n",
            "Epoch 7/100\n",
            "150/150 [==============================] - 0s 2ms/step - root_mean_squared_error: 2.3060 - loss: 5.3187 - regularization_loss: 0.0000e+00 - total_loss: 5.3187\n",
            "Epoch 8/100\n",
            "150/150 [==============================] - 0s 2ms/step - root_mean_squared_error: 2.1149 - loss: 4.4737 - regularization_loss: 0.0000e+00 - total_loss: 4.4737\n",
            "Epoch 9/100\n",
            "150/150 [==============================] - 0s 2ms/step - root_mean_squared_error: 1.9282 - loss: 3.7187 - regularization_loss: 0.0000e+00 - total_loss: 3.7187\n",
            "Epoch 10/100\n",
            "150/150 [==============================] - 0s 2ms/step - root_mean_squared_error: 1.7598 - loss: 3.0979 - regularization_loss: 0.0000e+00 - total_loss: 3.0979\n",
            "Epoch 11/100\n",
            "150/150 [==============================] - 0s 2ms/step - root_mean_squared_error: 1.6218 - loss: 2.6311 - regularization_loss: 0.0000e+00 - total_loss: 2.6311\n",
            "Epoch 12/100\n",
            "150/150 [==============================] - 0s 2ms/step - root_mean_squared_error: 1.5191 - loss: 2.3088 - regularization_loss: 0.0000e+00 - total_loss: 2.3088\n",
            "Epoch 13/100\n",
            "150/150 [==============================] - 0s 2ms/step - root_mean_squared_error: 1.4494 - loss: 2.1018 - regularization_loss: 0.0000e+00 - total_loss: 2.1018\n",
            "Epoch 14/100\n",
            "150/150 [==============================] - 0s 2ms/step - root_mean_squared_error: 1.4049 - loss: 1.9749 - regularization_loss: 0.0000e+00 - total_loss: 1.9749\n",
            "Epoch 15/100\n",
            "150/150 [==============================] - 0s 2ms/step - root_mean_squared_error: 1.3773 - loss: 1.8980 - regularization_loss: 0.0000e+00 - total_loss: 1.8980\n",
            "Epoch 16/100\n",
            "150/150 [==============================] - 0s 2ms/step - root_mean_squared_error: 1.3598 - loss: 1.8500 - regularization_loss: 0.0000e+00 - total_loss: 1.8500\n",
            "Epoch 17/100\n",
            "150/150 [==============================] - 0s 2ms/step - root_mean_squared_error: 1.3480 - loss: 1.8179 - regularization_loss: 0.0000e+00 - total_loss: 1.8179\n",
            "Epoch 18/100\n",
            "150/150 [==============================] - 0s 2ms/step - root_mean_squared_error: 1.3391 - loss: 1.7941 - regularization_loss: 0.0000e+00 - total_loss: 1.7941\n",
            "Epoch 19/100\n",
            "150/150 [==============================] - 0s 2ms/step - root_mean_squared_error: 1.3319 - loss: 1.7749 - regularization_loss: 0.0000e+00 - total_loss: 1.7749\n",
            "Epoch 20/100\n",
            "150/150 [==============================] - 0s 2ms/step - root_mean_squared_error: 1.3256 - loss: 1.7581 - regularization_loss: 0.0000e+00 - total_loss: 1.7581\n",
            "Epoch 21/100\n",
            "150/150 [==============================] - 0s 2ms/step - root_mean_squared_error: 1.3198 - loss: 1.7427 - regularization_loss: 0.0000e+00 - total_loss: 1.7427\n",
            "Epoch 22/100\n",
            "150/150 [==============================] - 0s 2ms/step - root_mean_squared_error: 1.3143 - loss: 1.7281 - regularization_loss: 0.0000e+00 - total_loss: 1.7281\n",
            "Epoch 23/100\n",
            "150/150 [==============================] - 0s 2ms/step - root_mean_squared_error: 1.3089 - loss: 1.7140 - regularization_loss: 0.0000e+00 - total_loss: 1.7140\n",
            "Epoch 24/100\n",
            "150/150 [==============================] - 0s 2ms/step - root_mean_squared_error: 1.3036 - loss: 1.7003 - regularization_loss: 0.0000e+00 - total_loss: 1.7003\n",
            "Epoch 25/100\n",
            "150/150 [==============================] - 0s 2ms/step - root_mean_squared_error: 1.2984 - loss: 1.6868 - regularization_loss: 0.0000e+00 - total_loss: 1.6868\n",
            "Epoch 26/100\n",
            "150/150 [==============================] - 0s 2ms/step - root_mean_squared_error: 1.2933 - loss: 1.6735 - regularization_loss: 0.0000e+00 - total_loss: 1.6735\n",
            "Epoch 27/100\n",
            "150/150 [==============================] - 0s 2ms/step - root_mean_squared_error: 1.2882 - loss: 1.6603 - regularization_loss: 0.0000e+00 - total_loss: 1.6603\n",
            "Epoch 28/100\n",
            "150/150 [==============================] - 0s 2ms/step - root_mean_squared_error: 1.2831 - loss: 1.6472 - regularization_loss: 0.0000e+00 - total_loss: 1.6472\n",
            "Epoch 29/100\n",
            "150/150 [==============================] - 0s 2ms/step - root_mean_squared_error: 1.2780 - loss: 1.6342 - regularization_loss: 0.0000e+00 - total_loss: 1.6342\n",
            "Epoch 30/100\n",
            "150/150 [==============================] - 0s 2ms/step - root_mean_squared_error: 1.2729 - loss: 1.6213 - regularization_loss: 0.0000e+00 - total_loss: 1.6213\n",
            "Epoch 31/100\n",
            "150/150 [==============================] - 0s 2ms/step - root_mean_squared_error: 1.2678 - loss: 1.6084 - regularization_loss: 0.0000e+00 - total_loss: 1.6084\n",
            "Epoch 32/100\n",
            "150/150 [==============================] - 0s 2ms/step - root_mean_squared_error: 1.2627 - loss: 1.5956 - regularization_loss: 0.0000e+00 - total_loss: 1.5956\n",
            "Epoch 33/100\n",
            "150/150 [==============================] - 0s 2ms/step - root_mean_squared_error: 1.2577 - loss: 1.5828 - regularization_loss: 0.0000e+00 - total_loss: 1.5828\n",
            "Epoch 34/100\n",
            "150/150 [==============================] - 0s 2ms/step - root_mean_squared_error: 1.2526 - loss: 1.5701 - regularization_loss: 0.0000e+00 - total_loss: 1.5701\n",
            "Epoch 35/100\n",
            "150/150 [==============================] - 0s 2ms/step - root_mean_squared_error: 1.2475 - loss: 1.5575 - regularization_loss: 0.0000e+00 - total_loss: 1.5575\n",
            "Epoch 36/100\n",
            "150/150 [==============================] - 0s 2ms/step - root_mean_squared_error: 1.2425 - loss: 1.5450 - regularization_loss: 0.0000e+00 - total_loss: 1.5450\n",
            "Epoch 37/100\n",
            "150/150 [==============================] - 0s 3ms/step - root_mean_squared_error: 1.2374 - loss: 1.5325 - regularization_loss: 0.0000e+00 - total_loss: 1.5325\n",
            "Epoch 38/100\n",
            "150/150 [==============================] - 1s 7ms/step - root_mean_squared_error: 1.2324 - loss: 1.5201 - regularization_loss: 0.0000e+00 - total_loss: 1.5201\n",
            "Epoch 39/100\n",
            "150/150 [==============================] - 1s 9ms/step - root_mean_squared_error: 1.2274 - loss: 1.5079 - regularization_loss: 0.0000e+00 - total_loss: 1.5079\n",
            "Epoch 40/100\n",
            "150/150 [==============================] - 1s 9ms/step - root_mean_squared_error: 1.2224 - loss: 1.4957 - regularization_loss: 0.0000e+00 - total_loss: 1.4957\n",
            "Epoch 41/100\n",
            "150/150 [==============================] - 0s 2ms/step - root_mean_squared_error: 1.2175 - loss: 1.4836 - regularization_loss: 0.0000e+00 - total_loss: 1.4836\n",
            "Epoch 42/100\n",
            "150/150 [==============================] - 0s 2ms/step - root_mean_squared_error: 1.2125 - loss: 1.4717 - regularization_loss: 0.0000e+00 - total_loss: 1.4717\n",
            "Epoch 43/100\n",
            "150/150 [==============================] - 0s 2ms/step - root_mean_squared_error: 1.2077 - loss: 1.4599 - regularization_loss: 0.0000e+00 - total_loss: 1.4599\n",
            "Epoch 44/100\n",
            "150/150 [==============================] - 0s 2ms/step - root_mean_squared_error: 1.2028 - loss: 1.4483 - regularization_loss: 0.0000e+00 - total_loss: 1.4483\n",
            "Epoch 45/100\n",
            "150/150 [==============================] - 0s 2ms/step - root_mean_squared_error: 1.1981 - loss: 1.4369 - regularization_loss: 0.0000e+00 - total_loss: 1.4369\n",
            "Epoch 46/100\n",
            "150/150 [==============================] - 0s 2ms/step - root_mean_squared_error: 1.1933 - loss: 1.4256 - regularization_loss: 0.0000e+00 - total_loss: 1.4256\n",
            "Epoch 47/100\n",
            "150/150 [==============================] - 0s 2ms/step - root_mean_squared_error: 1.1887 - loss: 1.4146 - regularization_loss: 0.0000e+00 - total_loss: 1.4146\n",
            "Epoch 48/100\n",
            "150/150 [==============================] - 0s 2ms/step - root_mean_squared_error: 1.1841 - loss: 1.4037 - regularization_loss: 0.0000e+00 - total_loss: 1.4037\n",
            "Epoch 49/100\n",
            "150/150 [==============================] - 0s 2ms/step - root_mean_squared_error: 1.1796 - loss: 1.3931 - regularization_loss: 0.0000e+00 - total_loss: 1.3931\n",
            "Epoch 50/100\n",
            "150/150 [==============================] - 0s 2ms/step - root_mean_squared_error: 1.1751 - loss: 1.3826 - regularization_loss: 0.0000e+00 - total_loss: 1.3826\n",
            "Epoch 51/100\n",
            "150/150 [==============================] - 0s 2ms/step - root_mean_squared_error: 1.1707 - loss: 1.3724 - regularization_loss: 0.0000e+00 - total_loss: 1.3724\n",
            "Epoch 52/100\n",
            "150/150 [==============================] - 0s 2ms/step - root_mean_squared_error: 1.1664 - loss: 1.3624 - regularization_loss: 0.0000e+00 - total_loss: 1.3624\n",
            "Epoch 53/100\n",
            "150/150 [==============================] - 0s 2ms/step - root_mean_squared_error: 1.1622 - loss: 1.3527 - regularization_loss: 0.0000e+00 - total_loss: 1.3527\n",
            "Epoch 54/100\n",
            "150/150 [==============================] - 0s 2ms/step - root_mean_squared_error: 1.1581 - loss: 1.3432 - regularization_loss: 0.0000e+00 - total_loss: 1.3432\n",
            "Epoch 55/100\n",
            "150/150 [==============================] - 0s 2ms/step - root_mean_squared_error: 1.1541 - loss: 1.3339 - regularization_loss: 0.0000e+00 - total_loss: 1.3339\n",
            "Epoch 56/100\n",
            "150/150 [==============================] - 0s 2ms/step - root_mean_squared_error: 1.1502 - loss: 1.3249 - regularization_loss: 0.0000e+00 - total_loss: 1.3249\n",
            "Epoch 57/100\n",
            "150/150 [==============================] - 0s 2ms/step - root_mean_squared_error: 1.1463 - loss: 1.3161 - regularization_loss: 0.0000e+00 - total_loss: 1.3161\n",
            "Epoch 58/100\n",
            "150/150 [==============================] - 0s 2ms/step - root_mean_squared_error: 1.1426 - loss: 1.3076 - regularization_loss: 0.0000e+00 - total_loss: 1.3076\n",
            "Epoch 59/100\n",
            "150/150 [==============================] - 0s 2ms/step - root_mean_squared_error: 1.1389 - loss: 1.2993 - regularization_loss: 0.0000e+00 - total_loss: 1.2993\n",
            "Epoch 60/100\n",
            "150/150 [==============================] - 0s 2ms/step - root_mean_squared_error: 1.1354 - loss: 1.2912 - regularization_loss: 0.0000e+00 - total_loss: 1.2912\n",
            "Epoch 61/100\n",
            "150/150 [==============================] - 0s 2ms/step - root_mean_squared_error: 1.1319 - loss: 1.2835 - regularization_loss: 0.0000e+00 - total_loss: 1.2835\n",
            "Epoch 62/100\n",
            "150/150 [==============================] - 0s 3ms/step - root_mean_squared_error: 1.1286 - loss: 1.2759 - regularization_loss: 0.0000e+00 - total_loss: 1.2759\n",
            "Epoch 63/100\n",
            "150/150 [==============================] - 0s 3ms/step - root_mean_squared_error: 1.1253 - loss: 1.2686 - regularization_loss: 0.0000e+00 - total_loss: 1.2686\n",
            "Epoch 64/100\n",
            "150/150 [==============================] - 0s 3ms/step - root_mean_squared_error: 1.1222 - loss: 1.2616 - regularization_loss: 0.0000e+00 - total_loss: 1.2616\n",
            "Epoch 65/100\n",
            "150/150 [==============================] - 0s 3ms/step - root_mean_squared_error: 1.1191 - loss: 1.2548 - regularization_loss: 0.0000e+00 - total_loss: 1.2548\n",
            "Epoch 66/100\n",
            "150/150 [==============================] - 0s 3ms/step - root_mean_squared_error: 1.1162 - loss: 1.2482 - regularization_loss: 0.0000e+00 - total_loss: 1.2482\n",
            "Epoch 67/100\n",
            "150/150 [==============================] - 0s 3ms/step - root_mean_squared_error: 1.1133 - loss: 1.2419 - regularization_loss: 0.0000e+00 - total_loss: 1.2419\n",
            "Epoch 68/100\n",
            "150/150 [==============================] - 0s 3ms/step - root_mean_squared_error: 1.1106 - loss: 1.2358 - regularization_loss: 0.0000e+00 - total_loss: 1.2358\n",
            "Epoch 69/100\n",
            "150/150 [==============================] - 0s 3ms/step - root_mean_squared_error: 1.1079 - loss: 1.2300 - regularization_loss: 0.0000e+00 - total_loss: 1.2300\n",
            "Epoch 70/100\n",
            "150/150 [==============================] - 0s 3ms/step - root_mean_squared_error: 1.1054 - loss: 1.2243 - regularization_loss: 0.0000e+00 - total_loss: 1.2243\n",
            "Epoch 71/100\n",
            "150/150 [==============================] - 0s 3ms/step - root_mean_squared_error: 1.1029 - loss: 1.2189 - regularization_loss: 0.0000e+00 - total_loss: 1.2189\n",
            "Epoch 72/100\n",
            "150/150 [==============================] - 0s 2ms/step - root_mean_squared_error: 1.1005 - loss: 1.2137 - regularization_loss: 0.0000e+00 - total_loss: 1.2137\n",
            "Epoch 73/100\n",
            "150/150 [==============================] - 0s 2ms/step - root_mean_squared_error: 1.0982 - loss: 1.2087 - regularization_loss: 0.0000e+00 - total_loss: 1.2087\n",
            "Epoch 74/100\n",
            "150/150 [==============================] - 0s 2ms/step - root_mean_squared_error: 1.0960 - loss: 1.2038 - regularization_loss: 0.0000e+00 - total_loss: 1.2038\n",
            "Epoch 75/100\n",
            "150/150 [==============================] - 0s 2ms/step - root_mean_squared_error: 1.0939 - loss: 1.1992 - regularization_loss: 0.0000e+00 - total_loss: 1.1992\n",
            "Epoch 76/100\n",
            "150/150 [==============================] - 0s 2ms/step - root_mean_squared_error: 1.0918 - loss: 1.1948 - regularization_loss: 0.0000e+00 - total_loss: 1.1948\n",
            "Epoch 77/100\n",
            "150/150 [==============================] - 0s 2ms/step - root_mean_squared_error: 1.0899 - loss: 1.1905 - regularization_loss: 0.0000e+00 - total_loss: 1.1905\n",
            "Epoch 78/100\n",
            "150/150 [==============================] - 0s 2ms/step - root_mean_squared_error: 1.0880 - loss: 1.1865 - regularization_loss: 0.0000e+00 - total_loss: 1.1865\n",
            "Epoch 79/100\n",
            "150/150 [==============================] - 0s 2ms/step - root_mean_squared_error: 1.0862 - loss: 1.1826 - regularization_loss: 0.0000e+00 - total_loss: 1.1826\n",
            "Epoch 80/100\n",
            "150/150 [==============================] - 0s 2ms/step - root_mean_squared_error: 1.0844 - loss: 1.1788 - regularization_loss: 0.0000e+00 - total_loss: 1.1788\n",
            "Epoch 81/100\n",
            "150/150 [==============================] - 0s 2ms/step - root_mean_squared_error: 1.0828 - loss: 1.1752 - regularization_loss: 0.0000e+00 - total_loss: 1.1752\n",
            "Epoch 82/100\n",
            "150/150 [==============================] - 0s 2ms/step - root_mean_squared_error: 1.0812 - loss: 1.1718 - regularization_loss: 0.0000e+00 - total_loss: 1.1718\n",
            "Epoch 83/100\n",
            "150/150 [==============================] - 0s 2ms/step - root_mean_squared_error: 1.0796 - loss: 1.1685 - regularization_loss: 0.0000e+00 - total_loss: 1.1685\n",
            "Epoch 84/100\n",
            "150/150 [==============================] - 0s 2ms/step - root_mean_squared_error: 1.0782 - loss: 1.1653 - regularization_loss: 0.0000e+00 - total_loss: 1.1653\n",
            "Epoch 85/100\n",
            "150/150 [==============================] - 0s 2ms/step - root_mean_squared_error: 1.0767 - loss: 1.1623 - regularization_loss: 0.0000e+00 - total_loss: 1.1623\n",
            "Epoch 86/100\n",
            "150/150 [==============================] - 0s 2ms/step - root_mean_squared_error: 1.0754 - loss: 1.1594 - regularization_loss: 0.0000e+00 - total_loss: 1.1594\n",
            "Epoch 87/100\n",
            "150/150 [==============================] - 0s 2ms/step - root_mean_squared_error: 1.0741 - loss: 1.1566 - regularization_loss: 0.0000e+00 - total_loss: 1.1566\n",
            "Epoch 88/100\n",
            "150/150 [==============================] - 0s 2ms/step - root_mean_squared_error: 1.0728 - loss: 1.1539 - regularization_loss: 0.0000e+00 - total_loss: 1.1539\n",
            "Epoch 89/100\n",
            "150/150 [==============================] - 0s 2ms/step - root_mean_squared_error: 1.0716 - loss: 1.1514 - regularization_loss: 0.0000e+00 - total_loss: 1.1514\n",
            "Epoch 90/100\n",
            "150/150 [==============================] - 0s 2ms/step - root_mean_squared_error: 1.0705 - loss: 1.1490 - regularization_loss: 0.0000e+00 - total_loss: 1.1490\n",
            "Epoch 91/100\n",
            "150/150 [==============================] - 0s 2ms/step - root_mean_squared_error: 1.0694 - loss: 1.1466 - regularization_loss: 0.0000e+00 - total_loss: 1.1466\n",
            "Epoch 92/100\n",
            "150/150 [==============================] - 0s 2ms/step - root_mean_squared_error: 1.0683 - loss: 1.1444 - regularization_loss: 0.0000e+00 - total_loss: 1.1444\n",
            "Epoch 93/100\n",
            "150/150 [==============================] - 0s 2ms/step - root_mean_squared_error: 1.0673 - loss: 1.1422 - regularization_loss: 0.0000e+00 - total_loss: 1.1422\n",
            "Epoch 94/100\n",
            "150/150 [==============================] - 0s 2ms/step - root_mean_squared_error: 1.0663 - loss: 1.1401 - regularization_loss: 0.0000e+00 - total_loss: 1.1401\n",
            "Epoch 95/100\n",
            "150/150 [==============================] - 0s 2ms/step - root_mean_squared_error: 1.0654 - loss: 1.1382 - regularization_loss: 0.0000e+00 - total_loss: 1.1382\n",
            "Epoch 96/100\n",
            "150/150 [==============================] - 0s 3ms/step - root_mean_squared_error: 1.0645 - loss: 1.1363 - regularization_loss: 0.0000e+00 - total_loss: 1.1363\n",
            "Epoch 97/100\n",
            "150/150 [==============================] - 0s 3ms/step - root_mean_squared_error: 1.0636 - loss: 1.1344 - regularization_loss: 0.0000e+00 - total_loss: 1.1344\n",
            "Epoch 98/100\n",
            "150/150 [==============================] - 0s 3ms/step - root_mean_squared_error: 1.0628 - loss: 1.1327 - regularization_loss: 0.0000e+00 - total_loss: 1.1327\n",
            "Epoch 99/100\n",
            "150/150 [==============================] - 0s 3ms/step - root_mean_squared_error: 1.0620 - loss: 1.1310 - regularization_loss: 0.0000e+00 - total_loss: 1.1310\n",
            "Epoch 100/100\n",
            "150/150 [==============================] - 0s 3ms/step - root_mean_squared_error: 1.0612 - loss: 1.1294 - regularization_loss: 0.0000e+00 - total_loss: 1.1294\n"
          ]
        }
      ]
    },
    {
      "cell_type": "code",
      "source": [
        "model.evaluate(cached_test, return_dict=True)"
      ],
      "metadata": {
        "colab": {
          "base_uri": "https://localhost:8080/"
        },
        "id": "J5zxM-DlaSlc",
        "outputId": "2b811dfb-0b81-424e-df40-5e07fdaccea4"
      },
      "execution_count": null,
      "outputs": [
        {
          "output_type": "stream",
          "name": "stdout",
          "text": [
            "38/38 [==============================] - 0s 2ms/step - root_mean_squared_error: 1.6614 - loss: 2.6877 - regularization_loss: 0.0000e+00 - total_loss: 2.6877\n"
          ]
        },
        {
          "output_type": "execute_result",
          "data": {
            "text/plain": [
              "{'root_mean_squared_error': 1.6613962650299072,\n",
              " 'loss': 0.8744914531707764,\n",
              " 'regularization_loss': 0,\n",
              " 'total_loss': 0.8744914531707764}"
            ]
          },
          "metadata": {},
          "execution_count": 22
        }
      ]
    },
    {
      "cell_type": "code",
      "source": [
        "import matplotlib.pyplot as plt\n",
        "\n",
        "rmse = history.history['root_mean_squared_error']\n",
        "loss = history.history['loss']\n",
        "\n",
        "epochs = range(len(rmse))\n",
        "\n",
        "plt.plot(epochs, rmse, 'r', label='RMSE')\n",
        "plt.plot(epochs, loss, 'b', label='LOSS')\n",
        "plt.title('Training Result Graph')\n",
        "plt.legend(loc=0)\n",
        "plt.figure()"
      ],
      "metadata": {
        "colab": {
          "base_uri": "https://localhost:8080/",
          "height": 487
        },
        "id": "ctEVUO2nVTbG",
        "outputId": "157ac6eb-9d3e-476c-c87f-f844361a83f7"
      },
      "execution_count": null,
      "outputs": [
        {
          "output_type": "execute_result",
          "data": {
            "text/plain": [
              "<Figure size 640x480 with 0 Axes>"
            ]
          },
          "metadata": {},
          "execution_count": 25
        },
        {
          "output_type": "display_data",
          "data": {
            "text/plain": [
              "<Figure size 640x480 with 1 Axes>"
            ],
            "image/png": "[encoded data removed]"
          },
          "metadata": {}
        },
        {
          "output_type": "display_data",
          "data": {
            "text/plain": [
              "<Figure size 640x480 with 0 Axes>"
            ]
          },
          "metadata": {}
        }
      ]
    },
    {
      "cell_type": "code",
      "source": [
        "tf.saved_model.save(model, \"ranking_model\")"
      ],
      "metadata": {
        "id": "OozPZLpsaVMm"
      },
      "execution_count": null,
      "outputs": []
    }
  ]
}