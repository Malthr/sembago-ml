{
  "cells": [
    {
      "cell_type": "markdown",
      "metadata": {
        "id": "view-in-github",
        "colab_type": "text"
      },
      "source": [
        "<a href=\"https://colab.research.google.com/github/Malthr/sembago-ml/blob/main/Recommendation_System.ipynb\" target=\"_parent\"><img src=\"https://colab.research.google.com/assets/colab-badge.svg\" alt=\"Open In Colab\"/></a>"
      ]
    },
    {
      "cell_type": "markdown",
      "metadata": {
        "id": "oC76i8X_b4Zk"
      },
      "source": [
        "Project ID : CH2-PS393\n",
        "\n",
        "Project Name: Sembago\n",
        "\n",
        "Project Themes: Food Accessibility, Agribusiness, and Food Security\n",
        "\n",
        "\n",
        "Project Team Members:\n",
        "\n",
        "(ML) M324BSY1271 - Syukri Mar-Am - Universitas Tanjungpura\n",
        "\n",
        "(ML) M359BSY1158 - Mohammad Alif Tuharea - Universitas Palangka Raya\n",
        "\n",
        "(ML) M131BSX1924 - Nevi Marita Rimadhani - Politeknik Negeri Malang\n",
        "\n",
        "(CC) C010BSY3251 - Bintang Satrya Leksono - Universitas Indonesia\n",
        "\n",
        "(CC) C568BKY4423 - Insanu Sholeh Jum Gunawan - Universitas Islam Negeri Walisongo Semarang\n",
        "\n",
        "(MD) A568BKX4455 - Siti Zikrina Farahdiba - Universitas Islam Negeri Walisongo Semarang\n",
        "\n",
        "(MD) A248BSY2902 - Farhan Aditya - Universitas Lampung"
      ]
    },
    {
      "cell_type": "code",
      "execution_count": 56,
      "metadata": {
        "id": "tk4Xd1JacQJj"
      },
      "outputs": [],
      "source": [
        "#Import Package\n",
        "\n",
        "import pandas as pd\n",
        "import numpy as np\n",
        "import pprint\n",
        "import os"
      ]
    },
    {
      "cell_type": "code",
      "execution_count": 2,
      "metadata": {
        "colab": {
          "base_uri": "https://localhost:8080/"
        },
        "id": "wp8KDXfEcssi",
        "outputId": "d4ac4834-0daf-4df7-ecbb-eb76f0e3eda4"
      },
      "outputs": [
        {
          "output_type": "stream",
          "name": "stdout",
          "text": [
            "Drive already mounted at /content/drive; to attempt to forcibly remount, call drive.mount(\"/content/drive\", force_remount=True).\n",
            "/content/drive/Shareddrives/Machine Learning CH2-PS393\n"
          ]
        }
      ],
      "source": [
        "from google.colab import drive\n",
        "\n",
        "drive.mount('/content/drive')\n",
        "%cd /content/drive/Shareddrives/Machine Learning CH2-PS393\n"
      ]
    },
    {
      "cell_type": "code",
      "source": [
        "df_rating = pd.read_csv('dummy_ratings.csv')\n",
        "display(df_rating)"
      ],
      "metadata": {
        "id": "CGg9Su-crjvS",
        "colab": {
          "base_uri": "https://localhost:8080/",
          "height": 423
        },
        "outputId": "a38a7f55-ec94-4125-f313-9b4fa0fb64eb"
      },
      "execution_count": 3,
      "outputs": [
        {
          "output_type": "display_data",
          "data": {
            "text/plain": [
              "    id_user id_produk id_market  rating\n",
              "0      b680      a074      b595       4\n",
              "1      b759      a248      b851       5\n",
              "2      c196      a356      c044       3\n",
              "3      c288      a519      c221       1\n",
              "4      c600      a612      g864       3\n",
              "..      ...       ...       ...     ...\n",
              "495    z204      z327      w285       5\n",
              "496    z303      z420      x399       5\n",
              "497    z360      z663      y554       4\n",
              "498    z584      z689      z840       2\n",
              "499    z647      z717      z874       4\n",
              "\n",
              "[500 rows x 4 columns]"
            ],
            "text/html": [
              "\n",
              "  <div id=\"df-0190ce04-19be-439a-9377-46c7bc0fbab6\" class=\"colab-df-container\">\n",
              "    <div>\n",
              "<style scoped>\n",
              "    .dataframe tbody tr th:only-of-type {\n",
              "        vertical-align: middle;\n",
              "    }\n",
              "\n",
              "    .dataframe tbody tr th {\n",
              "        vertical-align: top;\n",
              "    }\n",
              "\n",
              "    .dataframe thead th {\n",
              "        text-align: right;\n",
              "    }\n",
              "</style>\n",
              "<table border=\"1\" class=\"dataframe\">\n",
              "  <thead>\n",
              "    <tr style=\"text-align: right;\">\n",
              "      <th></th>\n",
              "      <th>id_user</th>\n",
              "      <th>id_produk</th>\n",
              "      <th>id_market</th>\n",
              "      <th>rating</th>\n",
              "    </tr>\n",
              "  </thead>\n",
              "  <tbody>\n",
              "    <tr>\n",
              "      <th>0</th>\n",
              "      <td>b680</td>\n",
              "      <td>a074</td>\n",
              "      <td>b595</td>\n",
              "      <td>4</td>\n",
              "    </tr>\n",
              "    <tr>\n",
              "      <th>1</th>\n",
              "      <td>b759</td>\n",
              "      <td>a248</td>\n",
              "      <td>b851</td>\n",
              "      <td>5</td>\n",
              "    </tr>\n",
              "    <tr>\n",
              "      <th>2</th>\n",
              "      <td>c196</td>\n",
              "      <td>a356</td>\n",
              "      <td>c044</td>\n",
              "      <td>3</td>\n",
              "    </tr>\n",
              "    <tr>\n",
              "      <th>3</th>\n",
              "      <td>c288</td>\n",
              "      <td>a519</td>\n",
              "      <td>c221</td>\n",
              "      <td>1</td>\n",
              "    </tr>\n",
              "    <tr>\n",
              "      <th>4</th>\n",
              "      <td>c600</td>\n",
              "      <td>a612</td>\n",
              "      <td>g864</td>\n",
              "      <td>3</td>\n",
              "    </tr>\n",
              "    <tr>\n",
              "      <th>...</th>\n",
              "      <td>...</td>\n",
              "      <td>...</td>\n",
              "      <td>...</td>\n",
              "      <td>...</td>\n",
              "    </tr>\n",
              "    <tr>\n",
              "      <th>495</th>\n",
              "      <td>z204</td>\n",
              "      <td>z327</td>\n",
              "      <td>w285</td>\n",
              "      <td>5</td>\n",
              "    </tr>\n",
              "    <tr>\n",
              "      <th>496</th>\n",
              "      <td>z303</td>\n",
              "      <td>z420</td>\n",
              "      <td>x399</td>\n",
              "      <td>5</td>\n",
              "    </tr>\n",
              "    <tr>\n",
              "      <th>497</th>\n",
              "      <td>z360</td>\n",
              "      <td>z663</td>\n",
              "      <td>y554</td>\n",
              "      <td>4</td>\n",
              "    </tr>\n",
              "    <tr>\n",
              "      <th>498</th>\n",
              "      <td>z584</td>\n",
              "      <td>z689</td>\n",
              "      <td>z840</td>\n",
              "      <td>2</td>\n",
              "    </tr>\n",
              "    <tr>\n",
              "      <th>499</th>\n",
              "      <td>z647</td>\n",
              "      <td>z717</td>\n",
              "      <td>z874</td>\n",
              "      <td>4</td>\n",
              "    </tr>\n",
              "  </tbody>\n",
              "</table>\n",
              "<p>500 rows × 4 columns</p>\n",
              "</div>\n",
              "    <div class=\"colab-df-buttons\">\n",
              "\n",
              "  <div class=\"colab-df-container\">\n",
              "    <button class=\"colab-df-convert\" onclick=\"convertToInteractive('df-0190ce04-19be-439a-9377-46c7bc0fbab6')\"\n",
              "            title=\"Convert this dataframe to an interactive table.\"\n",
              "            style=\"display:none;\">\n",
              "\n",
              "  <svg xmlns=\"http://www.w3.org/2000/svg\" height=\"24px\" viewBox=\"0 -960 960 960\">\n",
              "    <path d=\"M120-120v-720h720v720H120Zm60-500h600v-160H180v160Zm220 220h160v-160H400v160Zm0 220h160v-160H400v160ZM180-400h160v-160H180v160Zm440 0h160v-160H620v160ZM180-180h160v-160H180v160Zm440 0h160v-160H620v160Z\"/>\n",
              "  </svg>\n",
              "    </button>\n",
              "\n",
              "  <style>\n",
              "    .colab-df-container {\n",
              "      display:flex;\n",
              "      gap: 12px;\n",
              "    }\n",
              "\n",
              "    .colab-df-convert {\n",
              "      background-color: #E8F0FE;\n",
              "      border: none;\n",
              "      border-radius: 50%;\n",
              "      cursor: pointer;\n",
              "      display: none;\n",
              "      fill: #1967D2;\n",
              "      height: 32px;\n",
              "      padding: 0 0 0 0;\n",
              "      width: 32px;\n",
              "    }\n",
              "\n",
              "    .colab-df-convert:hover {\n",
              "      background-color: #E2EBFA;\n",
              "      box-shadow: 0px 1px 2px rgba(60, 64, 67, 0.3), 0px 1px 3px 1px rgba(60, 64, 67, 0.15);\n",
              "      fill: #174EA6;\n",
              "    }\n",
              "\n",
              "    .colab-df-buttons div {\n",
              "      margin-bottom: 4px;\n",
              "    }\n",
              "\n",
              "    [theme=dark] .colab-df-convert {\n",
              "      background-color: #3B4455;\n",
              "      fill: #D2E3FC;\n",
              "    }\n",
              "\n",
              "    [theme=dark] .colab-df-convert:hover {\n",
              "      background-color: #434B5C;\n",
              "      box-shadow: 0px 1px 3px 1px rgba(0, 0, 0, 0.15);\n",
              "      filter: drop-shadow(0px 1px 2px rgba(0, 0, 0, 0.3));\n",
              "      fill: #FFFFFF;\n",
              "    }\n",
              "  </style>\n",
              "\n",
              "    <script>\n",
              "      const buttonEl =\n",
              "        document.querySelector('#df-0190ce04-19be-439a-9377-46c7bc0fbab6 button.colab-df-convert');\n",
              "      buttonEl.style.display =\n",
              "        google.colab.kernel.accessAllowed ? 'block' : 'none';\n",
              "\n",
              "      async function convertToInteractive(key) {\n",
              "        const element = document.querySelector('#df-0190ce04-19be-439a-9377-46c7bc0fbab6');\n",
              "        const dataTable =\n",
              "          await google.colab.kernel.invokeFunction('convertToInteractive',\n",
              "                                                    [key], {});\n",
              "        if (!dataTable) return;\n",
              "\n",
              "        const docLinkHtml = 'Like what you see? Visit the ' +\n",
              "          '<a target=\"_blank\" href=https://colab.research.google.com/notebooks/data_table.ipynb>data table notebook</a>'\n",
              "          + ' to learn more about interactive tables.';\n",
              "        element.innerHTML = '';\n",
              "        dataTable['output_type'] = 'display_data';\n",
              "        await google.colab.output.renderOutput(dataTable, element);\n",
              "        const docLink = document.createElement('div');\n",
              "        docLink.innerHTML = docLinkHtml;\n",
              "        element.appendChild(docLink);\n",
              "      }\n",
              "    </script>\n",
              "  </div>\n",
              "\n",
              "\n",
              "<div id=\"df-7f59d8f6-8097-462c-9aae-2bb1ad50a1da\">\n",
              "  <button class=\"colab-df-quickchart\" onclick=\"quickchart('df-7f59d8f6-8097-462c-9aae-2bb1ad50a1da')\"\n",
              "            title=\"Suggest charts\"\n",
              "            style=\"display:none;\">\n",
              "\n",
              "<svg xmlns=\"http://www.w3.org/2000/svg\" height=\"24px\"viewBox=\"0 0 24 24\"\n",
              "     width=\"24px\">\n",
              "    <g>\n",
              "        <path d=\"M19 3H5c-1.1 0-2 .9-2 2v14c0 1.1.9 2 2 2h14c1.1 0 2-.9 2-2V5c0-1.1-.9-2-2-2zM9 17H7v-7h2v7zm4 0h-2V7h2v10zm4 0h-2v-4h2v4z\"/>\n",
              "    </g>\n",
              "</svg>\n",
              "  </button>\n",
              "\n",
              "<style>\n",
              "  .colab-df-quickchart {\n",
              "      --bg-color: #E8F0FE;\n",
              "      --fill-color: #1967D2;\n",
              "      --hover-bg-color: #E2EBFA;\n",
              "      --hover-fill-color: #174EA6;\n",
              "      --disabled-fill-color: #AAA;\n",
              "      --disabled-bg-color: #DDD;\n",
              "  }\n",
              "\n",
              "  [theme=dark] .colab-df-quickchart {\n",
              "      --bg-color: #3B4455;\n",
              "      --fill-color: #D2E3FC;\n",
              "      --hover-bg-color: #434B5C;\n",
              "      --hover-fill-color: #FFFFFF;\n",
              "      --disabled-bg-color: #3B4455;\n",
              "      --disabled-fill-color: #666;\n",
              "  }\n",
              "\n",
              "  .colab-df-quickchart {\n",
              "    background-color: var(--bg-color);\n",
              "    border: none;\n",
              "    border-radius: 50%;\n",
              "    cursor: pointer;\n",
              "    display: none;\n",
              "    fill: var(--fill-color);\n",
              "    height: 32px;\n",
              "    padding: 0;\n",
              "    width: 32px;\n",
              "  }\n",
              "\n",
              "  .colab-df-quickchart:hover {\n",
              "    background-color: var(--hover-bg-color);\n",
              "    box-shadow: 0 1px 2px rgba(60, 64, 67, 0.3), 0 1px 3px 1px rgba(60, 64, 67, 0.15);\n",
              "    fill: var(--button-hover-fill-color);\n",
              "  }\n",
              "\n",
              "  .colab-df-quickchart-complete:disabled,\n",
              "  .colab-df-quickchart-complete:disabled:hover {\n",
              "    background-color: var(--disabled-bg-color);\n",
              "    fill: var(--disabled-fill-color);\n",
              "    box-shadow: none;\n",
              "  }\n",
              "\n",
              "  .colab-df-spinner {\n",
              "    border: 2px solid var(--fill-color);\n",
              "    border-color: transparent;\n",
              "    border-bottom-color: var(--fill-color);\n",
              "    animation:\n",
              "      spin 1s steps(1) infinite;\n",
              "  }\n",
              "\n",
              "  @keyframes spin {\n",
              "    0% {\n",
              "      border-color: transparent;\n",
              "      border-bottom-color: var(--fill-color);\n",
              "      border-left-color: var(--fill-color);\n",
              "    }\n",
              "    20% {\n",
              "      border-color: transparent;\n",
              "      border-left-color: var(--fill-color);\n",
              "      border-top-color: var(--fill-color);\n",
              "    }\n",
              "    30% {\n",
              "      border-color: transparent;\n",
              "      border-left-color: var(--fill-color);\n",
              "      border-top-color: var(--fill-color);\n",
              "      border-right-color: var(--fill-color);\n",
              "    }\n",
              "    40% {\n",
              "      border-color: transparent;\n",
              "      border-right-color: var(--fill-color);\n",
              "      border-top-color: var(--fill-color);\n",
              "    }\n",
              "    60% {\n",
              "      border-color: transparent;\n",
              "      border-right-color: var(--fill-color);\n",
              "    }\n",
              "    80% {\n",
              "      border-color: transparent;\n",
              "      border-right-color: var(--fill-color);\n",
              "      border-bottom-color: var(--fill-color);\n",
              "    }\n",
              "    90% {\n",
              "      border-color: transparent;\n",
              "      border-bottom-color: var(--fill-color);\n",
              "    }\n",
              "  }\n",
              "</style>\n",
              "\n",
              "  <script>\n",
              "    async function quickchart(key) {\n",
              "      const quickchartButtonEl =\n",
              "        document.querySelector('#' + key + ' button');\n",
              "      quickchartButtonEl.disabled = true;  // To prevent multiple clicks.\n",
              "      quickchartButtonEl.classList.add('colab-df-spinner');\n",
              "      try {\n",
              "        const charts = await google.colab.kernel.invokeFunction(\n",
              "            'suggestCharts', [key], {});\n",
              "      } catch (error) {\n",
              "        console.error('Error during call to suggestCharts:', error);\n",
              "      }\n",
              "      quickchartButtonEl.classList.remove('colab-df-spinner');\n",
              "      quickchartButtonEl.classList.add('colab-df-quickchart-complete');\n",
              "    }\n",
              "    (() => {\n",
              "      let quickchartButtonEl =\n",
              "        document.querySelector('#df-7f59d8f6-8097-462c-9aae-2bb1ad50a1da button');\n",
              "      quickchartButtonEl.style.display =\n",
              "        google.colab.kernel.accessAllowed ? 'block' : 'none';\n",
              "    })();\n",
              "  </script>\n",
              "</div>\n",
              "    </div>\n",
              "  </div>\n"
            ]
          },
          "metadata": {}
        }
      ]
    },
    {
      "cell_type": "code",
      "source": [
        "df_user = pd.read_csv('dummy_produk.csv')\n",
        "display(df_user)"
      ],
      "metadata": {
        "colab": {
          "base_uri": "https://localhost:8080/",
          "height": 423
        },
        "id": "VqppGqjxWiDk",
        "outputId": "44b3af0c-7ebf-4f72-c632-b2b5937e273e"
      },
      "execution_count": 4,
      "outputs": [
        {
          "output_type": "display_data",
          "data": {
            "text/plain": [
              "    id_produk id_market nama_produk  stok\n",
              "0        a074      s685       Bruen    37\n",
              "1        a248      j668    Bernhard    42\n",
              "2        a356      n829     Effertz    47\n",
              "3        a519      s408     Shields    38\n",
              "4        a612      s926       White    21\n",
              "..        ...       ...         ...   ...\n",
              "245      z327      h995   Jaskolski    48\n",
              "246      z420      g864     Goodwin    29\n",
              "247      z663      h995    Bergnaum    28\n",
              "248      z689      b595   Rodriguez    37\n",
              "249      z717      h995    Franecki    12\n",
              "\n",
              "[250 rows x 4 columns]"
            ],
            "text/html": [
              "\n",
              "  <div id=\"df-ab3b57fa-8953-4141-acf1-a9d86eb73d52\" class=\"colab-df-container\">\n",
              "    <div>\n",
              "<style scoped>\n",
              "    .dataframe tbody tr th:only-of-type {\n",
              "        vertical-align: middle;\n",
              "    }\n",
              "\n",
              "    .dataframe tbody tr th {\n",
              "        vertical-align: top;\n",
              "    }\n",
              "\n",
              "    .dataframe thead th {\n",
              "        text-align: right;\n",
              "    }\n",
              "</style>\n",
              "<table border=\"1\" class=\"dataframe\">\n",
              "  <thead>\n",
              "    <tr style=\"text-align: right;\">\n",
              "      <th></th>\n",
              "      <th>id_produk</th>\n",
              "      <th>id_market</th>\n",
              "      <th>nama_produk</th>\n",
              "      <th>stok</th>\n",
              "    </tr>\n",
              "  </thead>\n",
              "  <tbody>\n",
              "    <tr>\n",
              "      <th>0</th>\n",
              "      <td>a074</td>\n",
              "      <td>s685</td>\n",
              "      <td>Bruen</td>\n",
              "      <td>37</td>\n",
              "    </tr>\n",
              "    <tr>\n",
              "      <th>1</th>\n",
              "      <td>a248</td>\n",
              "      <td>j668</td>\n",
              "      <td>Bernhard</td>\n",
              "      <td>42</td>\n",
              "    </tr>\n",
              "    <tr>\n",
              "      <th>2</th>\n",
              "      <td>a356</td>\n",
              "      <td>n829</td>\n",
              "      <td>Effertz</td>\n",
              "      <td>47</td>\n",
              "    </tr>\n",
              "    <tr>\n",
              "      <th>3</th>\n",
              "      <td>a519</td>\n",
              "      <td>s408</td>\n",
              "      <td>Shields</td>\n",
              "      <td>38</td>\n",
              "    </tr>\n",
              "    <tr>\n",
              "      <th>4</th>\n",
              "      <td>a612</td>\n",
              "      <td>s926</td>\n",
              "      <td>White</td>\n",
              "      <td>21</td>\n",
              "    </tr>\n",
              "    <tr>\n",
              "      <th>...</th>\n",
              "      <td>...</td>\n",
              "      <td>...</td>\n",
              "      <td>...</td>\n",
              "      <td>...</td>\n",
              "    </tr>\n",
              "    <tr>\n",
              "      <th>245</th>\n",
              "      <td>z327</td>\n",
              "      <td>h995</td>\n",
              "      <td>Jaskolski</td>\n",
              "      <td>48</td>\n",
              "    </tr>\n",
              "    <tr>\n",
              "      <th>246</th>\n",
              "      <td>z420</td>\n",
              "      <td>g864</td>\n",
              "      <td>Goodwin</td>\n",
              "      <td>29</td>\n",
              "    </tr>\n",
              "    <tr>\n",
              "      <th>247</th>\n",
              "      <td>z663</td>\n",
              "      <td>h995</td>\n",
              "      <td>Bergnaum</td>\n",
              "      <td>28</td>\n",
              "    </tr>\n",
              "    <tr>\n",
              "      <th>248</th>\n",
              "      <td>z689</td>\n",
              "      <td>b595</td>\n",
              "      <td>Rodriguez</td>\n",
              "      <td>37</td>\n",
              "    </tr>\n",
              "    <tr>\n",
              "      <th>249</th>\n",
              "      <td>z717</td>\n",
              "      <td>h995</td>\n",
              "      <td>Franecki</td>\n",
              "      <td>12</td>\n",
              "    </tr>\n",
              "  </tbody>\n",
              "</table>\n",
              "<p>250 rows × 4 columns</p>\n",
              "</div>\n",
              "    <div class=\"colab-df-buttons\">\n",
              "\n",
              "  <div class=\"colab-df-container\">\n",
              "    <button class=\"colab-df-convert\" onclick=\"convertToInteractive('df-ab3b57fa-8953-4141-acf1-a9d86eb73d52')\"\n",
              "            title=\"Convert this dataframe to an interactive table.\"\n",
              "            style=\"display:none;\">\n",
              "\n",
              "  <svg xmlns=\"http://www.w3.org/2000/svg\" height=\"24px\" viewBox=\"0 -960 960 960\">\n",
              "    <path d=\"M120-120v-720h720v720H120Zm60-500h600v-160H180v160Zm220 220h160v-160H400v160Zm0 220h160v-160H400v160ZM180-400h160v-160H180v160Zm440 0h160v-160H620v160ZM180-180h160v-160H180v160Zm440 0h160v-160H620v160Z\"/>\n",
              "  </svg>\n",
              "    </button>\n",
              "\n",
              "  <style>\n",
              "    .colab-df-container {\n",
              "      display:flex;\n",
              "      gap: 12px;\n",
              "    }\n",
              "\n",
              "    .colab-df-convert {\n",
              "      background-color: #E8F0FE;\n",
              "      border: none;\n",
              "      border-radius: 50%;\n",
              "      cursor: pointer;\n",
              "      display: none;\n",
              "      fill: #1967D2;\n",
              "      height: 32px;\n",
              "      padding: 0 0 0 0;\n",
              "      width: 32px;\n",
              "    }\n",
              "\n",
              "    .colab-df-convert:hover {\n",
              "      background-color: #E2EBFA;\n",
              "      box-shadow: 0px 1px 2px rgba(60, 64, 67, 0.3), 0px 1px 3px 1px rgba(60, 64, 67, 0.15);\n",
              "      fill: #174EA6;\n",
              "    }\n",
              "\n",
              "    .colab-df-buttons div {\n",
              "      margin-bottom: 4px;\n",
              "    }\n",
              "\n",
              "    [theme=dark] .colab-df-convert {\n",
              "      background-color: #3B4455;\n",
              "      fill: #D2E3FC;\n",
              "    }\n",
              "\n",
              "    [theme=dark] .colab-df-convert:hover {\n",
              "      background-color: #434B5C;\n",
              "      box-shadow: 0px 1px 3px 1px rgba(0, 0, 0, 0.15);\n",
              "      filter: drop-shadow(0px 1px 2px rgba(0, 0, 0, 0.3));\n",
              "      fill: #FFFFFF;\n",
              "    }\n",
              "  </style>\n",
              "\n",
              "    <script>\n",
              "      const buttonEl =\n",
              "        document.querySelector('#df-ab3b57fa-8953-4141-acf1-a9d86eb73d52 button.colab-df-convert');\n",
              "      buttonEl.style.display =\n",
              "        google.colab.kernel.accessAllowed ? 'block' : 'none';\n",
              "\n",
              "      async function convertToInteractive(key) {\n",
              "        const element = document.querySelector('#df-ab3b57fa-8953-4141-acf1-a9d86eb73d52');\n",
              "        const dataTable =\n",
              "          await google.colab.kernel.invokeFunction('convertToInteractive',\n",
              "                                                    [key], {});\n",
              "        if (!dataTable) return;\n",
              "\n",
              "        const docLinkHtml = 'Like what you see? Visit the ' +\n",
              "          '<a target=\"_blank\" href=https://colab.research.google.com/notebooks/data_table.ipynb>data table notebook</a>'\n",
              "          + ' to learn more about interactive tables.';\n",
              "        element.innerHTML = '';\n",
              "        dataTable['output_type'] = 'display_data';\n",
              "        await google.colab.output.renderOutput(dataTable, element);\n",
              "        const docLink = document.createElement('div');\n",
              "        docLink.innerHTML = docLinkHtml;\n",
              "        element.appendChild(docLink);\n",
              "      }\n",
              "    </script>\n",
              "  </div>\n",
              "\n",
              "\n",
              "<div id=\"df-74d58852-c515-4349-932a-4480ad635e07\">\n",
              "  <button class=\"colab-df-quickchart\" onclick=\"quickchart('df-74d58852-c515-4349-932a-4480ad635e07')\"\n",
              "            title=\"Suggest charts\"\n",
              "            style=\"display:none;\">\n",
              "\n",
              "<svg xmlns=\"http://www.w3.org/2000/svg\" height=\"24px\"viewBox=\"0 0 24 24\"\n",
              "     width=\"24px\">\n",
              "    <g>\n",
              "        <path d=\"M19 3H5c-1.1 0-2 .9-2 2v14c0 1.1.9 2 2 2h14c1.1 0 2-.9 2-2V5c0-1.1-.9-2-2-2zM9 17H7v-7h2v7zm4 0h-2V7h2v10zm4 0h-2v-4h2v4z\"/>\n",
              "    </g>\n",
              "</svg>\n",
              "  </button>\n",
              "\n",
              "<style>\n",
              "  .colab-df-quickchart {\n",
              "      --bg-color: #E8F0FE;\n",
              "      --fill-color: #1967D2;\n",
              "      --hover-bg-color: #E2EBFA;\n",
              "      --hover-fill-color: #174EA6;\n",
              "      --disabled-fill-color: #AAA;\n",
              "      --disabled-bg-color: #DDD;\n",
              "  }\n",
              "\n",
              "  [theme=dark] .colab-df-quickchart {\n",
              "      --bg-color: #3B4455;\n",
              "      --fill-color: #D2E3FC;\n",
              "      --hover-bg-color: #434B5C;\n",
              "      --hover-fill-color: #FFFFFF;\n",
              "      --disabled-bg-color: #3B4455;\n",
              "      --disabled-fill-color: #666;\n",
              "  }\n",
              "\n",
              "  .colab-df-quickchart {\n",
              "    background-color: var(--bg-color);\n",
              "    border: none;\n",
              "    border-radius: 50%;\n",
              "    cursor: pointer;\n",
              "    display: none;\n",
              "    fill: var(--fill-color);\n",
              "    height: 32px;\n",
              "    padding: 0;\n",
              "    width: 32px;\n",
              "  }\n",
              "\n",
              "  .colab-df-quickchart:hover {\n",
              "    background-color: var(--hover-bg-color);\n",
              "    box-shadow: 0 1px 2px rgba(60, 64, 67, 0.3), 0 1px 3px 1px rgba(60, 64, 67, 0.15);\n",
              "    fill: var(--button-hover-fill-color);\n",
              "  }\n",
              "\n",
              "  .colab-df-quickchart-complete:disabled,\n",
              "  .colab-df-quickchart-complete:disabled:hover {\n",
              "    background-color: var(--disabled-bg-color);\n",
              "    fill: var(--disabled-fill-color);\n",
              "    box-shadow: none;\n",
              "  }\n",
              "\n",
              "  .colab-df-spinner {\n",
              "    border: 2px solid var(--fill-color);\n",
              "    border-color: transparent;\n",
              "    border-bottom-color: var(--fill-color);\n",
              "    animation:\n",
              "      spin 1s steps(1) infinite;\n",
              "  }\n",
              "\n",
              "  @keyframes spin {\n",
              "    0% {\n",
              "      border-color: transparent;\n",
              "      border-bottom-color: var(--fill-color);\n",
              "      border-left-color: var(--fill-color);\n",
              "    }\n",
              "    20% {\n",
              "      border-color: transparent;\n",
              "      border-left-color: var(--fill-color);\n",
              "      border-top-color: var(--fill-color);\n",
              "    }\n",
              "    30% {\n",
              "      border-color: transparent;\n",
              "      border-left-color: var(--fill-color);\n",
              "      border-top-color: var(--fill-color);\n",
              "      border-right-color: var(--fill-color);\n",
              "    }\n",
              "    40% {\n",
              "      border-color: transparent;\n",
              "      border-right-color: var(--fill-color);\n",
              "      border-top-color: var(--fill-color);\n",
              "    }\n",
              "    60% {\n",
              "      border-color: transparent;\n",
              "      border-right-color: var(--fill-color);\n",
              "    }\n",
              "    80% {\n",
              "      border-color: transparent;\n",
              "      border-right-color: var(--fill-color);\n",
              "      border-bottom-color: var(--fill-color);\n",
              "    }\n",
              "    90% {\n",
              "      border-color: transparent;\n",
              "      border-bottom-color: var(--fill-color);\n",
              "    }\n",
              "  }\n",
              "</style>\n",
              "\n",
              "  <script>\n",
              "    async function quickchart(key) {\n",
              "      const quickchartButtonEl =\n",
              "        document.querySelector('#' + key + ' button');\n",
              "      quickchartButtonEl.disabled = true;  // To prevent multiple clicks.\n",
              "      quickchartButtonEl.classList.add('colab-df-spinner');\n",
              "      try {\n",
              "        const charts = await google.colab.kernel.invokeFunction(\n",
              "            'suggestCharts', [key], {});\n",
              "      } catch (error) {\n",
              "        console.error('Error during call to suggestCharts:', error);\n",
              "      }\n",
              "      quickchartButtonEl.classList.remove('colab-df-spinner');\n",
              "      quickchartButtonEl.classList.add('colab-df-quickchart-complete');\n",
              "    }\n",
              "    (() => {\n",
              "      let quickchartButtonEl =\n",
              "        document.querySelector('#df-74d58852-c515-4349-932a-4480ad635e07 button');\n",
              "      quickchartButtonEl.style.display =\n",
              "        google.colab.kernel.accessAllowed ? 'block' : 'none';\n",
              "    })();\n",
              "  </script>\n",
              "</div>\n",
              "    </div>\n",
              "  </div>\n"
            ]
          },
          "metadata": {}
        }
      ]
    },
    {
      "cell_type": "code",
      "source": [
        "!pip install -q tensorflow-recommenders\n",
        "!pip install -q --upgrade tensorflow-datasets\n",
        "import tensorflow as tf\n",
        "import tensorflow_recommenders as tfrs\n",
        "import tensorflow_datasets as tfds"
      ],
      "metadata": {
        "id": "KqkVNx_TgMhN"
      },
      "execution_count": 5,
      "outputs": []
    },
    {
      "cell_type": "code",
      "source": [
        "# Convert CSV Dataset into TensorFlow Dataset\n",
        "def load_dataset(file_path, features, labels=None):\n",
        "  df = pd.read_csv(file_path)\n",
        "\n",
        "  features = df[features]\n",
        "\n",
        "  if labels:\n",
        "    labels = df[labels]\n",
        "    dataset = tf.data.Dataset.from_tensor_slices((dict(features), labels))\n",
        "  else:\n",
        "    dataset = tf.data.Dataset.from_tensor_slices(dict(features))\n",
        "\n",
        "  return dataset"
      ],
      "metadata": {
        "id": "RAvvG2tKgSyQ"
      },
      "execution_count": 6,
      "outputs": []
    },
    {
      "cell_type": "code",
      "source": [
        "ratings = load_dataset('dummy_ratings.csv', ['id_user', 'id_produk', 'id_market'])\n",
        "produks = load_dataset('dummy_produk.csv', ['id_produk', 'id_market'])"
      ],
      "metadata": {
        "id": "XHTqYIs4kHGm"
      },
      "execution_count": 7,
      "outputs": []
    },
    {
      "cell_type": "code",
      "source": [
        "for x in produks.take(1):\n",
        "  pprint.pprint(x)"
      ],
      "metadata": {
        "colab": {
          "base_uri": "https://localhost:8080/"
        },
        "id": "xuRrJ8qKWXAr",
        "outputId": "6e66bcc1-86fe-49bd-c617-977b66cda826"
      },
      "execution_count": 8,
      "outputs": [
        {
          "output_type": "stream",
          "name": "stdout",
          "text": [
            "{'id_market': <tf.Tensor: shape=(), dtype=string, numpy=b's685'>,\n",
            " 'id_produk': <tf.Tensor: shape=(), dtype=string, numpy=b'a074'>}\n"
          ]
        }
      ]
    },
    {
      "cell_type": "code",
      "source": [
        "for x in ratings.take(1):\n",
        "  pprint.pprint(x)"
      ],
      "metadata": {
        "colab": {
          "base_uri": "https://localhost:8080/"
        },
        "id": "tg2WOEJPY79Y",
        "outputId": "c6962a06-fe53-4ef1-9d3e-f0c1357473b1"
      },
      "execution_count": 9,
      "outputs": [
        {
          "output_type": "stream",
          "name": "stdout",
          "text": [
            "{'id_market': <tf.Tensor: shape=(), dtype=string, numpy=b'b595'>,\n",
            " 'id_produk': <tf.Tensor: shape=(), dtype=string, numpy=b'a074'>,\n",
            " 'id_user': <tf.Tensor: shape=(), dtype=string, numpy=b'b680'>}\n"
          ]
        }
      ]
    },
    {
      "cell_type": "code",
      "source": [
        "rating_size = len(list(ratings))\n",
        "\n",
        "train_size = int(0.7 * rating_size)\n",
        "val_size = int(0.15 * rating_size)\n",
        "test_size = rating_size - train_size - val_size\n",
        "\n",
        "ratings_train = ratings.take(train_size)\n",
        "ratings_temp = ratings.skip(train_size)\n",
        "ratings_val = ratings_temp.take(val_size)\n",
        "ratings_test = ratings_temp.skip(val_size)"
      ],
      "metadata": {
        "id": "TCWrDzj9sm16"
      },
      "execution_count": 10,
      "outputs": []
    },
    {
      "cell_type": "code",
      "source": [
        "produks_size = len(list(produks))\n",
        "\n",
        "train_size = int(0.7 * produks_size)\n",
        "val_size = int(0.15 * produks_size)\n",
        "test_size = produks_size - train_size - val_size\n",
        "\n",
        "produks_train = produks.take(train_size)\n",
        "produks_temp = produks.skip(train_size)\n",
        "produks_val = produks_temp.take(val_size)\n",
        "produks_test = produks_temp.skip(val_size)"
      ],
      "metadata": {
        "id": "CcipBdNRsokW"
      },
      "execution_count": 11,
      "outputs": []
    },
    {
      "cell_type": "code",
      "source": [
        "for x in ratings.take(1):\n",
        "  pprint.pprint(x)"
      ],
      "metadata": {
        "colab": {
          "base_uri": "https://localhost:8080/"
        },
        "id": "m-zRfpDqW-vI",
        "outputId": "83af5942-3286-4ea4-e0af-b7b154ae28c6"
      },
      "execution_count": 12,
      "outputs": [
        {
          "output_type": "stream",
          "name": "stdout",
          "text": [
            "{'id_market': <tf.Tensor: shape=(), dtype=string, numpy=b'b595'>,\n",
            " 'id_produk': <tf.Tensor: shape=(), dtype=string, numpy=b'a074'>,\n",
            " 'id_user': <tf.Tensor: shape=(), dtype=string, numpy=b'b680'>}\n"
          ]
        }
      ]
    },
    {
      "cell_type": "code",
      "source": [
        "for x in produks.take(1):\n",
        "  pprint.pprint(x)"
      ],
      "metadata": {
        "colab": {
          "base_uri": "https://localhost:8080/"
        },
        "id": "KV8oo_QkZApa",
        "outputId": "f778458d-2520-4da5-9f69-99035bbdb941"
      },
      "execution_count": 13,
      "outputs": [
        {
          "output_type": "stream",
          "name": "stdout",
          "text": [
            "{'id_market': <tf.Tensor: shape=(), dtype=string, numpy=b's685'>,\n",
            " 'id_produk': <tf.Tensor: shape=(), dtype=string, numpy=b'a074'>}\n"
          ]
        }
      ]
    },
    {
      "cell_type": "code",
      "source": [
        "sample_element = next(iter(produks_train))\n",
        "sample_element_keys = list(sample_element.keys())\n",
        "\n",
        "print(\"Key names in the dataset:\", sample_element_keys)\n",
        "\n",
        "sample_element = next(iter(ratings_train))\n",
        "sample_element_keys = list(sample_element.keys())\n",
        "\n",
        "print(\"Key names in the dataset:\", sample_element_keys)"
      ],
      "metadata": {
        "colab": {
          "base_uri": "https://localhost:8080/"
        },
        "id": "OKbObFREC936",
        "outputId": "7f781919-ea66-42d2-e24f-958086398654"
      },
      "execution_count": 14,
      "outputs": [
        {
          "output_type": "stream",
          "name": "stdout",
          "text": [
            "Key names in the dataset: ['id_produk', 'id_market']\n",
            "Key names in the dataset: ['id_user', 'id_produk', 'id_market']\n"
          ]
        }
      ]
    },
    {
      "cell_type": "code",
      "source": [
        "ratings = ratings.map(lambda x: {\n",
        "    \"id_user\": x[\"id_user\"],\n",
        "    \"id_produk\": x[\"id_produk\"],\n",
        "})\n",
        "\n",
        "produks = produks.map(lambda x: {\n",
        "    \"id_produk\": x[\"id_produk\"],\n",
        "})"
      ],
      "metadata": {
        "id": "JvHm_Q1h93QQ"
      },
      "execution_count": 15,
      "outputs": []
    },
    {
      "cell_type": "code",
      "source": [
        "for x in ratings.take(1):\n",
        "  pprint.pprint(x)"
      ],
      "metadata": {
        "colab": {
          "base_uri": "https://localhost:8080/"
        },
        "id": "vJ_gdO6yZIDL",
        "outputId": "187e6251-35b3-4eec-fc64-376dfaf8254d"
      },
      "execution_count": 16,
      "outputs": [
        {
          "output_type": "stream",
          "name": "stdout",
          "text": [
            "{'id_produk': <tf.Tensor: shape=(), dtype=string, numpy=b'a074'>,\n",
            " 'id_user': <tf.Tensor: shape=(), dtype=string, numpy=b'b680'>}\n"
          ]
        }
      ]
    },
    {
      "cell_type": "code",
      "source": [
        "for x in produks.take(1):\n",
        "  pprint.pprint(x)"
      ],
      "metadata": {
        "colab": {
          "base_uri": "https://localhost:8080/"
        },
        "id": "opQsP5BqZGmY",
        "outputId": "9f005cb8-eecb-416d-c29c-90cb440c7918"
      },
      "execution_count": 17,
      "outputs": [
        {
          "output_type": "stream",
          "name": "stdout",
          "text": [
            "{'id_produk': <tf.Tensor: shape=(), dtype=string, numpy=b'a074'>}\n"
          ]
        }
      ]
    },
    {
      "cell_type": "code",
      "source": [
        "print(len(produks))"
      ],
      "metadata": {
        "colab": {
          "base_uri": "https://localhost:8080/"
        },
        "id": "DOmRUHc2Q4Me",
        "outputId": "0d4321e0-9169-4806-cd4b-c8f2b503abec"
      },
      "execution_count": 18,
      "outputs": [
        {
          "output_type": "stream",
          "name": "stdout",
          "text": [
            "250\n"
          ]
        }
      ]
    },
    {
      "cell_type": "code",
      "source": [
        "tf.random.set_seed(42)\n",
        "shuffled = ratings.shuffle(1_000, seed=42, reshuffle_each_iteration=False)\n",
        "\n",
        "train_percentage = 80\n",
        "\n",
        "train_size = int(train_percentage / 100 * len(ratings))\n",
        "\n",
        "train = shuffled.take(train_size)\n",
        "test = shuffled.skip(train_size).take(200)"
      ],
      "metadata": {
        "id": "QQXBhV3u-VOl"
      },
      "execution_count": 19,
      "outputs": []
    },
    {
      "cell_type": "code",
      "source": [
        "print(len(list(test)))"
      ],
      "metadata": {
        "colab": {
          "base_uri": "https://localhost:8080/"
        },
        "id": "DCbEBlXxO784",
        "outputId": "fbf66aae-0a66-409f-f4bf-cd5c3dee7f85"
      },
      "execution_count": 20,
      "outputs": [
        {
          "output_type": "stream",
          "name": "stdout",
          "text": [
            "100\n"
          ]
        }
      ]
    },
    {
      "cell_type": "code",
      "source": [
        "for x in produks.take(5).as_numpy_iterator():\n",
        "  pprint.pprint(x)"
      ],
      "metadata": {
        "colab": {
          "base_uri": "https://localhost:8080/"
        },
        "id": "Bx-l6XEBYm4A",
        "outputId": "fc0cbf42-b271-4a23-dfcf-0585429fbeba"
      },
      "execution_count": 21,
      "outputs": [
        {
          "output_type": "stream",
          "name": "stdout",
          "text": [
            "{'id_produk': b'a074'}\n",
            "{'id_produk': b'a248'}\n",
            "{'id_produk': b'a356'}\n",
            "{'id_produk': b'a519'}\n",
            "{'id_produk': b'a612'}\n"
          ]
        }
      ]
    },
    {
      "cell_type": "code",
      "source": [
        "produks_batched = produks.batch(100).map(lambda x: x[\"id_produk\"])\n",
        "ratings_batched = ratings.batch(300).map(lambda x: x[\"id_user\"])"
      ],
      "metadata": {
        "id": "S8wEP-dyneX9"
      },
      "execution_count": 22,
      "outputs": []
    },
    {
      "cell_type": "code",
      "source": [
        "for x in produks_batched.take(1):\n",
        "    print(x)"
      ],
      "metadata": {
        "colab": {
          "base_uri": "https://localhost:8080/"
        },
        "id": "4E_KciX1wN6c",
        "outputId": "328f5157-00cb-4447-b9d5-90fbcbf45a0e"
      },
      "execution_count": 23,
      "outputs": [
        {
          "output_type": "stream",
          "name": "stdout",
          "text": [
            "tf.Tensor(\n",
            "[b'a074' b'a248' b'a356' b'a519' b'a612' b'a680' b'a937' b'a966' b'b008'\n",
            " b'b194' b'b248' b'b267' b'b277' b'b352' b'b444' b'b524' b'b538' b'b548'\n",
            " b'b711' b'b800' b'b851' b'b866' b'b889' b'b999' b'c001' b'c215' b'c459'\n",
            " b'c466' b'c513' b'c527' b'c572' b'c582' b'c733' b'c980' b'd011' b'd181'\n",
            " b'd208' b'd313' b'd355' b'd378' b'd411' b'd696' b'd735' b'd938' b'e090'\n",
            " b'e112' b'e439' b'e488' b'e720' b'e799' b'e826' b'e837' b'e908' b'f003'\n",
            " b'f024' b'f116' b'f139' b'f238' b'f243' b'f247' b'f399' b'f494' b'f686'\n",
            " b'f770' b'f861' b'f867' b'f902' b'g124' b'g134' b'g269' b'g332' b'g517'\n",
            " b'g652' b'g786' b'g857' b'g875' b'g960' b'h101' b'h299' b'h367' b'h652'\n",
            " b'h667' b'i146' b'i239' b'i276' b'i294' b'i409' b'i581' b'i848' b'i870'\n",
            " b'i973' b'j004' b'j065' b'j066' b'j200' b'j485' b'j614' b'j723' b'j787'\n",
            " b'j810'], shape=(100,), dtype=string)\n"
          ]
        }
      ]
    },
    {
      "cell_type": "code",
      "source": [
        "for x in ratings_batched.take(1):\n",
        "  pprint.pprint(x)"
      ],
      "metadata": {
        "colab": {
          "base_uri": "https://localhost:8080/"
        },
        "id": "iCMrwAmTYAps",
        "outputId": "6ff891f7-d948-45ee-9954-efbac495df03"
      },
      "execution_count": 24,
      "outputs": [
        {
          "output_type": "stream",
          "name": "stdout",
          "text": [
            "<tf.Tensor: shape=(300,), dtype=string, numpy=\n",
            "array([b'b680', b'b759', b'c196', b'c288', b'c600', b'c627', b'c662',\n",
            "       b'c723', b'c797', b'd314', b'd907', b'e156', b'e440', b'e721',\n",
            "       b'e973', b'f201', b'f255', b'f567', b'f734', b'f804', b'g006',\n",
            "       b'g035', b'g124', b'g971', b'h156', b'h868', b'i266', b'i375',\n",
            "       b'i620', b'i744', b'i838', b'j210', b'j320', b'j504', b'k393',\n",
            "       b'k760', b'l005', b'l403', b'l687', b'l698', b'm172', b'm733',\n",
            "       b'n066', b'n751', b'n845', b'o512', b'o541', b'o755', b'p135',\n",
            "       b'p414', b'p620', b'p985', b'q050', b'q174', b'q263', b'q369',\n",
            "       b'q370', b'q413', b'q422', b'q612', b'q702', b'q823', b'q970',\n",
            "       b'r138', b'r871', b'r986', b's715', b's993', b't085', b't111',\n",
            "       b't132', b't204', b't300', b't786', b'u199', b'u806', b'v541',\n",
            "       b'v564', b'v613', b'v623', b'v916', b'v946', b'v948', b'w601',\n",
            "       b'w612', b'w754', b'x231', b'x385', b'x999', b'y005', b'y328',\n",
            "       b'y704', b'y947', b'z022', b'z165', b'z204', b'z303', b'z360',\n",
            "       b'z584', b'z647', b'b680', b'b759', b'c196', b'c288', b'c600',\n",
            "       b'c627', b'c662', b'c723', b'c797', b'd314', b'd907', b'e156',\n",
            "       b'e440', b'e721', b'e973', b'f201', b'f255', b'f567', b'f734',\n",
            "       b'f804', b'g006', b'g035', b'g124', b'g971', b'h156', b'h868',\n",
            "       b'i266', b'i375', b'i620', b'i744', b'i838', b'j210', b'j320',\n",
            "       b'j504', b'k393', b'k760', b'l005', b'l403', b'l687', b'l698',\n",
            "       b'm172', b'm733', b'n066', b'n751', b'n845', b'o512', b'o541',\n",
            "       b'o755', b'p135', b'p414', b'p620', b'p985', b'q050', b'q174',\n",
            "       b'q263', b'q369', b'q370', b'q413', b'q422', b'q612', b'q702',\n",
            "       b'q823', b'q970', b'r138', b'r871', b'r986', b's715', b's993',\n",
            "       b't085', b't111', b't132', b't204', b't300', b't786', b'u199',\n",
            "       b'u806', b'v541', b'v564', b'v613', b'v623', b'v916', b'v946',\n",
            "       b'v948', b'w601', b'w612', b'w754', b'x231', b'x385', b'x999',\n",
            "       b'y005', b'y328', b'y704', b'y947', b'z022', b'z165', b'z204',\n",
            "       b'z303', b'z360', b'z584', b'z647', b'b680', b'b759', b'c196',\n",
            "       b'c288', b'c600', b'c627', b'c662', b'c723', b'c797', b'd314',\n",
            "       b'd907', b'e156', b'e440', b'e721', b'e973', b'f201', b'f255',\n",
            "       b'f567', b'f734', b'f804', b'g006', b'g035', b'g124', b'g971',\n",
            "       b'h156', b'h868', b'i266', b'i375', b'i620', b'i744', b'i838',\n",
            "       b'j210', b'j320', b'j504', b'k393', b'k760', b'l005', b'l403',\n",
            "       b'l687', b'l698', b'm172', b'm733', b'n066', b'n751', b'n845',\n",
            "       b'o512', b'o541', b'o755', b'p135', b'p414', b'p620', b'p985',\n",
            "       b'q050', b'q174', b'q263', b'q369', b'q370', b'q413', b'q422',\n",
            "       b'q612', b'q702', b'q823', b'q970', b'r138', b'r871', b'r986',\n",
            "       b's715', b's993', b't085', b't111', b't132', b't204', b't300',\n",
            "       b't786', b'u199', b'u806', b'v541', b'v564', b'v613', b'v623',\n",
            "       b'v916', b'v946', b'v948', b'w601', b'w612', b'w754', b'x231',\n",
            "       b'x385', b'x999', b'y005', b'y328', b'y704', b'y947', b'z022',\n",
            "       b'z165', b'z204', b'z303', b'z360', b'z584', b'z647'], dtype=object)>\n"
          ]
        }
      ]
    },
    {
      "cell_type": "code",
      "source": [
        "unique_id_users = np.unique(np.concatenate(list(ratings_batched)))\n",
        "unique_id_produks = np.unique(np.concatenate(list(produks_batched)))"
      ],
      "metadata": {
        "id": "lx82wlvPZRxy"
      },
      "execution_count": 25,
      "outputs": []
    },
    {
      "cell_type": "code",
      "source": [
        "unique_id_users = np.unique([entry['id_user'].numpy() for entry in ratings]).astype(object)\n",
        "unique_id_produks = np.unique([entry['id_produk'].numpy() for entry in produks]).astype(object)"
      ],
      "metadata": {
        "id": "Q2lag5yiu8k3"
      },
      "execution_count": 26,
      "outputs": []
    },
    {
      "cell_type": "code",
      "source": [
        "unique_id_users[:10]"
      ],
      "metadata": {
        "colab": {
          "base_uri": "https://localhost:8080/"
        },
        "id": "duJJF-aL_N8a",
        "outputId": "8481b9ef-acb9-4a1c-b07d-db66b9f38180"
      },
      "execution_count": 27,
      "outputs": [
        {
          "output_type": "execute_result",
          "data": {
            "text/plain": [
              "array([b'b680', b'b759', b'c196', b'c288', b'c600', b'c627', b'c662',\n",
              "       b'c723', b'c797', b'd314'], dtype=object)"
            ]
          },
          "metadata": {},
          "execution_count": 27
        }
      ]
    },
    {
      "cell_type": "code",
      "source": [
        "user_model = tf.keras.Sequential([\n",
        "  tf.keras.layers.StringLookup(\n",
        "      vocabulary=unique_id_users, mask_token=None),\n",
        "  # We add an additional embedding to account for unknown tokens.\n",
        "  tf.keras.layers.Embedding(len(unique_id_users) + 1, 64)\n",
        "])"
      ],
      "metadata": {
        "id": "9yx0qPdGty0M"
      },
      "execution_count": 40,
      "outputs": []
    },
    {
      "cell_type": "code",
      "source": [
        "produk_model = tf.keras.Sequential([\n",
        "    tf.keras.layers.StringLookup(\n",
        "        vocabulary=unique_id_produks, mask_token=None),\n",
        "    tf.keras.layers.Embedding(len(unique_id_produks) + 1, 64)\n",
        "])"
      ],
      "metadata": {
        "id": "CxHiKVT0aN2c"
      },
      "execution_count": 41,
      "outputs": []
    },
    {
      "cell_type": "code",
      "source": [
        "for x in produks.take(5):\n",
        "    print(x)"
      ],
      "metadata": {
        "colab": {
          "base_uri": "https://localhost:8080/"
        },
        "id": "LCg8K0vwklvn",
        "outputId": "b67a802b-c6c4-44f9-c81d-4feaaa19ad8c"
      },
      "execution_count": 30,
      "outputs": [
        {
          "output_type": "stream",
          "name": "stdout",
          "text": [
            "{'id_produk': <tf.Tensor: shape=(), dtype=string, numpy=b'a074'>}\n",
            "{'id_produk': <tf.Tensor: shape=(), dtype=string, numpy=b'a248'>}\n",
            "{'id_produk': <tf.Tensor: shape=(), dtype=string, numpy=b'a356'>}\n",
            "{'id_produk': <tf.Tensor: shape=(), dtype=string, numpy=b'a519'>}\n",
            "{'id_produk': <tf.Tensor: shape=(), dtype=string, numpy=b'a612'>}\n"
          ]
        }
      ]
    },
    {
      "cell_type": "code",
      "source": [
        "metrics = tfrs.metrics.FactorizedTopK(\n",
        "  candidates=produks_batched.map(produk_model)\n",
        ")"
      ],
      "metadata": {
        "id": "8w6P4R0vaVS0"
      },
      "execution_count": 42,
      "outputs": []
    },
    {
      "cell_type": "code",
      "source": [
        "task = tfrs.tasks.Retrieval(\n",
        "  metrics=metrics\n",
        ")"
      ],
      "metadata": {
        "id": "7f70DvitdtPW"
      },
      "execution_count": 43,
      "outputs": []
    },
    {
      "cell_type": "code",
      "source": [
        "from typing import Dict, Text\n",
        "\n",
        "class ProdukRecModel(tfrs.Model):\n",
        "\n",
        "  def __init__(self, user_model, produk_model, task):\n",
        "    super().__init__()\n",
        "    self.user_model: tf.keras.Model = user_model\n",
        "    self.produk_model: tf.keras.Model = produk_model\n",
        "    self.task: tf.keras.layers.Layer = task\n",
        "\n",
        "  def compute_loss(self, features: Dict[Text, tf.Tensor], training=False) -> tf.Tensor:\n",
        "    # We pick out the user features and pass them into the user model.\n",
        "    user_embeddings = self.user_model(features[\"id_user\"])\n",
        "    # And pick out the produk features and pass them into the produk model,\n",
        "    # getting embeddings back.\n",
        "    positive_produk_embeddings = self.produk_model(features[\"id_produk\"])\n",
        "\n",
        "    # The task computes the loss and the metrics.\n",
        "    return self.task(user_embeddings, positive_produk_embeddings)\n"
      ],
      "metadata": {
        "id": "PZcsyovfEh2C"
      },
      "execution_count": 44,
      "outputs": []
    },
    {
      "cell_type": "code",
      "source": [
        "class NoBaseClassProdukRecModel(tf.keras.Model):\n",
        "\n",
        "  def __init__(self, user_model, produk_model, task):\n",
        "    super().__init__()\n",
        "    self.user_model: tf.keras.Model = user_model\n",
        "    self.produk_model: tf.keras.Model = produk_model\n",
        "    self.task: tf.keras.layers.Layer = task\n",
        "\n",
        "  def train_step(self, features: Dict[Text, tf.Tensor]) -> tf.Tensor:\n",
        "    # Set up a gradient tape to record gradients.\n",
        "    with tf.GradientTape() as tape:\n",
        "      # Loss computation.\n",
        "      user_embeddings = self.user_model(features[\"id_user\"])\n",
        "      positive_produk_embeddings = self.produk_model(features[\"id_produk\"])\n",
        "      loss = self.task(user_embeddings, positive_produk_embeddings)\n",
        "\n",
        "      # Handle regularization losses as well.\n",
        "      regularization_loss = sum(self.losses)\n",
        "\n",
        "      total_loss = loss + regularization_loss\n",
        "\n",
        "    gradients = tape.gradient(total_loss, self.trainable_variables)\n",
        "    self.optimizer.apply_gradients(zip(gradients, self.trainable_variables))\n",
        "\n",
        "    metrics = {metric.name: metric.result() for metric in self.metrics}\n",
        "    metrics[\"loss\"] = loss\n",
        "    metrics[\"regularization_loss\"] = regularization_loss\n",
        "    metrics[\"total_loss\"] = total_loss\n",
        "\n",
        "    return metrics\n",
        "\n",
        "  def test_step(self, features: Dict[Text, tf.Tensor]) -> tf.Tensor:\n",
        "    # Loss computation.\n",
        "    user_embeddings = self.user_model(features[\"id_user\"])\n",
        "    positive_produk_embeddings = self.produk_model(features[\"id_produk\"])\n",
        "    loss = self.task(user_embeddings, positive_produk_embeddings)\n",
        "\n",
        "    # Handle regularization losses as well.\n",
        "    regularization_loss = sum(self.losses)\n",
        "\n",
        "    total_loss = loss + regularization_loss\n",
        "\n",
        "    metrics = {metric.name: metric.result() for metric in self.metrics}\n",
        "    metrics[\"loss\"] = loss\n",
        "    metrics[\"regularization_loss\"] = regularization_loss\n",
        "    metrics[\"total_loss\"] = total_loss\n",
        "\n",
        "    return metrics"
      ],
      "metadata": {
        "id": "t_8nJpoUJ18n"
      },
      "execution_count": 45,
      "outputs": []
    },
    {
      "cell_type": "code",
      "source": [
        "model = ProdukRecModel(user_model, produk_model, task)\n",
        "model.compile(optimizer=tf.keras.optimizers.Adagrad(learning_rate=0.0001))"
      ],
      "metadata": {
        "id": "_PNxsSrAKZbx"
      },
      "execution_count": 51,
      "outputs": []
    },
    {
      "cell_type": "code",
      "source": [
        "cached_train = train.shuffle(100).batch(8192).cache()\n",
        "cached_test = test.batch(100).cache()"
      ],
      "metadata": {
        "id": "oytbIvVPKeYM"
      },
      "execution_count": 48,
      "outputs": []
    },
    {
      "cell_type": "code",
      "source": [
        "model.fit(cached_train, epochs=250)"
      ],
      "metadata": {
        "colab": {
          "base_uri": "https://localhost:8080/"
        },
        "id": "OF0GObPQKitR",
        "outputId": "4f6d15f8-4688-44c5-87fe-499fff674132"
      },
      "execution_count": 52,
      "outputs": [
        {
          "output_type": "stream",
          "name": "stdout",
          "text": [
            "Epoch 1/250\n",
            "1/1 [==============================] - 1s 1s/step - factorized_top_k/top_1_categorical_accuracy: 0.0000e+00 - factorized_top_k/top_5_categorical_accuracy: 0.9225 - factorized_top_k/top_10_categorical_accuracy: 1.0000 - factorized_top_k/top_50_categorical_accuracy: 1.0000 - factorized_top_k/top_100_categorical_accuracy: 1.0000 - loss: 2338.5972 - regularization_loss: 0.0000e+00 - total_loss: 2338.5972\n",
            "Epoch 2/250\n",
            "1/1 [==============================] - 0s 78ms/step - factorized_top_k/top_1_categorical_accuracy: 0.0000e+00 - factorized_top_k/top_5_categorical_accuracy: 0.9225 - factorized_top_k/top_10_categorical_accuracy: 1.0000 - factorized_top_k/top_50_categorical_accuracy: 1.0000 - factorized_top_k/top_100_categorical_accuracy: 1.0000 - loss: 2338.5068 - regularization_loss: 0.0000e+00 - total_loss: 2338.5068\n",
            "Epoch 3/250\n",
            "1/1 [==============================] - 0s 80ms/step - factorized_top_k/top_1_categorical_accuracy: 0.0000e+00 - factorized_top_k/top_5_categorical_accuracy: 0.9225 - factorized_top_k/top_10_categorical_accuracy: 1.0000 - factorized_top_k/top_50_categorical_accuracy: 1.0000 - factorized_top_k/top_100_categorical_accuracy: 1.0000 - loss: 2338.4248 - regularization_loss: 0.0000e+00 - total_loss: 2338.4248\n",
            "Epoch 4/250\n",
            "1/1 [==============================] - 0s 76ms/step - factorized_top_k/top_1_categorical_accuracy: 0.0000e+00 - factorized_top_k/top_5_categorical_accuracy: 0.9225 - factorized_top_k/top_10_categorical_accuracy: 1.0000 - factorized_top_k/top_50_categorical_accuracy: 1.0000 - factorized_top_k/top_100_categorical_accuracy: 1.0000 - loss: 2338.3491 - regularization_loss: 0.0000e+00 - total_loss: 2338.3491\n",
            "Epoch 5/250\n",
            "1/1 [==============================] - 0s 78ms/step - factorized_top_k/top_1_categorical_accuracy: 0.0000e+00 - factorized_top_k/top_5_categorical_accuracy: 0.9225 - factorized_top_k/top_10_categorical_accuracy: 1.0000 - factorized_top_k/top_50_categorical_accuracy: 1.0000 - factorized_top_k/top_100_categorical_accuracy: 1.0000 - loss: 2338.2781 - regularization_loss: 0.0000e+00 - total_loss: 2338.2781\n",
            "Epoch 6/250\n",
            "1/1 [==============================] - 0s 136ms/step - factorized_top_k/top_1_categorical_accuracy: 0.0000e+00 - factorized_top_k/top_5_categorical_accuracy: 0.9225 - factorized_top_k/top_10_categorical_accuracy: 1.0000 - factorized_top_k/top_50_categorical_accuracy: 1.0000 - factorized_top_k/top_100_categorical_accuracy: 1.0000 - loss: 2338.2109 - regularization_loss: 0.0000e+00 - total_loss: 2338.2109\n",
            "Epoch 7/250\n",
            "1/1 [==============================] - 0s 81ms/step - factorized_top_k/top_1_categorical_accuracy: 0.0000e+00 - factorized_top_k/top_5_categorical_accuracy: 0.9225 - factorized_top_k/top_10_categorical_accuracy: 1.0000 - factorized_top_k/top_50_categorical_accuracy: 1.0000 - factorized_top_k/top_100_categorical_accuracy: 1.0000 - loss: 2338.1465 - regularization_loss: 0.0000e+00 - total_loss: 2338.1465\n",
            "Epoch 8/250\n",
            "1/1 [==============================] - 0s 79ms/step - factorized_top_k/top_1_categorical_accuracy: 0.0000e+00 - factorized_top_k/top_5_categorical_accuracy: 0.9225 - factorized_top_k/top_10_categorical_accuracy: 1.0000 - factorized_top_k/top_50_categorical_accuracy: 1.0000 - factorized_top_k/top_100_categorical_accuracy: 1.0000 - loss: 2338.0852 - regularization_loss: 0.0000e+00 - total_loss: 2338.0852\n",
            "Epoch 9/250\n",
            "1/1 [==============================] - 0s 85ms/step - factorized_top_k/top_1_categorical_accuracy: 0.0000e+00 - factorized_top_k/top_5_categorical_accuracy: 0.9225 - factorized_top_k/top_10_categorical_accuracy: 1.0000 - factorized_top_k/top_50_categorical_accuracy: 1.0000 - factorized_top_k/top_100_categorical_accuracy: 1.0000 - loss: 2338.0259 - regularization_loss: 0.0000e+00 - total_loss: 2338.0259\n",
            "Epoch 10/250\n",
            "1/1 [==============================] - 0s 81ms/step - factorized_top_k/top_1_categorical_accuracy: 0.0000e+00 - factorized_top_k/top_5_categorical_accuracy: 0.9225 - factorized_top_k/top_10_categorical_accuracy: 1.0000 - factorized_top_k/top_50_categorical_accuracy: 1.0000 - factorized_top_k/top_100_categorical_accuracy: 1.0000 - loss: 2337.9688 - regularization_loss: 0.0000e+00 - total_loss: 2337.9688\n",
            "Epoch 11/250\n",
            "1/1 [==============================] - 0s 84ms/step - factorized_top_k/top_1_categorical_accuracy: 0.0000e+00 - factorized_top_k/top_5_categorical_accuracy: 0.9200 - factorized_top_k/top_10_categorical_accuracy: 1.0000 - factorized_top_k/top_50_categorical_accuracy: 1.0000 - factorized_top_k/top_100_categorical_accuracy: 1.0000 - loss: 2337.9136 - regularization_loss: 0.0000e+00 - total_loss: 2337.9136\n",
            "Epoch 12/250\n",
            "1/1 [==============================] - 0s 77ms/step - factorized_top_k/top_1_categorical_accuracy: 0.0000e+00 - factorized_top_k/top_5_categorical_accuracy: 0.9200 - factorized_top_k/top_10_categorical_accuracy: 1.0000 - factorized_top_k/top_50_categorical_accuracy: 1.0000 - factorized_top_k/top_100_categorical_accuracy: 1.0000 - loss: 2337.8599 - regularization_loss: 0.0000e+00 - total_loss: 2337.8599\n",
            "Epoch 13/250\n",
            "1/1 [==============================] - 0s 85ms/step - factorized_top_k/top_1_categorical_accuracy: 0.0000e+00 - factorized_top_k/top_5_categorical_accuracy: 0.9200 - factorized_top_k/top_10_categorical_accuracy: 1.0000 - factorized_top_k/top_50_categorical_accuracy: 1.0000 - factorized_top_k/top_100_categorical_accuracy: 1.0000 - loss: 2337.8081 - regularization_loss: 0.0000e+00 - total_loss: 2337.8081\n",
            "Epoch 14/250\n",
            "1/1 [==============================] - 0s 98ms/step - factorized_top_k/top_1_categorical_accuracy: 0.0000e+00 - factorized_top_k/top_5_categorical_accuracy: 0.9200 - factorized_top_k/top_10_categorical_accuracy: 1.0000 - factorized_top_k/top_50_categorical_accuracy: 1.0000 - factorized_top_k/top_100_categorical_accuracy: 1.0000 - loss: 2337.7573 - regularization_loss: 0.0000e+00 - total_loss: 2337.7573\n",
            "Epoch 15/250\n",
            "1/1 [==============================] - 0s 77ms/step - factorized_top_k/top_1_categorical_accuracy: 0.0000e+00 - factorized_top_k/top_5_categorical_accuracy: 0.9200 - factorized_top_k/top_10_categorical_accuracy: 1.0000 - factorized_top_k/top_50_categorical_accuracy: 1.0000 - factorized_top_k/top_100_categorical_accuracy: 1.0000 - loss: 2337.7080 - regularization_loss: 0.0000e+00 - total_loss: 2337.7080\n",
            "Epoch 16/250\n",
            "1/1 [==============================] - 0s 80ms/step - factorized_top_k/top_1_categorical_accuracy: 0.0000e+00 - factorized_top_k/top_5_categorical_accuracy: 0.9200 - factorized_top_k/top_10_categorical_accuracy: 1.0000 - factorized_top_k/top_50_categorical_accuracy: 1.0000 - factorized_top_k/top_100_categorical_accuracy: 1.0000 - loss: 2337.6597 - regularization_loss: 0.0000e+00 - total_loss: 2337.6597\n",
            "Epoch 17/250\n",
            "1/1 [==============================] - 0s 82ms/step - factorized_top_k/top_1_categorical_accuracy: 0.0000e+00 - factorized_top_k/top_5_categorical_accuracy: 0.9225 - factorized_top_k/top_10_categorical_accuracy: 1.0000 - factorized_top_k/top_50_categorical_accuracy: 1.0000 - factorized_top_k/top_100_categorical_accuracy: 1.0000 - loss: 2337.6125 - regularization_loss: 0.0000e+00 - total_loss: 2337.6125\n",
            "Epoch 18/250\n",
            "1/1 [==============================] - 0s 83ms/step - factorized_top_k/top_1_categorical_accuracy: 0.0000e+00 - factorized_top_k/top_5_categorical_accuracy: 0.9225 - factorized_top_k/top_10_categorical_accuracy: 1.0000 - factorized_top_k/top_50_categorical_accuracy: 1.0000 - factorized_top_k/top_100_categorical_accuracy: 1.0000 - loss: 2337.5664 - regularization_loss: 0.0000e+00 - total_loss: 2337.5664\n",
            "Epoch 19/250\n",
            "1/1 [==============================] - 0s 81ms/step - factorized_top_k/top_1_categorical_accuracy: 0.0000e+00 - factorized_top_k/top_5_categorical_accuracy: 0.9225 - factorized_top_k/top_10_categorical_accuracy: 1.0000 - factorized_top_k/top_50_categorical_accuracy: 1.0000 - factorized_top_k/top_100_categorical_accuracy: 1.0000 - loss: 2337.5212 - regularization_loss: 0.0000e+00 - total_loss: 2337.5212\n",
            "Epoch 20/250\n",
            "1/1 [==============================] - 0s 86ms/step - factorized_top_k/top_1_categorical_accuracy: 0.0000e+00 - factorized_top_k/top_5_categorical_accuracy: 0.9225 - factorized_top_k/top_10_categorical_accuracy: 1.0000 - factorized_top_k/top_50_categorical_accuracy: 1.0000 - factorized_top_k/top_100_categorical_accuracy: 1.0000 - loss: 2337.4768 - regularization_loss: 0.0000e+00 - total_loss: 2337.4768\n",
            "Epoch 21/250\n",
            "1/1 [==============================] - 0s 82ms/step - factorized_top_k/top_1_categorical_accuracy: 0.0000e+00 - factorized_top_k/top_5_categorical_accuracy: 0.9225 - factorized_top_k/top_10_categorical_accuracy: 1.0000 - factorized_top_k/top_50_categorical_accuracy: 1.0000 - factorized_top_k/top_100_categorical_accuracy: 1.0000 - loss: 2337.4331 - regularization_loss: 0.0000e+00 - total_loss: 2337.4331\n",
            "Epoch 22/250\n",
            "1/1 [==============================] - 0s 80ms/step - factorized_top_k/top_1_categorical_accuracy: 0.0000e+00 - factorized_top_k/top_5_categorical_accuracy: 0.9225 - factorized_top_k/top_10_categorical_accuracy: 1.0000 - factorized_top_k/top_50_categorical_accuracy: 1.0000 - factorized_top_k/top_100_categorical_accuracy: 1.0000 - loss: 2337.3906 - regularization_loss: 0.0000e+00 - total_loss: 2337.3906\n",
            "Epoch 23/250\n",
            "1/1 [==============================] - 0s 82ms/step - factorized_top_k/top_1_categorical_accuracy: 0.0000e+00 - factorized_top_k/top_5_categorical_accuracy: 0.9225 - factorized_top_k/top_10_categorical_accuracy: 1.0000 - factorized_top_k/top_50_categorical_accuracy: 1.0000 - factorized_top_k/top_100_categorical_accuracy: 1.0000 - loss: 2337.3484 - regularization_loss: 0.0000e+00 - total_loss: 2337.3484\n",
            "Epoch 24/250\n",
            "1/1 [==============================] - 0s 77ms/step - factorized_top_k/top_1_categorical_accuracy: 0.0000e+00 - factorized_top_k/top_5_categorical_accuracy: 0.9225 - factorized_top_k/top_10_categorical_accuracy: 1.0000 - factorized_top_k/top_50_categorical_accuracy: 1.0000 - factorized_top_k/top_100_categorical_accuracy: 1.0000 - loss: 2337.3071 - regularization_loss: 0.0000e+00 - total_loss: 2337.3071\n",
            "Epoch 25/250\n",
            "1/1 [==============================] - 0s 84ms/step - factorized_top_k/top_1_categorical_accuracy: 0.0000e+00 - factorized_top_k/top_5_categorical_accuracy: 0.9225 - factorized_top_k/top_10_categorical_accuracy: 1.0000 - factorized_top_k/top_50_categorical_accuracy: 1.0000 - factorized_top_k/top_100_categorical_accuracy: 1.0000 - loss: 2337.2666 - regularization_loss: 0.0000e+00 - total_loss: 2337.2666\n",
            "Epoch 26/250\n",
            "1/1 [==============================] - 0s 77ms/step - factorized_top_k/top_1_categorical_accuracy: 0.0000e+00 - factorized_top_k/top_5_categorical_accuracy: 0.9225 - factorized_top_k/top_10_categorical_accuracy: 1.0000 - factorized_top_k/top_50_categorical_accuracy: 1.0000 - factorized_top_k/top_100_categorical_accuracy: 1.0000 - loss: 2337.2263 - regularization_loss: 0.0000e+00 - total_loss: 2337.2263\n",
            "Epoch 27/250\n",
            "1/1 [==============================] - 0s 78ms/step - factorized_top_k/top_1_categorical_accuracy: 0.0000e+00 - factorized_top_k/top_5_categorical_accuracy: 0.9225 - factorized_top_k/top_10_categorical_accuracy: 1.0000 - factorized_top_k/top_50_categorical_accuracy: 1.0000 - factorized_top_k/top_100_categorical_accuracy: 1.0000 - loss: 2337.1870 - regularization_loss: 0.0000e+00 - total_loss: 2337.1870\n",
            "Epoch 28/250\n",
            "1/1 [==============================] - 0s 78ms/step - factorized_top_k/top_1_categorical_accuracy: 0.0000e+00 - factorized_top_k/top_5_categorical_accuracy: 0.9225 - factorized_top_k/top_10_categorical_accuracy: 1.0000 - factorized_top_k/top_50_categorical_accuracy: 1.0000 - factorized_top_k/top_100_categorical_accuracy: 1.0000 - loss: 2337.1484 - regularization_loss: 0.0000e+00 - total_loss: 2337.1484\n",
            "Epoch 29/250\n",
            "1/1 [==============================] - 0s 84ms/step - factorized_top_k/top_1_categorical_accuracy: 0.0000e+00 - factorized_top_k/top_5_categorical_accuracy: 0.9225 - factorized_top_k/top_10_categorical_accuracy: 1.0000 - factorized_top_k/top_50_categorical_accuracy: 1.0000 - factorized_top_k/top_100_categorical_accuracy: 1.0000 - loss: 2337.1099 - regularization_loss: 0.0000e+00 - total_loss: 2337.1099\n",
            "Epoch 30/250\n",
            "1/1 [==============================] - 0s 84ms/step - factorized_top_k/top_1_categorical_accuracy: 0.0000e+00 - factorized_top_k/top_5_categorical_accuracy: 0.9225 - factorized_top_k/top_10_categorical_accuracy: 1.0000 - factorized_top_k/top_50_categorical_accuracy: 1.0000 - factorized_top_k/top_100_categorical_accuracy: 1.0000 - loss: 2337.0720 - regularization_loss: 0.0000e+00 - total_loss: 2337.0720\n",
            "Epoch 31/250\n",
            "1/1 [==============================] - 0s 83ms/step - factorized_top_k/top_1_categorical_accuracy: 0.0000e+00 - factorized_top_k/top_5_categorical_accuracy: 0.9225 - factorized_top_k/top_10_categorical_accuracy: 1.0000 - factorized_top_k/top_50_categorical_accuracy: 1.0000 - factorized_top_k/top_100_categorical_accuracy: 1.0000 - loss: 2337.0347 - regularization_loss: 0.0000e+00 - total_loss: 2337.0347\n",
            "Epoch 32/250\n",
            "1/1 [==============================] - 0s 80ms/step - factorized_top_k/top_1_categorical_accuracy: 0.0000e+00 - factorized_top_k/top_5_categorical_accuracy: 0.9225 - factorized_top_k/top_10_categorical_accuracy: 1.0000 - factorized_top_k/top_50_categorical_accuracy: 1.0000 - factorized_top_k/top_100_categorical_accuracy: 1.0000 - loss: 2336.9978 - regularization_loss: 0.0000e+00 - total_loss: 2336.9978\n",
            "Epoch 33/250\n",
            "1/1 [==============================] - 0s 77ms/step - factorized_top_k/top_1_categorical_accuracy: 0.0000e+00 - factorized_top_k/top_5_categorical_accuracy: 0.9225 - factorized_top_k/top_10_categorical_accuracy: 1.0000 - factorized_top_k/top_50_categorical_accuracy: 1.0000 - factorized_top_k/top_100_categorical_accuracy: 1.0000 - loss: 2336.9619 - regularization_loss: 0.0000e+00 - total_loss: 2336.9619\n",
            "Epoch 34/250\n",
            "1/1 [==============================] - 0s 77ms/step - factorized_top_k/top_1_categorical_accuracy: 0.0000e+00 - factorized_top_k/top_5_categorical_accuracy: 0.9225 - factorized_top_k/top_10_categorical_accuracy: 1.0000 - factorized_top_k/top_50_categorical_accuracy: 1.0000 - factorized_top_k/top_100_categorical_accuracy: 1.0000 - loss: 2336.9255 - regularization_loss: 0.0000e+00 - total_loss: 2336.9255\n",
            "Epoch 35/250\n",
            "1/1 [==============================] - 0s 76ms/step - factorized_top_k/top_1_categorical_accuracy: 0.0000e+00 - factorized_top_k/top_5_categorical_accuracy: 0.9225 - factorized_top_k/top_10_categorical_accuracy: 1.0000 - factorized_top_k/top_50_categorical_accuracy: 1.0000 - factorized_top_k/top_100_categorical_accuracy: 1.0000 - loss: 2336.8901 - regularization_loss: 0.0000e+00 - total_loss: 2336.8901\n",
            "Epoch 36/250\n",
            "1/1 [==============================] - 0s 81ms/step - factorized_top_k/top_1_categorical_accuracy: 0.0000e+00 - factorized_top_k/top_5_categorical_accuracy: 0.9225 - factorized_top_k/top_10_categorical_accuracy: 1.0000 - factorized_top_k/top_50_categorical_accuracy: 1.0000 - factorized_top_k/top_100_categorical_accuracy: 1.0000 - loss: 2336.8550 - regularization_loss: 0.0000e+00 - total_loss: 2336.8550\n",
            "Epoch 37/250\n",
            "1/1 [==============================] - 0s 81ms/step - factorized_top_k/top_1_categorical_accuracy: 0.0000e+00 - factorized_top_k/top_5_categorical_accuracy: 0.9225 - factorized_top_k/top_10_categorical_accuracy: 1.0000 - factorized_top_k/top_50_categorical_accuracy: 1.0000 - factorized_top_k/top_100_categorical_accuracy: 1.0000 - loss: 2336.8203 - regularization_loss: 0.0000e+00 - total_loss: 2336.8203\n",
            "Epoch 38/250\n",
            "1/1 [==============================] - 0s 89ms/step - factorized_top_k/top_1_categorical_accuracy: 0.0000e+00 - factorized_top_k/top_5_categorical_accuracy: 0.9225 - factorized_top_k/top_10_categorical_accuracy: 1.0000 - factorized_top_k/top_50_categorical_accuracy: 1.0000 - factorized_top_k/top_100_categorical_accuracy: 1.0000 - loss: 2336.7861 - regularization_loss: 0.0000e+00 - total_loss: 2336.7861\n",
            "Epoch 39/250\n",
            "1/1 [==============================] - 0s 83ms/step - factorized_top_k/top_1_categorical_accuracy: 0.0000e+00 - factorized_top_k/top_5_categorical_accuracy: 0.9225 - factorized_top_k/top_10_categorical_accuracy: 1.0000 - factorized_top_k/top_50_categorical_accuracy: 1.0000 - factorized_top_k/top_100_categorical_accuracy: 1.0000 - loss: 2336.7520 - regularization_loss: 0.0000e+00 - total_loss: 2336.7520\n",
            "Epoch 40/250\n",
            "1/1 [==============================] - 0s 80ms/step - factorized_top_k/top_1_categorical_accuracy: 0.0000e+00 - factorized_top_k/top_5_categorical_accuracy: 0.9225 - factorized_top_k/top_10_categorical_accuracy: 1.0000 - factorized_top_k/top_50_categorical_accuracy: 1.0000 - factorized_top_k/top_100_categorical_accuracy: 1.0000 - loss: 2336.7185 - regularization_loss: 0.0000e+00 - total_loss: 2336.7185\n",
            "Epoch 41/250\n",
            "1/1 [==============================] - 0s 82ms/step - factorized_top_k/top_1_categorical_accuracy: 0.0000e+00 - factorized_top_k/top_5_categorical_accuracy: 0.9225 - factorized_top_k/top_10_categorical_accuracy: 1.0000 - factorized_top_k/top_50_categorical_accuracy: 1.0000 - factorized_top_k/top_100_categorical_accuracy: 1.0000 - loss: 2336.6851 - regularization_loss: 0.0000e+00 - total_loss: 2336.6851\n",
            "Epoch 42/250\n",
            "1/1 [==============================] - 0s 82ms/step - factorized_top_k/top_1_categorical_accuracy: 0.0000e+00 - factorized_top_k/top_5_categorical_accuracy: 0.9225 - factorized_top_k/top_10_categorical_accuracy: 1.0000 - factorized_top_k/top_50_categorical_accuracy: 1.0000 - factorized_top_k/top_100_categorical_accuracy: 1.0000 - loss: 2336.6523 - regularization_loss: 0.0000e+00 - total_loss: 2336.6523\n",
            "Epoch 43/250\n",
            "1/1 [==============================] - 0s 80ms/step - factorized_top_k/top_1_categorical_accuracy: 0.0000e+00 - factorized_top_k/top_5_categorical_accuracy: 0.9225 - factorized_top_k/top_10_categorical_accuracy: 1.0000 - factorized_top_k/top_50_categorical_accuracy: 1.0000 - factorized_top_k/top_100_categorical_accuracy: 1.0000 - loss: 2336.6199 - regularization_loss: 0.0000e+00 - total_loss: 2336.6199\n",
            "Epoch 44/250\n",
            "1/1 [==============================] - 0s 79ms/step - factorized_top_k/top_1_categorical_accuracy: 0.0000e+00 - factorized_top_k/top_5_categorical_accuracy: 0.9225 - factorized_top_k/top_10_categorical_accuracy: 1.0000 - factorized_top_k/top_50_categorical_accuracy: 1.0000 - factorized_top_k/top_100_categorical_accuracy: 1.0000 - loss: 2336.5874 - regularization_loss: 0.0000e+00 - total_loss: 2336.5874\n",
            "Epoch 45/250\n",
            "1/1 [==============================] - 0s 82ms/step - factorized_top_k/top_1_categorical_accuracy: 0.0000e+00 - factorized_top_k/top_5_categorical_accuracy: 0.9225 - factorized_top_k/top_10_categorical_accuracy: 1.0000 - factorized_top_k/top_50_categorical_accuracy: 1.0000 - factorized_top_k/top_100_categorical_accuracy: 1.0000 - loss: 2336.5557 - regularization_loss: 0.0000e+00 - total_loss: 2336.5557\n",
            "Epoch 46/250\n",
            "1/1 [==============================] - 0s 98ms/step - factorized_top_k/top_1_categorical_accuracy: 0.0000e+00 - factorized_top_k/top_5_categorical_accuracy: 0.9225 - factorized_top_k/top_10_categorical_accuracy: 1.0000 - factorized_top_k/top_50_categorical_accuracy: 1.0000 - factorized_top_k/top_100_categorical_accuracy: 1.0000 - loss: 2336.5237 - regularization_loss: 0.0000e+00 - total_loss: 2336.5237\n",
            "Epoch 47/250\n",
            "1/1 [==============================] - 0s 78ms/step - factorized_top_k/top_1_categorical_accuracy: 0.0000e+00 - factorized_top_k/top_5_categorical_accuracy: 0.9225 - factorized_top_k/top_10_categorical_accuracy: 1.0000 - factorized_top_k/top_50_categorical_accuracy: 1.0000 - factorized_top_k/top_100_categorical_accuracy: 1.0000 - loss: 2336.4922 - regularization_loss: 0.0000e+00 - total_loss: 2336.4922\n",
            "Epoch 48/250\n",
            "1/1 [==============================] - 0s 77ms/step - factorized_top_k/top_1_categorical_accuracy: 0.0000e+00 - factorized_top_k/top_5_categorical_accuracy: 0.9225 - factorized_top_k/top_10_categorical_accuracy: 1.0000 - factorized_top_k/top_50_categorical_accuracy: 1.0000 - factorized_top_k/top_100_categorical_accuracy: 1.0000 - loss: 2336.4609 - regularization_loss: 0.0000e+00 - total_loss: 2336.4609\n",
            "Epoch 49/250\n",
            "1/1 [==============================] - 0s 79ms/step - factorized_top_k/top_1_categorical_accuracy: 0.0000e+00 - factorized_top_k/top_5_categorical_accuracy: 0.9225 - factorized_top_k/top_10_categorical_accuracy: 1.0000 - factorized_top_k/top_50_categorical_accuracy: 1.0000 - factorized_top_k/top_100_categorical_accuracy: 1.0000 - loss: 2336.4302 - regularization_loss: 0.0000e+00 - total_loss: 2336.4302\n",
            "Epoch 50/250\n",
            "1/1 [==============================] - 0s 80ms/step - factorized_top_k/top_1_categorical_accuracy: 0.0000e+00 - factorized_top_k/top_5_categorical_accuracy: 0.9225 - factorized_top_k/top_10_categorical_accuracy: 1.0000 - factorized_top_k/top_50_categorical_accuracy: 1.0000 - factorized_top_k/top_100_categorical_accuracy: 1.0000 - loss: 2336.3997 - regularization_loss: 0.0000e+00 - total_loss: 2336.3997\n",
            "Epoch 51/250\n",
            "1/1 [==============================] - 0s 75ms/step - factorized_top_k/top_1_categorical_accuracy: 0.0000e+00 - factorized_top_k/top_5_categorical_accuracy: 0.9225 - factorized_top_k/top_10_categorical_accuracy: 1.0000 - factorized_top_k/top_50_categorical_accuracy: 1.0000 - factorized_top_k/top_100_categorical_accuracy: 1.0000 - loss: 2336.3694 - regularization_loss: 0.0000e+00 - total_loss: 2336.3694\n",
            "Epoch 52/250\n",
            "1/1 [==============================] - 0s 82ms/step - factorized_top_k/top_1_categorical_accuracy: 0.0000e+00 - factorized_top_k/top_5_categorical_accuracy: 0.9225 - factorized_top_k/top_10_categorical_accuracy: 1.0000 - factorized_top_k/top_50_categorical_accuracy: 1.0000 - factorized_top_k/top_100_categorical_accuracy: 1.0000 - loss: 2336.3394 - regularization_loss: 0.0000e+00 - total_loss: 2336.3394\n",
            "Epoch 53/250\n",
            "1/1 [==============================] - 0s 86ms/step - factorized_top_k/top_1_categorical_accuracy: 0.0000e+00 - factorized_top_k/top_5_categorical_accuracy: 0.9225 - factorized_top_k/top_10_categorical_accuracy: 1.0000 - factorized_top_k/top_50_categorical_accuracy: 1.0000 - factorized_top_k/top_100_categorical_accuracy: 1.0000 - loss: 2336.3093 - regularization_loss: 0.0000e+00 - total_loss: 2336.3093\n",
            "Epoch 54/250\n",
            "1/1 [==============================] - 0s 76ms/step - factorized_top_k/top_1_categorical_accuracy: 0.0000e+00 - factorized_top_k/top_5_categorical_accuracy: 0.9225 - factorized_top_k/top_10_categorical_accuracy: 1.0000 - factorized_top_k/top_50_categorical_accuracy: 1.0000 - factorized_top_k/top_100_categorical_accuracy: 1.0000 - loss: 2336.2798 - regularization_loss: 0.0000e+00 - total_loss: 2336.2798\n",
            "Epoch 55/250\n",
            "1/1 [==============================] - 0s 77ms/step - factorized_top_k/top_1_categorical_accuracy: 0.0000e+00 - factorized_top_k/top_5_categorical_accuracy: 0.9225 - factorized_top_k/top_10_categorical_accuracy: 1.0000 - factorized_top_k/top_50_categorical_accuracy: 1.0000 - factorized_top_k/top_100_categorical_accuracy: 1.0000 - loss: 2336.2502 - regularization_loss: 0.0000e+00 - total_loss: 2336.2502\n",
            "Epoch 56/250\n",
            "1/1 [==============================] - 0s 84ms/step - factorized_top_k/top_1_categorical_accuracy: 0.0000e+00 - factorized_top_k/top_5_categorical_accuracy: 0.9225 - factorized_top_k/top_10_categorical_accuracy: 1.0000 - factorized_top_k/top_50_categorical_accuracy: 1.0000 - factorized_top_k/top_100_categorical_accuracy: 1.0000 - loss: 2336.2212 - regularization_loss: 0.0000e+00 - total_loss: 2336.2212\n",
            "Epoch 57/250\n",
            "1/1 [==============================] - 0s 83ms/step - factorized_top_k/top_1_categorical_accuracy: 0.0000e+00 - factorized_top_k/top_5_categorical_accuracy: 0.9225 - factorized_top_k/top_10_categorical_accuracy: 1.0000 - factorized_top_k/top_50_categorical_accuracy: 1.0000 - factorized_top_k/top_100_categorical_accuracy: 1.0000 - loss: 2336.1924 - regularization_loss: 0.0000e+00 - total_loss: 2336.1924\n",
            "Epoch 58/250\n",
            "1/1 [==============================] - 0s 80ms/step - factorized_top_k/top_1_categorical_accuracy: 0.0000e+00 - factorized_top_k/top_5_categorical_accuracy: 0.9225 - factorized_top_k/top_10_categorical_accuracy: 1.0000 - factorized_top_k/top_50_categorical_accuracy: 1.0000 - factorized_top_k/top_100_categorical_accuracy: 1.0000 - loss: 2336.1636 - regularization_loss: 0.0000e+00 - total_loss: 2336.1636\n",
            "Epoch 59/250\n",
            "1/1 [==============================] - 0s 77ms/step - factorized_top_k/top_1_categorical_accuracy: 0.0000e+00 - factorized_top_k/top_5_categorical_accuracy: 0.9225 - factorized_top_k/top_10_categorical_accuracy: 1.0000 - factorized_top_k/top_50_categorical_accuracy: 1.0000 - factorized_top_k/top_100_categorical_accuracy: 1.0000 - loss: 2336.1353 - regularization_loss: 0.0000e+00 - total_loss: 2336.1353\n",
            "Epoch 60/250\n",
            "1/1 [==============================] - 0s 79ms/step - factorized_top_k/top_1_categorical_accuracy: 0.0000e+00 - factorized_top_k/top_5_categorical_accuracy: 0.9225 - factorized_top_k/top_10_categorical_accuracy: 1.0000 - factorized_top_k/top_50_categorical_accuracy: 1.0000 - factorized_top_k/top_100_categorical_accuracy: 1.0000 - loss: 2336.1067 - regularization_loss: 0.0000e+00 - total_loss: 2336.1067\n",
            "Epoch 61/250\n",
            "1/1 [==============================] - 0s 78ms/step - factorized_top_k/top_1_categorical_accuracy: 0.0000e+00 - factorized_top_k/top_5_categorical_accuracy: 0.9225 - factorized_top_k/top_10_categorical_accuracy: 1.0000 - factorized_top_k/top_50_categorical_accuracy: 1.0000 - factorized_top_k/top_100_categorical_accuracy: 1.0000 - loss: 2336.0786 - regularization_loss: 0.0000e+00 - total_loss: 2336.0786\n",
            "Epoch 62/250\n",
            "1/1 [==============================] - 0s 78ms/step - factorized_top_k/top_1_categorical_accuracy: 0.0000e+00 - factorized_top_k/top_5_categorical_accuracy: 0.9225 - factorized_top_k/top_10_categorical_accuracy: 1.0000 - factorized_top_k/top_50_categorical_accuracy: 1.0000 - factorized_top_k/top_100_categorical_accuracy: 1.0000 - loss: 2336.0508 - regularization_loss: 0.0000e+00 - total_loss: 2336.0508\n",
            "Epoch 63/250\n",
            "1/1 [==============================] - 0s 88ms/step - factorized_top_k/top_1_categorical_accuracy: 0.0000e+00 - factorized_top_k/top_5_categorical_accuracy: 0.9225 - factorized_top_k/top_10_categorical_accuracy: 1.0000 - factorized_top_k/top_50_categorical_accuracy: 1.0000 - factorized_top_k/top_100_categorical_accuracy: 1.0000 - loss: 2336.0229 - regularization_loss: 0.0000e+00 - total_loss: 2336.0229\n",
            "Epoch 64/250\n",
            "1/1 [==============================] - 0s 76ms/step - factorized_top_k/top_1_categorical_accuracy: 0.0000e+00 - factorized_top_k/top_5_categorical_accuracy: 0.9225 - factorized_top_k/top_10_categorical_accuracy: 1.0000 - factorized_top_k/top_50_categorical_accuracy: 1.0000 - factorized_top_k/top_100_categorical_accuracy: 1.0000 - loss: 2335.9954 - regularization_loss: 0.0000e+00 - total_loss: 2335.9954\n",
            "Epoch 65/250\n",
            "1/1 [==============================] - 0s 83ms/step - factorized_top_k/top_1_categorical_accuracy: 0.0000e+00 - factorized_top_k/top_5_categorical_accuracy: 0.9225 - factorized_top_k/top_10_categorical_accuracy: 1.0000 - factorized_top_k/top_50_categorical_accuracy: 1.0000 - factorized_top_k/top_100_categorical_accuracy: 1.0000 - loss: 2335.9680 - regularization_loss: 0.0000e+00 - total_loss: 2335.9680\n",
            "Epoch 66/250\n",
            "1/1 [==============================] - 0s 77ms/step - factorized_top_k/top_1_categorical_accuracy: 0.0000e+00 - factorized_top_k/top_5_categorical_accuracy: 0.9225 - factorized_top_k/top_10_categorical_accuracy: 1.0000 - factorized_top_k/top_50_categorical_accuracy: 1.0000 - factorized_top_k/top_100_categorical_accuracy: 1.0000 - loss: 2335.9409 - regularization_loss: 0.0000e+00 - total_loss: 2335.9409\n",
            "Epoch 67/250\n",
            "1/1 [==============================] - 0s 78ms/step - factorized_top_k/top_1_categorical_accuracy: 0.0000e+00 - factorized_top_k/top_5_categorical_accuracy: 0.9225 - factorized_top_k/top_10_categorical_accuracy: 1.0000 - factorized_top_k/top_50_categorical_accuracy: 1.0000 - factorized_top_k/top_100_categorical_accuracy: 1.0000 - loss: 2335.9138 - regularization_loss: 0.0000e+00 - total_loss: 2335.9138\n",
            "Epoch 68/250\n",
            "1/1 [==============================] - 0s 82ms/step - factorized_top_k/top_1_categorical_accuracy: 0.0000e+00 - factorized_top_k/top_5_categorical_accuracy: 0.9225 - factorized_top_k/top_10_categorical_accuracy: 1.0000 - factorized_top_k/top_50_categorical_accuracy: 1.0000 - factorized_top_k/top_100_categorical_accuracy: 1.0000 - loss: 2335.8872 - regularization_loss: 0.0000e+00 - total_loss: 2335.8872\n",
            "Epoch 69/250\n",
            "1/1 [==============================] - 0s 78ms/step - factorized_top_k/top_1_categorical_accuracy: 0.0000e+00 - factorized_top_k/top_5_categorical_accuracy: 0.9225 - factorized_top_k/top_10_categorical_accuracy: 1.0000 - factorized_top_k/top_50_categorical_accuracy: 1.0000 - factorized_top_k/top_100_categorical_accuracy: 1.0000 - loss: 2335.8604 - regularization_loss: 0.0000e+00 - total_loss: 2335.8604\n",
            "Epoch 70/250\n",
            "1/1 [==============================] - 0s 79ms/step - factorized_top_k/top_1_categorical_accuracy: 0.0000e+00 - factorized_top_k/top_5_categorical_accuracy: 0.9225 - factorized_top_k/top_10_categorical_accuracy: 1.0000 - factorized_top_k/top_50_categorical_accuracy: 1.0000 - factorized_top_k/top_100_categorical_accuracy: 1.0000 - loss: 2335.8340 - regularization_loss: 0.0000e+00 - total_loss: 2335.8340\n",
            "Epoch 71/250\n",
            "1/1 [==============================] - 0s 81ms/step - factorized_top_k/top_1_categorical_accuracy: 0.0000e+00 - factorized_top_k/top_5_categorical_accuracy: 0.9225 - factorized_top_k/top_10_categorical_accuracy: 1.0000 - factorized_top_k/top_50_categorical_accuracy: 1.0000 - factorized_top_k/top_100_categorical_accuracy: 1.0000 - loss: 2335.8076 - regularization_loss: 0.0000e+00 - total_loss: 2335.8076\n",
            "Epoch 72/250\n",
            "1/1 [==============================] - 0s 80ms/step - factorized_top_k/top_1_categorical_accuracy: 0.0000e+00 - factorized_top_k/top_5_categorical_accuracy: 0.9225 - factorized_top_k/top_10_categorical_accuracy: 1.0000 - factorized_top_k/top_50_categorical_accuracy: 1.0000 - factorized_top_k/top_100_categorical_accuracy: 1.0000 - loss: 2335.7812 - regularization_loss: 0.0000e+00 - total_loss: 2335.7812\n",
            "Epoch 73/250\n",
            "1/1 [==============================] - 0s 84ms/step - factorized_top_k/top_1_categorical_accuracy: 0.0000e+00 - factorized_top_k/top_5_categorical_accuracy: 0.9225 - factorized_top_k/top_10_categorical_accuracy: 1.0000 - factorized_top_k/top_50_categorical_accuracy: 1.0000 - factorized_top_k/top_100_categorical_accuracy: 1.0000 - loss: 2335.7554 - regularization_loss: 0.0000e+00 - total_loss: 2335.7554\n",
            "Epoch 74/250\n",
            "1/1 [==============================] - 0s 79ms/step - factorized_top_k/top_1_categorical_accuracy: 0.0000e+00 - factorized_top_k/top_5_categorical_accuracy: 0.9225 - factorized_top_k/top_10_categorical_accuracy: 1.0000 - factorized_top_k/top_50_categorical_accuracy: 1.0000 - factorized_top_k/top_100_categorical_accuracy: 1.0000 - loss: 2335.7295 - regularization_loss: 0.0000e+00 - total_loss: 2335.7295\n",
            "Epoch 75/250\n",
            "1/1 [==============================] - 0s 79ms/step - factorized_top_k/top_1_categorical_accuracy: 0.0000e+00 - factorized_top_k/top_5_categorical_accuracy: 0.9225 - factorized_top_k/top_10_categorical_accuracy: 1.0000 - factorized_top_k/top_50_categorical_accuracy: 1.0000 - factorized_top_k/top_100_categorical_accuracy: 1.0000 - loss: 2335.7036 - regularization_loss: 0.0000e+00 - total_loss: 2335.7036\n",
            "Epoch 76/250\n",
            "1/1 [==============================] - 0s 77ms/step - factorized_top_k/top_1_categorical_accuracy: 0.0000e+00 - factorized_top_k/top_5_categorical_accuracy: 0.9225 - factorized_top_k/top_10_categorical_accuracy: 1.0000 - factorized_top_k/top_50_categorical_accuracy: 1.0000 - factorized_top_k/top_100_categorical_accuracy: 1.0000 - loss: 2335.6780 - regularization_loss: 0.0000e+00 - total_loss: 2335.6780\n",
            "Epoch 77/250\n",
            "1/1 [==============================] - 0s 79ms/step - factorized_top_k/top_1_categorical_accuracy: 0.0000e+00 - factorized_top_k/top_5_categorical_accuracy: 0.9225 - factorized_top_k/top_10_categorical_accuracy: 1.0000 - factorized_top_k/top_50_categorical_accuracy: 1.0000 - factorized_top_k/top_100_categorical_accuracy: 1.0000 - loss: 2335.6523 - regularization_loss: 0.0000e+00 - total_loss: 2335.6523\n",
            "Epoch 78/250\n",
            "1/1 [==============================] - 0s 131ms/step - factorized_top_k/top_1_categorical_accuracy: 0.0000e+00 - factorized_top_k/top_5_categorical_accuracy: 0.9225 - factorized_top_k/top_10_categorical_accuracy: 1.0000 - factorized_top_k/top_50_categorical_accuracy: 1.0000 - factorized_top_k/top_100_categorical_accuracy: 1.0000 - loss: 2335.6274 - regularization_loss: 0.0000e+00 - total_loss: 2335.6274\n",
            "Epoch 79/250\n",
            "1/1 [==============================] - 0s 127ms/step - factorized_top_k/top_1_categorical_accuracy: 0.0000e+00 - factorized_top_k/top_5_categorical_accuracy: 0.9225 - factorized_top_k/top_10_categorical_accuracy: 1.0000 - factorized_top_k/top_50_categorical_accuracy: 1.0000 - factorized_top_k/top_100_categorical_accuracy: 1.0000 - loss: 2335.6021 - regularization_loss: 0.0000e+00 - total_loss: 2335.6021\n",
            "Epoch 80/250\n",
            "1/1 [==============================] - 0s 131ms/step - factorized_top_k/top_1_categorical_accuracy: 0.0000e+00 - factorized_top_k/top_5_categorical_accuracy: 0.9225 - factorized_top_k/top_10_categorical_accuracy: 1.0000 - factorized_top_k/top_50_categorical_accuracy: 1.0000 - factorized_top_k/top_100_categorical_accuracy: 1.0000 - loss: 2335.5771 - regularization_loss: 0.0000e+00 - total_loss: 2335.5771\n",
            "Epoch 81/250\n",
            "1/1 [==============================] - 0s 129ms/step - factorized_top_k/top_1_categorical_accuracy: 0.0000e+00 - factorized_top_k/top_5_categorical_accuracy: 0.9225 - factorized_top_k/top_10_categorical_accuracy: 1.0000 - factorized_top_k/top_50_categorical_accuracy: 1.0000 - factorized_top_k/top_100_categorical_accuracy: 1.0000 - loss: 2335.5522 - regularization_loss: 0.0000e+00 - total_loss: 2335.5522\n",
            "Epoch 82/250\n",
            "1/1 [==============================] - 0s 133ms/step - factorized_top_k/top_1_categorical_accuracy: 0.0000e+00 - factorized_top_k/top_5_categorical_accuracy: 0.9225 - factorized_top_k/top_10_categorical_accuracy: 1.0000 - factorized_top_k/top_50_categorical_accuracy: 1.0000 - factorized_top_k/top_100_categorical_accuracy: 1.0000 - loss: 2335.5273 - regularization_loss: 0.0000e+00 - total_loss: 2335.5273\n",
            "Epoch 83/250\n",
            "1/1 [==============================] - 0s 128ms/step - factorized_top_k/top_1_categorical_accuracy: 0.0000e+00 - factorized_top_k/top_5_categorical_accuracy: 0.9225 - factorized_top_k/top_10_categorical_accuracy: 1.0000 - factorized_top_k/top_50_categorical_accuracy: 1.0000 - factorized_top_k/top_100_categorical_accuracy: 1.0000 - loss: 2335.5029 - regularization_loss: 0.0000e+00 - total_loss: 2335.5029\n",
            "Epoch 84/250\n",
            "1/1 [==============================] - 0s 133ms/step - factorized_top_k/top_1_categorical_accuracy: 0.0000e+00 - factorized_top_k/top_5_categorical_accuracy: 0.9225 - factorized_top_k/top_10_categorical_accuracy: 1.0000 - factorized_top_k/top_50_categorical_accuracy: 1.0000 - factorized_top_k/top_100_categorical_accuracy: 1.0000 - loss: 2335.4785 - regularization_loss: 0.0000e+00 - total_loss: 2335.4785\n",
            "Epoch 85/250\n",
            "1/1 [==============================] - 0s 155ms/step - factorized_top_k/top_1_categorical_accuracy: 0.0000e+00 - factorized_top_k/top_5_categorical_accuracy: 0.9225 - factorized_top_k/top_10_categorical_accuracy: 1.0000 - factorized_top_k/top_50_categorical_accuracy: 1.0000 - factorized_top_k/top_100_categorical_accuracy: 1.0000 - loss: 2335.4541 - regularization_loss: 0.0000e+00 - total_loss: 2335.4541\n",
            "Epoch 86/250\n",
            "1/1 [==============================] - 0s 135ms/step - factorized_top_k/top_1_categorical_accuracy: 0.0000e+00 - factorized_top_k/top_5_categorical_accuracy: 0.9225 - factorized_top_k/top_10_categorical_accuracy: 1.0000 - factorized_top_k/top_50_categorical_accuracy: 1.0000 - factorized_top_k/top_100_categorical_accuracy: 1.0000 - loss: 2335.4299 - regularization_loss: 0.0000e+00 - total_loss: 2335.4299\n",
            "Epoch 87/250\n",
            "1/1 [==============================] - 0s 147ms/step - factorized_top_k/top_1_categorical_accuracy: 0.0000e+00 - factorized_top_k/top_5_categorical_accuracy: 0.9200 - factorized_top_k/top_10_categorical_accuracy: 1.0000 - factorized_top_k/top_50_categorical_accuracy: 1.0000 - factorized_top_k/top_100_categorical_accuracy: 1.0000 - loss: 2335.4058 - regularization_loss: 0.0000e+00 - total_loss: 2335.4058\n",
            "Epoch 88/250\n",
            "1/1 [==============================] - 0s 127ms/step - factorized_top_k/top_1_categorical_accuracy: 0.0000e+00 - factorized_top_k/top_5_categorical_accuracy: 0.9200 - factorized_top_k/top_10_categorical_accuracy: 1.0000 - factorized_top_k/top_50_categorical_accuracy: 1.0000 - factorized_top_k/top_100_categorical_accuracy: 1.0000 - loss: 2335.3818 - regularization_loss: 0.0000e+00 - total_loss: 2335.3818\n",
            "Epoch 89/250\n",
            "1/1 [==============================] - 0s 121ms/step - factorized_top_k/top_1_categorical_accuracy: 0.0000e+00 - factorized_top_k/top_5_categorical_accuracy: 0.9200 - factorized_top_k/top_10_categorical_accuracy: 1.0000 - factorized_top_k/top_50_categorical_accuracy: 1.0000 - factorized_top_k/top_100_categorical_accuracy: 1.0000 - loss: 2335.3577 - regularization_loss: 0.0000e+00 - total_loss: 2335.3577\n",
            "Epoch 90/250\n",
            "1/1 [==============================] - 0s 142ms/step - factorized_top_k/top_1_categorical_accuracy: 0.0000e+00 - factorized_top_k/top_5_categorical_accuracy: 0.9200 - factorized_top_k/top_10_categorical_accuracy: 1.0000 - factorized_top_k/top_50_categorical_accuracy: 1.0000 - factorized_top_k/top_100_categorical_accuracy: 1.0000 - loss: 2335.3337 - regularization_loss: 0.0000e+00 - total_loss: 2335.3337\n",
            "Epoch 91/250\n",
            "1/1 [==============================] - 0s 173ms/step - factorized_top_k/top_1_categorical_accuracy: 0.0000e+00 - factorized_top_k/top_5_categorical_accuracy: 0.9200 - factorized_top_k/top_10_categorical_accuracy: 1.0000 - factorized_top_k/top_50_categorical_accuracy: 1.0000 - factorized_top_k/top_100_categorical_accuracy: 1.0000 - loss: 2335.3103 - regularization_loss: 0.0000e+00 - total_loss: 2335.3103\n",
            "Epoch 92/250\n",
            "1/1 [==============================] - 0s 144ms/step - factorized_top_k/top_1_categorical_accuracy: 0.0000e+00 - factorized_top_k/top_5_categorical_accuracy: 0.9200 - factorized_top_k/top_10_categorical_accuracy: 1.0000 - factorized_top_k/top_50_categorical_accuracy: 1.0000 - factorized_top_k/top_100_categorical_accuracy: 1.0000 - loss: 2335.2869 - regularization_loss: 0.0000e+00 - total_loss: 2335.2869\n",
            "Epoch 93/250\n",
            "1/1 [==============================] - 0s 148ms/step - factorized_top_k/top_1_categorical_accuracy: 0.0000e+00 - factorized_top_k/top_5_categorical_accuracy: 0.9200 - factorized_top_k/top_10_categorical_accuracy: 1.0000 - factorized_top_k/top_50_categorical_accuracy: 1.0000 - factorized_top_k/top_100_categorical_accuracy: 1.0000 - loss: 2335.2632 - regularization_loss: 0.0000e+00 - total_loss: 2335.2632\n",
            "Epoch 94/250\n",
            "1/1 [==============================] - 0s 133ms/step - factorized_top_k/top_1_categorical_accuracy: 0.0000e+00 - factorized_top_k/top_5_categorical_accuracy: 0.9225 - factorized_top_k/top_10_categorical_accuracy: 1.0000 - factorized_top_k/top_50_categorical_accuracy: 1.0000 - factorized_top_k/top_100_categorical_accuracy: 1.0000 - loss: 2335.2400 - regularization_loss: 0.0000e+00 - total_loss: 2335.2400\n",
            "Epoch 95/250\n",
            "1/1 [==============================] - 0s 136ms/step - factorized_top_k/top_1_categorical_accuracy: 0.0000e+00 - factorized_top_k/top_5_categorical_accuracy: 0.9225 - factorized_top_k/top_10_categorical_accuracy: 1.0000 - factorized_top_k/top_50_categorical_accuracy: 1.0000 - factorized_top_k/top_100_categorical_accuracy: 1.0000 - loss: 2335.2168 - regularization_loss: 0.0000e+00 - total_loss: 2335.2168\n",
            "Epoch 96/250\n",
            "1/1 [==============================] - 0s 145ms/step - factorized_top_k/top_1_categorical_accuracy: 0.0000e+00 - factorized_top_k/top_5_categorical_accuracy: 0.9225 - factorized_top_k/top_10_categorical_accuracy: 1.0000 - factorized_top_k/top_50_categorical_accuracy: 1.0000 - factorized_top_k/top_100_categorical_accuracy: 1.0000 - loss: 2335.1938 - regularization_loss: 0.0000e+00 - total_loss: 2335.1938\n",
            "Epoch 97/250\n",
            "1/1 [==============================] - 0s 137ms/step - factorized_top_k/top_1_categorical_accuracy: 0.0000e+00 - factorized_top_k/top_5_categorical_accuracy: 0.9225 - factorized_top_k/top_10_categorical_accuracy: 1.0000 - factorized_top_k/top_50_categorical_accuracy: 1.0000 - factorized_top_k/top_100_categorical_accuracy: 1.0000 - loss: 2335.1707 - regularization_loss: 0.0000e+00 - total_loss: 2335.1707\n",
            "Epoch 98/250\n",
            "1/1 [==============================] - 0s 150ms/step - factorized_top_k/top_1_categorical_accuracy: 0.0000e+00 - factorized_top_k/top_5_categorical_accuracy: 0.9225 - factorized_top_k/top_10_categorical_accuracy: 1.0000 - factorized_top_k/top_50_categorical_accuracy: 1.0000 - factorized_top_k/top_100_categorical_accuracy: 1.0000 - loss: 2335.1479 - regularization_loss: 0.0000e+00 - total_loss: 2335.1479\n",
            "Epoch 99/250\n",
            "1/1 [==============================] - 0s 133ms/step - factorized_top_k/top_1_categorical_accuracy: 0.0000e+00 - factorized_top_k/top_5_categorical_accuracy: 0.9225 - factorized_top_k/top_10_categorical_accuracy: 1.0000 - factorized_top_k/top_50_categorical_accuracy: 1.0000 - factorized_top_k/top_100_categorical_accuracy: 1.0000 - loss: 2335.1250 - regularization_loss: 0.0000e+00 - total_loss: 2335.1250\n",
            "Epoch 100/250\n",
            "1/1 [==============================] - 0s 130ms/step - factorized_top_k/top_1_categorical_accuracy: 0.0000e+00 - factorized_top_k/top_5_categorical_accuracy: 0.9225 - factorized_top_k/top_10_categorical_accuracy: 1.0000 - factorized_top_k/top_50_categorical_accuracy: 1.0000 - factorized_top_k/top_100_categorical_accuracy: 1.0000 - loss: 2335.1025 - regularization_loss: 0.0000e+00 - total_loss: 2335.1025\n",
            "Epoch 101/250\n",
            "1/1 [==============================] - 0s 134ms/step - factorized_top_k/top_1_categorical_accuracy: 0.0000e+00 - factorized_top_k/top_5_categorical_accuracy: 0.9225 - factorized_top_k/top_10_categorical_accuracy: 1.0000 - factorized_top_k/top_50_categorical_accuracy: 1.0000 - factorized_top_k/top_100_categorical_accuracy: 1.0000 - loss: 2335.0796 - regularization_loss: 0.0000e+00 - total_loss: 2335.0796\n",
            "Epoch 102/250\n",
            "1/1 [==============================] - 0s 124ms/step - factorized_top_k/top_1_categorical_accuracy: 0.0000e+00 - factorized_top_k/top_5_categorical_accuracy: 0.9225 - factorized_top_k/top_10_categorical_accuracy: 1.0000 - factorized_top_k/top_50_categorical_accuracy: 1.0000 - factorized_top_k/top_100_categorical_accuracy: 1.0000 - loss: 2335.0571 - regularization_loss: 0.0000e+00 - total_loss: 2335.0571\n",
            "Epoch 103/250\n",
            "1/1 [==============================] - 0s 127ms/step - factorized_top_k/top_1_categorical_accuracy: 0.0000e+00 - factorized_top_k/top_5_categorical_accuracy: 0.9225 - factorized_top_k/top_10_categorical_accuracy: 1.0000 - factorized_top_k/top_50_categorical_accuracy: 1.0000 - factorized_top_k/top_100_categorical_accuracy: 1.0000 - loss: 2335.0349 - regularization_loss: 0.0000e+00 - total_loss: 2335.0349\n",
            "Epoch 104/250\n",
            "1/1 [==============================] - 0s 152ms/step - factorized_top_k/top_1_categorical_accuracy: 0.0000e+00 - factorized_top_k/top_5_categorical_accuracy: 0.9225 - factorized_top_k/top_10_categorical_accuracy: 1.0000 - factorized_top_k/top_50_categorical_accuracy: 1.0000 - factorized_top_k/top_100_categorical_accuracy: 1.0000 - loss: 2335.0125 - regularization_loss: 0.0000e+00 - total_loss: 2335.0125\n",
            "Epoch 105/250\n",
            "1/1 [==============================] - 0s 146ms/step - factorized_top_k/top_1_categorical_accuracy: 0.0000e+00 - factorized_top_k/top_5_categorical_accuracy: 0.9225 - factorized_top_k/top_10_categorical_accuracy: 1.0000 - factorized_top_k/top_50_categorical_accuracy: 1.0000 - factorized_top_k/top_100_categorical_accuracy: 1.0000 - loss: 2334.9902 - regularization_loss: 0.0000e+00 - total_loss: 2334.9902\n",
            "Epoch 106/250\n",
            "1/1 [==============================] - 0s 127ms/step - factorized_top_k/top_1_categorical_accuracy: 0.0000e+00 - factorized_top_k/top_5_categorical_accuracy: 0.9225 - factorized_top_k/top_10_categorical_accuracy: 1.0000 - factorized_top_k/top_50_categorical_accuracy: 1.0000 - factorized_top_k/top_100_categorical_accuracy: 1.0000 - loss: 2334.9683 - regularization_loss: 0.0000e+00 - total_loss: 2334.9683\n",
            "Epoch 107/250\n",
            "1/1 [==============================] - 0s 123ms/step - factorized_top_k/top_1_categorical_accuracy: 0.0000e+00 - factorized_top_k/top_5_categorical_accuracy: 0.9225 - factorized_top_k/top_10_categorical_accuracy: 1.0000 - factorized_top_k/top_50_categorical_accuracy: 1.0000 - factorized_top_k/top_100_categorical_accuracy: 1.0000 - loss: 2334.9460 - regularization_loss: 0.0000e+00 - total_loss: 2334.9460\n",
            "Epoch 108/250\n",
            "1/1 [==============================] - 0s 119ms/step - factorized_top_k/top_1_categorical_accuracy: 0.0000e+00 - factorized_top_k/top_5_categorical_accuracy: 0.9225 - factorized_top_k/top_10_categorical_accuracy: 1.0000 - factorized_top_k/top_50_categorical_accuracy: 1.0000 - factorized_top_k/top_100_categorical_accuracy: 1.0000 - loss: 2334.9238 - regularization_loss: 0.0000e+00 - total_loss: 2334.9238\n",
            "Epoch 109/250\n",
            "1/1 [==============================] - 0s 140ms/step - factorized_top_k/top_1_categorical_accuracy: 0.0000e+00 - factorized_top_k/top_5_categorical_accuracy: 0.9225 - factorized_top_k/top_10_categorical_accuracy: 1.0000 - factorized_top_k/top_50_categorical_accuracy: 1.0000 - factorized_top_k/top_100_categorical_accuracy: 1.0000 - loss: 2334.9023 - regularization_loss: 0.0000e+00 - total_loss: 2334.9023\n",
            "Epoch 110/250\n",
            "1/1 [==============================] - 0s 154ms/step - factorized_top_k/top_1_categorical_accuracy: 0.0000e+00 - factorized_top_k/top_5_categorical_accuracy: 0.9225 - factorized_top_k/top_10_categorical_accuracy: 1.0000 - factorized_top_k/top_50_categorical_accuracy: 1.0000 - factorized_top_k/top_100_categorical_accuracy: 1.0000 - loss: 2334.8804 - regularization_loss: 0.0000e+00 - total_loss: 2334.8804\n",
            "Epoch 111/250\n",
            "1/1 [==============================] - 0s 79ms/step - factorized_top_k/top_1_categorical_accuracy: 0.0000e+00 - factorized_top_k/top_5_categorical_accuracy: 0.9225 - factorized_top_k/top_10_categorical_accuracy: 1.0000 - factorized_top_k/top_50_categorical_accuracy: 1.0000 - factorized_top_k/top_100_categorical_accuracy: 1.0000 - loss: 2334.8589 - regularization_loss: 0.0000e+00 - total_loss: 2334.8589\n",
            "Epoch 112/250\n",
            "1/1 [==============================] - 0s 77ms/step - factorized_top_k/top_1_categorical_accuracy: 0.0000e+00 - factorized_top_k/top_5_categorical_accuracy: 0.9225 - factorized_top_k/top_10_categorical_accuracy: 1.0000 - factorized_top_k/top_50_categorical_accuracy: 1.0000 - factorized_top_k/top_100_categorical_accuracy: 1.0000 - loss: 2334.8374 - regularization_loss: 0.0000e+00 - total_loss: 2334.8374\n",
            "Epoch 113/250\n",
            "1/1 [==============================] - 0s 78ms/step - factorized_top_k/top_1_categorical_accuracy: 0.0000e+00 - factorized_top_k/top_5_categorical_accuracy: 0.9225 - factorized_top_k/top_10_categorical_accuracy: 1.0000 - factorized_top_k/top_50_categorical_accuracy: 1.0000 - factorized_top_k/top_100_categorical_accuracy: 1.0000 - loss: 2334.8159 - regularization_loss: 0.0000e+00 - total_loss: 2334.8159\n",
            "Epoch 114/250\n",
            "1/1 [==============================] - 0s 86ms/step - factorized_top_k/top_1_categorical_accuracy: 0.0000e+00 - factorized_top_k/top_5_categorical_accuracy: 0.9225 - factorized_top_k/top_10_categorical_accuracy: 1.0000 - factorized_top_k/top_50_categorical_accuracy: 1.0000 - factorized_top_k/top_100_categorical_accuracy: 1.0000 - loss: 2334.7942 - regularization_loss: 0.0000e+00 - total_loss: 2334.7942\n",
            "Epoch 115/250\n",
            "1/1 [==============================] - 0s 78ms/step - factorized_top_k/top_1_categorical_accuracy: 0.0000e+00 - factorized_top_k/top_5_categorical_accuracy: 0.9225 - factorized_top_k/top_10_categorical_accuracy: 1.0000 - factorized_top_k/top_50_categorical_accuracy: 1.0000 - factorized_top_k/top_100_categorical_accuracy: 1.0000 - loss: 2334.7729 - regularization_loss: 0.0000e+00 - total_loss: 2334.7729\n",
            "Epoch 116/250\n",
            "1/1 [==============================] - 0s 79ms/step - factorized_top_k/top_1_categorical_accuracy: 0.0000e+00 - factorized_top_k/top_5_categorical_accuracy: 0.9225 - factorized_top_k/top_10_categorical_accuracy: 1.0000 - factorized_top_k/top_50_categorical_accuracy: 1.0000 - factorized_top_k/top_100_categorical_accuracy: 1.0000 - loss: 2334.7517 - regularization_loss: 0.0000e+00 - total_loss: 2334.7517\n",
            "Epoch 117/250\n",
            "1/1 [==============================] - 0s 82ms/step - factorized_top_k/top_1_categorical_accuracy: 0.0000e+00 - factorized_top_k/top_5_categorical_accuracy: 0.9225 - factorized_top_k/top_10_categorical_accuracy: 1.0000 - factorized_top_k/top_50_categorical_accuracy: 1.0000 - factorized_top_k/top_100_categorical_accuracy: 1.0000 - loss: 2334.7305 - regularization_loss: 0.0000e+00 - total_loss: 2334.7305\n",
            "Epoch 118/250\n",
            "1/1 [==============================] - 0s 98ms/step - factorized_top_k/top_1_categorical_accuracy: 0.0000e+00 - factorized_top_k/top_5_categorical_accuracy: 0.9225 - factorized_top_k/top_10_categorical_accuracy: 1.0000 - factorized_top_k/top_50_categorical_accuracy: 1.0000 - factorized_top_k/top_100_categorical_accuracy: 1.0000 - loss: 2334.7092 - regularization_loss: 0.0000e+00 - total_loss: 2334.7092\n",
            "Epoch 119/250\n",
            "1/1 [==============================] - 0s 78ms/step - factorized_top_k/top_1_categorical_accuracy: 0.0000e+00 - factorized_top_k/top_5_categorical_accuracy: 0.9225 - factorized_top_k/top_10_categorical_accuracy: 1.0000 - factorized_top_k/top_50_categorical_accuracy: 1.0000 - factorized_top_k/top_100_categorical_accuracy: 1.0000 - loss: 2334.6882 - regularization_loss: 0.0000e+00 - total_loss: 2334.6882\n",
            "Epoch 120/250\n",
            "1/1 [==============================] - 0s 89ms/step - factorized_top_k/top_1_categorical_accuracy: 0.0000e+00 - factorized_top_k/top_5_categorical_accuracy: 0.9225 - factorized_top_k/top_10_categorical_accuracy: 1.0000 - factorized_top_k/top_50_categorical_accuracy: 1.0000 - factorized_top_k/top_100_categorical_accuracy: 1.0000 - loss: 2334.6672 - regularization_loss: 0.0000e+00 - total_loss: 2334.6672\n",
            "Epoch 121/250\n",
            "1/1 [==============================] - 0s 90ms/step - factorized_top_k/top_1_categorical_accuracy: 0.0000e+00 - factorized_top_k/top_5_categorical_accuracy: 0.9225 - factorized_top_k/top_10_categorical_accuracy: 1.0000 - factorized_top_k/top_50_categorical_accuracy: 1.0000 - factorized_top_k/top_100_categorical_accuracy: 1.0000 - loss: 2334.6465 - regularization_loss: 0.0000e+00 - total_loss: 2334.6465\n",
            "Epoch 122/250\n",
            "1/1 [==============================] - 0s 83ms/step - factorized_top_k/top_1_categorical_accuracy: 0.0000e+00 - factorized_top_k/top_5_categorical_accuracy: 0.9225 - factorized_top_k/top_10_categorical_accuracy: 1.0000 - factorized_top_k/top_50_categorical_accuracy: 1.0000 - factorized_top_k/top_100_categorical_accuracy: 1.0000 - loss: 2334.6257 - regularization_loss: 0.0000e+00 - total_loss: 2334.6257\n",
            "Epoch 123/250\n",
            "1/1 [==============================] - 0s 82ms/step - factorized_top_k/top_1_categorical_accuracy: 0.0000e+00 - factorized_top_k/top_5_categorical_accuracy: 0.9225 - factorized_top_k/top_10_categorical_accuracy: 1.0000 - factorized_top_k/top_50_categorical_accuracy: 1.0000 - factorized_top_k/top_100_categorical_accuracy: 1.0000 - loss: 2334.6050 - regularization_loss: 0.0000e+00 - total_loss: 2334.6050\n",
            "Epoch 124/250\n",
            "1/1 [==============================] - 0s 78ms/step - factorized_top_k/top_1_categorical_accuracy: 0.0000e+00 - factorized_top_k/top_5_categorical_accuracy: 0.9225 - factorized_top_k/top_10_categorical_accuracy: 1.0000 - factorized_top_k/top_50_categorical_accuracy: 1.0000 - factorized_top_k/top_100_categorical_accuracy: 1.0000 - loss: 2334.5845 - regularization_loss: 0.0000e+00 - total_loss: 2334.5845\n",
            "Epoch 125/250\n",
            "1/1 [==============================] - 0s 86ms/step - factorized_top_k/top_1_categorical_accuracy: 0.0000e+00 - factorized_top_k/top_5_categorical_accuracy: 0.9225 - factorized_top_k/top_10_categorical_accuracy: 1.0000 - factorized_top_k/top_50_categorical_accuracy: 1.0000 - factorized_top_k/top_100_categorical_accuracy: 1.0000 - loss: 2334.5635 - regularization_loss: 0.0000e+00 - total_loss: 2334.5635\n",
            "Epoch 126/250\n",
            "1/1 [==============================] - 0s 85ms/step - factorized_top_k/top_1_categorical_accuracy: 0.0000e+00 - factorized_top_k/top_5_categorical_accuracy: 0.9225 - factorized_top_k/top_10_categorical_accuracy: 1.0000 - factorized_top_k/top_50_categorical_accuracy: 1.0000 - factorized_top_k/top_100_categorical_accuracy: 1.0000 - loss: 2334.5435 - regularization_loss: 0.0000e+00 - total_loss: 2334.5435\n",
            "Epoch 127/250\n",
            "1/1 [==============================] - 0s 90ms/step - factorized_top_k/top_1_categorical_accuracy: 0.0000e+00 - factorized_top_k/top_5_categorical_accuracy: 0.9225 - factorized_top_k/top_10_categorical_accuracy: 1.0000 - factorized_top_k/top_50_categorical_accuracy: 1.0000 - factorized_top_k/top_100_categorical_accuracy: 1.0000 - loss: 2334.5229 - regularization_loss: 0.0000e+00 - total_loss: 2334.5229\n",
            "Epoch 128/250\n",
            "1/1 [==============================] - 0s 80ms/step - factorized_top_k/top_1_categorical_accuracy: 0.0000e+00 - factorized_top_k/top_5_categorical_accuracy: 0.9225 - factorized_top_k/top_10_categorical_accuracy: 1.0000 - factorized_top_k/top_50_categorical_accuracy: 1.0000 - factorized_top_k/top_100_categorical_accuracy: 1.0000 - loss: 2334.5024 - regularization_loss: 0.0000e+00 - total_loss: 2334.5024\n",
            "Epoch 129/250\n",
            "1/1 [==============================] - 0s 87ms/step - factorized_top_k/top_1_categorical_accuracy: 0.0000e+00 - factorized_top_k/top_5_categorical_accuracy: 0.9225 - factorized_top_k/top_10_categorical_accuracy: 1.0000 - factorized_top_k/top_50_categorical_accuracy: 1.0000 - factorized_top_k/top_100_categorical_accuracy: 1.0000 - loss: 2334.4822 - regularization_loss: 0.0000e+00 - total_loss: 2334.4822\n",
            "Epoch 130/250\n",
            "1/1 [==============================] - 0s 90ms/step - factorized_top_k/top_1_categorical_accuracy: 0.0000e+00 - factorized_top_k/top_5_categorical_accuracy: 0.9225 - factorized_top_k/top_10_categorical_accuracy: 1.0000 - factorized_top_k/top_50_categorical_accuracy: 1.0000 - factorized_top_k/top_100_categorical_accuracy: 1.0000 - loss: 2334.4619 - regularization_loss: 0.0000e+00 - total_loss: 2334.4619\n",
            "Epoch 131/250\n",
            "1/1 [==============================] - 0s 83ms/step - factorized_top_k/top_1_categorical_accuracy: 0.0000e+00 - factorized_top_k/top_5_categorical_accuracy: 0.9225 - factorized_top_k/top_10_categorical_accuracy: 1.0000 - factorized_top_k/top_50_categorical_accuracy: 1.0000 - factorized_top_k/top_100_categorical_accuracy: 1.0000 - loss: 2334.4414 - regularization_loss: 0.0000e+00 - total_loss: 2334.4414\n",
            "Epoch 132/250\n",
            "1/1 [==============================] - 0s 80ms/step - factorized_top_k/top_1_categorical_accuracy: 0.0000e+00 - factorized_top_k/top_5_categorical_accuracy: 0.9225 - factorized_top_k/top_10_categorical_accuracy: 1.0000 - factorized_top_k/top_50_categorical_accuracy: 1.0000 - factorized_top_k/top_100_categorical_accuracy: 1.0000 - loss: 2334.4214 - regularization_loss: 0.0000e+00 - total_loss: 2334.4214\n",
            "Epoch 133/250\n",
            "1/1 [==============================] - 0s 87ms/step - factorized_top_k/top_1_categorical_accuracy: 0.0000e+00 - factorized_top_k/top_5_categorical_accuracy: 0.9225 - factorized_top_k/top_10_categorical_accuracy: 1.0000 - factorized_top_k/top_50_categorical_accuracy: 1.0000 - factorized_top_k/top_100_categorical_accuracy: 1.0000 - loss: 2334.4016 - regularization_loss: 0.0000e+00 - total_loss: 2334.4016\n",
            "Epoch 134/250\n",
            "1/1 [==============================] - 0s 81ms/step - factorized_top_k/top_1_categorical_accuracy: 0.0000e+00 - factorized_top_k/top_5_categorical_accuracy: 0.9225 - factorized_top_k/top_10_categorical_accuracy: 1.0000 - factorized_top_k/top_50_categorical_accuracy: 1.0000 - factorized_top_k/top_100_categorical_accuracy: 1.0000 - loss: 2334.3816 - regularization_loss: 0.0000e+00 - total_loss: 2334.3816\n",
            "Epoch 135/250\n",
            "1/1 [==============================] - 0s 81ms/step - factorized_top_k/top_1_categorical_accuracy: 0.0000e+00 - factorized_top_k/top_5_categorical_accuracy: 0.9225 - factorized_top_k/top_10_categorical_accuracy: 1.0000 - factorized_top_k/top_50_categorical_accuracy: 1.0000 - factorized_top_k/top_100_categorical_accuracy: 1.0000 - loss: 2334.3616 - regularization_loss: 0.0000e+00 - total_loss: 2334.3616\n",
            "Epoch 136/250\n",
            "1/1 [==============================] - 0s 100ms/step - factorized_top_k/top_1_categorical_accuracy: 0.0000e+00 - factorized_top_k/top_5_categorical_accuracy: 0.9225 - factorized_top_k/top_10_categorical_accuracy: 1.0000 - factorized_top_k/top_50_categorical_accuracy: 1.0000 - factorized_top_k/top_100_categorical_accuracy: 1.0000 - loss: 2334.3418 - regularization_loss: 0.0000e+00 - total_loss: 2334.3418\n",
            "Epoch 137/250\n",
            "1/1 [==============================] - 0s 83ms/step - factorized_top_k/top_1_categorical_accuracy: 0.0000e+00 - factorized_top_k/top_5_categorical_accuracy: 0.9225 - factorized_top_k/top_10_categorical_accuracy: 1.0000 - factorized_top_k/top_50_categorical_accuracy: 1.0000 - factorized_top_k/top_100_categorical_accuracy: 1.0000 - loss: 2334.3220 - regularization_loss: 0.0000e+00 - total_loss: 2334.3220\n",
            "Epoch 138/250\n",
            "1/1 [==============================] - 0s 87ms/step - factorized_top_k/top_1_categorical_accuracy: 0.0000e+00 - factorized_top_k/top_5_categorical_accuracy: 0.9225 - factorized_top_k/top_10_categorical_accuracy: 1.0000 - factorized_top_k/top_50_categorical_accuracy: 1.0000 - factorized_top_k/top_100_categorical_accuracy: 1.0000 - loss: 2334.3022 - regularization_loss: 0.0000e+00 - total_loss: 2334.3022\n",
            "Epoch 139/250\n",
            "1/1 [==============================] - 0s 81ms/step - factorized_top_k/top_1_categorical_accuracy: 0.0000e+00 - factorized_top_k/top_5_categorical_accuracy: 0.9225 - factorized_top_k/top_10_categorical_accuracy: 1.0000 - factorized_top_k/top_50_categorical_accuracy: 1.0000 - factorized_top_k/top_100_categorical_accuracy: 1.0000 - loss: 2334.2827 - regularization_loss: 0.0000e+00 - total_loss: 2334.2827\n",
            "Epoch 140/250\n",
            "1/1 [==============================] - 0s 84ms/step - factorized_top_k/top_1_categorical_accuracy: 0.0000e+00 - factorized_top_k/top_5_categorical_accuracy: 0.9225 - factorized_top_k/top_10_categorical_accuracy: 1.0000 - factorized_top_k/top_50_categorical_accuracy: 1.0000 - factorized_top_k/top_100_categorical_accuracy: 1.0000 - loss: 2334.2632 - regularization_loss: 0.0000e+00 - total_loss: 2334.2632\n",
            "Epoch 141/250\n",
            "1/1 [==============================] - 0s 79ms/step - factorized_top_k/top_1_categorical_accuracy: 0.0000e+00 - factorized_top_k/top_5_categorical_accuracy: 0.9225 - factorized_top_k/top_10_categorical_accuracy: 1.0000 - factorized_top_k/top_50_categorical_accuracy: 1.0000 - factorized_top_k/top_100_categorical_accuracy: 1.0000 - loss: 2334.2437 - regularization_loss: 0.0000e+00 - total_loss: 2334.2437\n",
            "Epoch 142/250\n",
            "1/1 [==============================] - 0s 79ms/step - factorized_top_k/top_1_categorical_accuracy: 0.0000e+00 - factorized_top_k/top_5_categorical_accuracy: 0.9225 - factorized_top_k/top_10_categorical_accuracy: 1.0000 - factorized_top_k/top_50_categorical_accuracy: 1.0000 - factorized_top_k/top_100_categorical_accuracy: 1.0000 - loss: 2334.2241 - regularization_loss: 0.0000e+00 - total_loss: 2334.2241\n",
            "Epoch 143/250\n",
            "1/1 [==============================] - 0s 84ms/step - factorized_top_k/top_1_categorical_accuracy: 0.0000e+00 - factorized_top_k/top_5_categorical_accuracy: 0.9225 - factorized_top_k/top_10_categorical_accuracy: 1.0000 - factorized_top_k/top_50_categorical_accuracy: 1.0000 - factorized_top_k/top_100_categorical_accuracy: 1.0000 - loss: 2334.2046 - regularization_loss: 0.0000e+00 - total_loss: 2334.2046\n",
            "Epoch 144/250\n",
            "1/1 [==============================] - 0s 78ms/step - factorized_top_k/top_1_categorical_accuracy: 0.0000e+00 - factorized_top_k/top_5_categorical_accuracy: 0.9225 - factorized_top_k/top_10_categorical_accuracy: 1.0000 - factorized_top_k/top_50_categorical_accuracy: 1.0000 - factorized_top_k/top_100_categorical_accuracy: 1.0000 - loss: 2334.1855 - regularization_loss: 0.0000e+00 - total_loss: 2334.1855\n",
            "Epoch 145/250\n",
            "1/1 [==============================] - 0s 90ms/step - factorized_top_k/top_1_categorical_accuracy: 0.0000e+00 - factorized_top_k/top_5_categorical_accuracy: 0.9225 - factorized_top_k/top_10_categorical_accuracy: 1.0000 - factorized_top_k/top_50_categorical_accuracy: 1.0000 - factorized_top_k/top_100_categorical_accuracy: 1.0000 - loss: 2334.1660 - regularization_loss: 0.0000e+00 - total_loss: 2334.1660\n",
            "Epoch 146/250\n",
            "1/1 [==============================] - 0s 80ms/step - factorized_top_k/top_1_categorical_accuracy: 0.0000e+00 - factorized_top_k/top_5_categorical_accuracy: 0.9225 - factorized_top_k/top_10_categorical_accuracy: 1.0000 - factorized_top_k/top_50_categorical_accuracy: 1.0000 - factorized_top_k/top_100_categorical_accuracy: 1.0000 - loss: 2334.1470 - regularization_loss: 0.0000e+00 - total_loss: 2334.1470\n",
            "Epoch 147/250\n",
            "1/1 [==============================] - 0s 81ms/step - factorized_top_k/top_1_categorical_accuracy: 0.0000e+00 - factorized_top_k/top_5_categorical_accuracy: 0.9225 - factorized_top_k/top_10_categorical_accuracy: 1.0000 - factorized_top_k/top_50_categorical_accuracy: 1.0000 - factorized_top_k/top_100_categorical_accuracy: 1.0000 - loss: 2334.1279 - regularization_loss: 0.0000e+00 - total_loss: 2334.1279\n",
            "Epoch 148/250\n",
            "1/1 [==============================] - 0s 80ms/step - factorized_top_k/top_1_categorical_accuracy: 0.0000e+00 - factorized_top_k/top_5_categorical_accuracy: 0.9225 - factorized_top_k/top_10_categorical_accuracy: 1.0000 - factorized_top_k/top_50_categorical_accuracy: 1.0000 - factorized_top_k/top_100_categorical_accuracy: 1.0000 - loss: 2334.1086 - regularization_loss: 0.0000e+00 - total_loss: 2334.1086\n",
            "Epoch 149/250\n",
            "1/1 [==============================] - 0s 81ms/step - factorized_top_k/top_1_categorical_accuracy: 0.0000e+00 - factorized_top_k/top_5_categorical_accuracy: 0.9225 - factorized_top_k/top_10_categorical_accuracy: 1.0000 - factorized_top_k/top_50_categorical_accuracy: 1.0000 - factorized_top_k/top_100_categorical_accuracy: 1.0000 - loss: 2334.0896 - regularization_loss: 0.0000e+00 - total_loss: 2334.0896\n",
            "Epoch 150/250\n",
            "1/1 [==============================] - 0s 91ms/step - factorized_top_k/top_1_categorical_accuracy: 0.0000e+00 - factorized_top_k/top_5_categorical_accuracy: 0.9225 - factorized_top_k/top_10_categorical_accuracy: 1.0000 - factorized_top_k/top_50_categorical_accuracy: 1.0000 - factorized_top_k/top_100_categorical_accuracy: 1.0000 - loss: 2334.0708 - regularization_loss: 0.0000e+00 - total_loss: 2334.0708\n",
            "Epoch 151/250\n",
            "1/1 [==============================] - 0s 96ms/step - factorized_top_k/top_1_categorical_accuracy: 0.0000e+00 - factorized_top_k/top_5_categorical_accuracy: 0.9225 - factorized_top_k/top_10_categorical_accuracy: 1.0000 - factorized_top_k/top_50_categorical_accuracy: 1.0000 - factorized_top_k/top_100_categorical_accuracy: 1.0000 - loss: 2334.0518 - regularization_loss: 0.0000e+00 - total_loss: 2334.0518\n",
            "Epoch 152/250\n",
            "1/1 [==============================] - 0s 90ms/step - factorized_top_k/top_1_categorical_accuracy: 0.0000e+00 - factorized_top_k/top_5_categorical_accuracy: 0.9225 - factorized_top_k/top_10_categorical_accuracy: 1.0000 - factorized_top_k/top_50_categorical_accuracy: 1.0000 - factorized_top_k/top_100_categorical_accuracy: 1.0000 - loss: 2334.0330 - regularization_loss: 0.0000e+00 - total_loss: 2334.0330\n",
            "Epoch 153/250\n",
            "1/1 [==============================] - 0s 85ms/step - factorized_top_k/top_1_categorical_accuracy: 0.0000e+00 - factorized_top_k/top_5_categorical_accuracy: 0.9225 - factorized_top_k/top_10_categorical_accuracy: 1.0000 - factorized_top_k/top_50_categorical_accuracy: 1.0000 - factorized_top_k/top_100_categorical_accuracy: 1.0000 - loss: 2334.0142 - regularization_loss: 0.0000e+00 - total_loss: 2334.0142\n",
            "Epoch 154/250\n",
            "1/1 [==============================] - 0s 89ms/step - factorized_top_k/top_1_categorical_accuracy: 0.0000e+00 - factorized_top_k/top_5_categorical_accuracy: 0.9225 - factorized_top_k/top_10_categorical_accuracy: 1.0000 - factorized_top_k/top_50_categorical_accuracy: 1.0000 - factorized_top_k/top_100_categorical_accuracy: 1.0000 - loss: 2333.9951 - regularization_loss: 0.0000e+00 - total_loss: 2333.9951\n",
            "Epoch 155/250\n",
            "1/1 [==============================] - 0s 78ms/step - factorized_top_k/top_1_categorical_accuracy: 0.0000e+00 - factorized_top_k/top_5_categorical_accuracy: 0.9225 - factorized_top_k/top_10_categorical_accuracy: 1.0000 - factorized_top_k/top_50_categorical_accuracy: 1.0000 - factorized_top_k/top_100_categorical_accuracy: 1.0000 - loss: 2333.9763 - regularization_loss: 0.0000e+00 - total_loss: 2333.9763\n",
            "Epoch 156/250\n",
            "1/1 [==============================] - 0s 81ms/step - factorized_top_k/top_1_categorical_accuracy: 0.0000e+00 - factorized_top_k/top_5_categorical_accuracy: 0.9225 - factorized_top_k/top_10_categorical_accuracy: 1.0000 - factorized_top_k/top_50_categorical_accuracy: 1.0000 - factorized_top_k/top_100_categorical_accuracy: 1.0000 - loss: 2333.9578 - regularization_loss: 0.0000e+00 - total_loss: 2333.9578\n",
            "Epoch 157/250\n",
            "1/1 [==============================] - 0s 82ms/step - factorized_top_k/top_1_categorical_accuracy: 0.0000e+00 - factorized_top_k/top_5_categorical_accuracy: 0.9225 - factorized_top_k/top_10_categorical_accuracy: 1.0000 - factorized_top_k/top_50_categorical_accuracy: 1.0000 - factorized_top_k/top_100_categorical_accuracy: 1.0000 - loss: 2333.9392 - regularization_loss: 0.0000e+00 - total_loss: 2333.9392\n",
            "Epoch 158/250\n",
            "1/1 [==============================] - 0s 87ms/step - factorized_top_k/top_1_categorical_accuracy: 0.0000e+00 - factorized_top_k/top_5_categorical_accuracy: 0.9225 - factorized_top_k/top_10_categorical_accuracy: 1.0000 - factorized_top_k/top_50_categorical_accuracy: 1.0000 - factorized_top_k/top_100_categorical_accuracy: 1.0000 - loss: 2333.9204 - regularization_loss: 0.0000e+00 - total_loss: 2333.9204\n",
            "Epoch 159/250\n",
            "1/1 [==============================] - 0s 89ms/step - factorized_top_k/top_1_categorical_accuracy: 0.0000e+00 - factorized_top_k/top_5_categorical_accuracy: 0.9225 - factorized_top_k/top_10_categorical_accuracy: 1.0000 - factorized_top_k/top_50_categorical_accuracy: 1.0000 - factorized_top_k/top_100_categorical_accuracy: 1.0000 - loss: 2333.9021 - regularization_loss: 0.0000e+00 - total_loss: 2333.9021\n",
            "Epoch 160/250\n",
            "1/1 [==============================] - 0s 79ms/step - factorized_top_k/top_1_categorical_accuracy: 0.0000e+00 - factorized_top_k/top_5_categorical_accuracy: 0.9225 - factorized_top_k/top_10_categorical_accuracy: 1.0000 - factorized_top_k/top_50_categorical_accuracy: 1.0000 - factorized_top_k/top_100_categorical_accuracy: 1.0000 - loss: 2333.8838 - regularization_loss: 0.0000e+00 - total_loss: 2333.8838\n",
            "Epoch 161/250\n",
            "1/1 [==============================] - 0s 93ms/step - factorized_top_k/top_1_categorical_accuracy: 0.0000e+00 - factorized_top_k/top_5_categorical_accuracy: 0.9225 - factorized_top_k/top_10_categorical_accuracy: 1.0000 - factorized_top_k/top_50_categorical_accuracy: 1.0000 - factorized_top_k/top_100_categorical_accuracy: 1.0000 - loss: 2333.8652 - regularization_loss: 0.0000e+00 - total_loss: 2333.8652\n",
            "Epoch 162/250\n",
            "1/1 [==============================] - 0s 84ms/step - factorized_top_k/top_1_categorical_accuracy: 0.0000e+00 - factorized_top_k/top_5_categorical_accuracy: 0.9225 - factorized_top_k/top_10_categorical_accuracy: 1.0000 - factorized_top_k/top_50_categorical_accuracy: 1.0000 - factorized_top_k/top_100_categorical_accuracy: 1.0000 - loss: 2333.8469 - regularization_loss: 0.0000e+00 - total_loss: 2333.8469\n",
            "Epoch 163/250\n",
            "1/1 [==============================] - 0s 92ms/step - factorized_top_k/top_1_categorical_accuracy: 0.0000e+00 - factorized_top_k/top_5_categorical_accuracy: 0.9225 - factorized_top_k/top_10_categorical_accuracy: 1.0000 - factorized_top_k/top_50_categorical_accuracy: 1.0000 - factorized_top_k/top_100_categorical_accuracy: 1.0000 - loss: 2333.8286 - regularization_loss: 0.0000e+00 - total_loss: 2333.8286\n",
            "Epoch 164/250\n",
            "1/1 [==============================] - 0s 92ms/step - factorized_top_k/top_1_categorical_accuracy: 0.0000e+00 - factorized_top_k/top_5_categorical_accuracy: 0.9225 - factorized_top_k/top_10_categorical_accuracy: 1.0000 - factorized_top_k/top_50_categorical_accuracy: 1.0000 - factorized_top_k/top_100_categorical_accuracy: 1.0000 - loss: 2333.8101 - regularization_loss: 0.0000e+00 - total_loss: 2333.8101\n",
            "Epoch 165/250\n",
            "1/1 [==============================] - 0s 86ms/step - factorized_top_k/top_1_categorical_accuracy: 0.0000e+00 - factorized_top_k/top_5_categorical_accuracy: 0.9225 - factorized_top_k/top_10_categorical_accuracy: 1.0000 - factorized_top_k/top_50_categorical_accuracy: 1.0000 - factorized_top_k/top_100_categorical_accuracy: 1.0000 - loss: 2333.7920 - regularization_loss: 0.0000e+00 - total_loss: 2333.7920\n",
            "Epoch 166/250\n",
            "1/1 [==============================] - 0s 89ms/step - factorized_top_k/top_1_categorical_accuracy: 0.0000e+00 - factorized_top_k/top_5_categorical_accuracy: 0.9225 - factorized_top_k/top_10_categorical_accuracy: 1.0000 - factorized_top_k/top_50_categorical_accuracy: 1.0000 - factorized_top_k/top_100_categorical_accuracy: 1.0000 - loss: 2333.7739 - regularization_loss: 0.0000e+00 - total_loss: 2333.7739\n",
            "Epoch 167/250\n",
            "1/1 [==============================] - 0s 82ms/step - factorized_top_k/top_1_categorical_accuracy: 0.0000e+00 - factorized_top_k/top_5_categorical_accuracy: 0.9225 - factorized_top_k/top_10_categorical_accuracy: 1.0000 - factorized_top_k/top_50_categorical_accuracy: 1.0000 - factorized_top_k/top_100_categorical_accuracy: 1.0000 - loss: 2333.7559 - regularization_loss: 0.0000e+00 - total_loss: 2333.7559\n",
            "Epoch 168/250\n",
            "1/1 [==============================] - 0s 102ms/step - factorized_top_k/top_1_categorical_accuracy: 0.0000e+00 - factorized_top_k/top_5_categorical_accuracy: 0.9225 - factorized_top_k/top_10_categorical_accuracy: 1.0000 - factorized_top_k/top_50_categorical_accuracy: 1.0000 - factorized_top_k/top_100_categorical_accuracy: 1.0000 - loss: 2333.7378 - regularization_loss: 0.0000e+00 - total_loss: 2333.7378\n",
            "Epoch 169/250\n",
            "1/1 [==============================] - 0s 82ms/step - factorized_top_k/top_1_categorical_accuracy: 0.0000e+00 - factorized_top_k/top_5_categorical_accuracy: 0.9225 - factorized_top_k/top_10_categorical_accuracy: 1.0000 - factorized_top_k/top_50_categorical_accuracy: 1.0000 - factorized_top_k/top_100_categorical_accuracy: 1.0000 - loss: 2333.7197 - regularization_loss: 0.0000e+00 - total_loss: 2333.7197\n",
            "Epoch 170/250\n",
            "1/1 [==============================] - 0s 78ms/step - factorized_top_k/top_1_categorical_accuracy: 0.0000e+00 - factorized_top_k/top_5_categorical_accuracy: 0.9225 - factorized_top_k/top_10_categorical_accuracy: 1.0000 - factorized_top_k/top_50_categorical_accuracy: 1.0000 - factorized_top_k/top_100_categorical_accuracy: 1.0000 - loss: 2333.7017 - regularization_loss: 0.0000e+00 - total_loss: 2333.7017\n",
            "Epoch 171/250\n",
            "1/1 [==============================] - 0s 81ms/step - factorized_top_k/top_1_categorical_accuracy: 0.0000e+00 - factorized_top_k/top_5_categorical_accuracy: 0.9225 - factorized_top_k/top_10_categorical_accuracy: 1.0000 - factorized_top_k/top_50_categorical_accuracy: 1.0000 - factorized_top_k/top_100_categorical_accuracy: 1.0000 - loss: 2333.6838 - regularization_loss: 0.0000e+00 - total_loss: 2333.6838\n",
            "Epoch 172/250\n",
            "1/1 [==============================] - 0s 86ms/step - factorized_top_k/top_1_categorical_accuracy: 0.0000e+00 - factorized_top_k/top_5_categorical_accuracy: 0.9225 - factorized_top_k/top_10_categorical_accuracy: 1.0000 - factorized_top_k/top_50_categorical_accuracy: 1.0000 - factorized_top_k/top_100_categorical_accuracy: 1.0000 - loss: 2333.6660 - regularization_loss: 0.0000e+00 - total_loss: 2333.6660\n",
            "Epoch 173/250\n",
            "1/1 [==============================] - 0s 83ms/step - factorized_top_k/top_1_categorical_accuracy: 0.0000e+00 - factorized_top_k/top_5_categorical_accuracy: 0.9225 - factorized_top_k/top_10_categorical_accuracy: 1.0000 - factorized_top_k/top_50_categorical_accuracy: 1.0000 - factorized_top_k/top_100_categorical_accuracy: 1.0000 - loss: 2333.6479 - regularization_loss: 0.0000e+00 - total_loss: 2333.6479\n",
            "Epoch 174/250\n",
            "1/1 [==============================] - 0s 83ms/step - factorized_top_k/top_1_categorical_accuracy: 0.0000e+00 - factorized_top_k/top_5_categorical_accuracy: 0.9225 - factorized_top_k/top_10_categorical_accuracy: 1.0000 - factorized_top_k/top_50_categorical_accuracy: 1.0000 - factorized_top_k/top_100_categorical_accuracy: 1.0000 - loss: 2333.6301 - regularization_loss: 0.0000e+00 - total_loss: 2333.6301\n",
            "Epoch 175/250\n",
            "1/1 [==============================] - 0s 93ms/step - factorized_top_k/top_1_categorical_accuracy: 0.0000e+00 - factorized_top_k/top_5_categorical_accuracy: 0.9225 - factorized_top_k/top_10_categorical_accuracy: 1.0000 - factorized_top_k/top_50_categorical_accuracy: 1.0000 - factorized_top_k/top_100_categorical_accuracy: 1.0000 - loss: 2333.6125 - regularization_loss: 0.0000e+00 - total_loss: 2333.6125\n",
            "Epoch 176/250\n",
            "1/1 [==============================] - 0s 81ms/step - factorized_top_k/top_1_categorical_accuracy: 0.0000e+00 - factorized_top_k/top_5_categorical_accuracy: 0.9225 - factorized_top_k/top_10_categorical_accuracy: 1.0000 - factorized_top_k/top_50_categorical_accuracy: 1.0000 - factorized_top_k/top_100_categorical_accuracy: 1.0000 - loss: 2333.5950 - regularization_loss: 0.0000e+00 - total_loss: 2333.5950\n",
            "Epoch 177/250\n",
            "1/1 [==============================] - 0s 81ms/step - factorized_top_k/top_1_categorical_accuracy: 0.0000e+00 - factorized_top_k/top_5_categorical_accuracy: 0.9225 - factorized_top_k/top_10_categorical_accuracy: 1.0000 - factorized_top_k/top_50_categorical_accuracy: 1.0000 - factorized_top_k/top_100_categorical_accuracy: 1.0000 - loss: 2333.5771 - regularization_loss: 0.0000e+00 - total_loss: 2333.5771\n",
            "Epoch 178/250\n",
            "1/1 [==============================] - 0s 85ms/step - factorized_top_k/top_1_categorical_accuracy: 0.0000e+00 - factorized_top_k/top_5_categorical_accuracy: 0.9225 - factorized_top_k/top_10_categorical_accuracy: 1.0000 - factorized_top_k/top_50_categorical_accuracy: 1.0000 - factorized_top_k/top_100_categorical_accuracy: 1.0000 - loss: 2333.5596 - regularization_loss: 0.0000e+00 - total_loss: 2333.5596\n",
            "Epoch 179/250\n",
            "1/1 [==============================] - 0s 80ms/step - factorized_top_k/top_1_categorical_accuracy: 0.0000e+00 - factorized_top_k/top_5_categorical_accuracy: 0.9225 - factorized_top_k/top_10_categorical_accuracy: 1.0000 - factorized_top_k/top_50_categorical_accuracy: 1.0000 - factorized_top_k/top_100_categorical_accuracy: 1.0000 - loss: 2333.5420 - regularization_loss: 0.0000e+00 - total_loss: 2333.5420\n",
            "Epoch 180/250\n",
            "1/1 [==============================] - 0s 80ms/step - factorized_top_k/top_1_categorical_accuracy: 0.0000e+00 - factorized_top_k/top_5_categorical_accuracy: 0.9225 - factorized_top_k/top_10_categorical_accuracy: 1.0000 - factorized_top_k/top_50_categorical_accuracy: 1.0000 - factorized_top_k/top_100_categorical_accuracy: 1.0000 - loss: 2333.5244 - regularization_loss: 0.0000e+00 - total_loss: 2333.5244\n",
            "Epoch 181/250\n",
            "1/1 [==============================] - 0s 80ms/step - factorized_top_k/top_1_categorical_accuracy: 0.0000e+00 - factorized_top_k/top_5_categorical_accuracy: 0.9225 - factorized_top_k/top_10_categorical_accuracy: 1.0000 - factorized_top_k/top_50_categorical_accuracy: 1.0000 - factorized_top_k/top_100_categorical_accuracy: 1.0000 - loss: 2333.5068 - regularization_loss: 0.0000e+00 - total_loss: 2333.5068\n",
            "Epoch 182/250\n",
            "1/1 [==============================] - 0s 93ms/step - factorized_top_k/top_1_categorical_accuracy: 0.0000e+00 - factorized_top_k/top_5_categorical_accuracy: 0.9225 - factorized_top_k/top_10_categorical_accuracy: 1.0000 - factorized_top_k/top_50_categorical_accuracy: 1.0000 - factorized_top_k/top_100_categorical_accuracy: 1.0000 - loss: 2333.4895 - regularization_loss: 0.0000e+00 - total_loss: 2333.4895\n",
            "Epoch 183/250\n",
            "1/1 [==============================] - 0s 83ms/step - factorized_top_k/top_1_categorical_accuracy: 0.0000e+00 - factorized_top_k/top_5_categorical_accuracy: 0.9225 - factorized_top_k/top_10_categorical_accuracy: 1.0000 - factorized_top_k/top_50_categorical_accuracy: 1.0000 - factorized_top_k/top_100_categorical_accuracy: 1.0000 - loss: 2333.4722 - regularization_loss: 0.0000e+00 - total_loss: 2333.4722\n",
            "Epoch 184/250\n",
            "1/1 [==============================] - 0s 94ms/step - factorized_top_k/top_1_categorical_accuracy: 0.0000e+00 - factorized_top_k/top_5_categorical_accuracy: 0.9225 - factorized_top_k/top_10_categorical_accuracy: 1.0000 - factorized_top_k/top_50_categorical_accuracy: 1.0000 - factorized_top_k/top_100_categorical_accuracy: 1.0000 - loss: 2333.4546 - regularization_loss: 0.0000e+00 - total_loss: 2333.4546\n",
            "Epoch 185/250\n",
            "1/1 [==============================] - 0s 90ms/step - factorized_top_k/top_1_categorical_accuracy: 0.0000e+00 - factorized_top_k/top_5_categorical_accuracy: 0.9225 - factorized_top_k/top_10_categorical_accuracy: 1.0000 - factorized_top_k/top_50_categorical_accuracy: 1.0000 - factorized_top_k/top_100_categorical_accuracy: 1.0000 - loss: 2333.4375 - regularization_loss: 0.0000e+00 - total_loss: 2333.4375\n",
            "Epoch 186/250\n",
            "1/1 [==============================] - 0s 83ms/step - factorized_top_k/top_1_categorical_accuracy: 0.0000e+00 - factorized_top_k/top_5_categorical_accuracy: 0.9225 - factorized_top_k/top_10_categorical_accuracy: 1.0000 - factorized_top_k/top_50_categorical_accuracy: 1.0000 - factorized_top_k/top_100_categorical_accuracy: 1.0000 - loss: 2333.4202 - regularization_loss: 0.0000e+00 - total_loss: 2333.4202\n",
            "Epoch 187/250\n",
            "1/1 [==============================] - 0s 96ms/step - factorized_top_k/top_1_categorical_accuracy: 0.0000e+00 - factorized_top_k/top_5_categorical_accuracy: 0.9225 - factorized_top_k/top_10_categorical_accuracy: 1.0000 - factorized_top_k/top_50_categorical_accuracy: 1.0000 - factorized_top_k/top_100_categorical_accuracy: 1.0000 - loss: 2333.4031 - regularization_loss: 0.0000e+00 - total_loss: 2333.4031\n",
            "Epoch 188/250\n",
            "1/1 [==============================] - 0s 79ms/step - factorized_top_k/top_1_categorical_accuracy: 0.0000e+00 - factorized_top_k/top_5_categorical_accuracy: 0.9225 - factorized_top_k/top_10_categorical_accuracy: 1.0000 - factorized_top_k/top_50_categorical_accuracy: 1.0000 - factorized_top_k/top_100_categorical_accuracy: 1.0000 - loss: 2333.3857 - regularization_loss: 0.0000e+00 - total_loss: 2333.3857\n",
            "Epoch 189/250\n",
            "1/1 [==============================] - 0s 78ms/step - factorized_top_k/top_1_categorical_accuracy: 0.0000e+00 - factorized_top_k/top_5_categorical_accuracy: 0.9225 - factorized_top_k/top_10_categorical_accuracy: 1.0000 - factorized_top_k/top_50_categorical_accuracy: 1.0000 - factorized_top_k/top_100_categorical_accuracy: 1.0000 - loss: 2333.3687 - regularization_loss: 0.0000e+00 - total_loss: 2333.3687\n",
            "Epoch 190/250\n",
            "1/1 [==============================] - 0s 91ms/step - factorized_top_k/top_1_categorical_accuracy: 0.0000e+00 - factorized_top_k/top_5_categorical_accuracy: 0.9225 - factorized_top_k/top_10_categorical_accuracy: 1.0000 - factorized_top_k/top_50_categorical_accuracy: 1.0000 - factorized_top_k/top_100_categorical_accuracy: 1.0000 - loss: 2333.3516 - regularization_loss: 0.0000e+00 - total_loss: 2333.3516\n",
            "Epoch 191/250\n",
            "1/1 [==============================] - 0s 133ms/step - factorized_top_k/top_1_categorical_accuracy: 0.0000e+00 - factorized_top_k/top_5_categorical_accuracy: 0.9225 - factorized_top_k/top_10_categorical_accuracy: 1.0000 - factorized_top_k/top_50_categorical_accuracy: 1.0000 - factorized_top_k/top_100_categorical_accuracy: 1.0000 - loss: 2333.3345 - regularization_loss: 0.0000e+00 - total_loss: 2333.3345\n",
            "Epoch 192/250\n",
            "1/1 [==============================] - 0s 138ms/step - factorized_top_k/top_1_categorical_accuracy: 0.0000e+00 - factorized_top_k/top_5_categorical_accuracy: 0.9225 - factorized_top_k/top_10_categorical_accuracy: 1.0000 - factorized_top_k/top_50_categorical_accuracy: 1.0000 - factorized_top_k/top_100_categorical_accuracy: 1.0000 - loss: 2333.3174 - regularization_loss: 0.0000e+00 - total_loss: 2333.3174\n",
            "Epoch 193/250\n",
            "1/1 [==============================] - 0s 150ms/step - factorized_top_k/top_1_categorical_accuracy: 0.0000e+00 - factorized_top_k/top_5_categorical_accuracy: 0.9225 - factorized_top_k/top_10_categorical_accuracy: 1.0000 - factorized_top_k/top_50_categorical_accuracy: 1.0000 - factorized_top_k/top_100_categorical_accuracy: 1.0000 - loss: 2333.3005 - regularization_loss: 0.0000e+00 - total_loss: 2333.3005\n",
            "Epoch 194/250\n",
            "1/1 [==============================] - 0s 129ms/step - factorized_top_k/top_1_categorical_accuracy: 0.0000e+00 - factorized_top_k/top_5_categorical_accuracy: 0.9225 - factorized_top_k/top_10_categorical_accuracy: 1.0000 - factorized_top_k/top_50_categorical_accuracy: 1.0000 - factorized_top_k/top_100_categorical_accuracy: 1.0000 - loss: 2333.2834 - regularization_loss: 0.0000e+00 - total_loss: 2333.2834\n",
            "Epoch 195/250\n",
            "1/1 [==============================] - 0s 132ms/step - factorized_top_k/top_1_categorical_accuracy: 0.0000e+00 - factorized_top_k/top_5_categorical_accuracy: 0.9225 - factorized_top_k/top_10_categorical_accuracy: 1.0000 - factorized_top_k/top_50_categorical_accuracy: 1.0000 - factorized_top_k/top_100_categorical_accuracy: 1.0000 - loss: 2333.2666 - regularization_loss: 0.0000e+00 - total_loss: 2333.2666\n",
            "Epoch 196/250\n",
            "1/1 [==============================] - 0s 145ms/step - factorized_top_k/top_1_categorical_accuracy: 0.0000e+00 - factorized_top_k/top_5_categorical_accuracy: 0.9225 - factorized_top_k/top_10_categorical_accuracy: 1.0000 - factorized_top_k/top_50_categorical_accuracy: 1.0000 - factorized_top_k/top_100_categorical_accuracy: 1.0000 - loss: 2333.2498 - regularization_loss: 0.0000e+00 - total_loss: 2333.2498\n",
            "Epoch 197/250\n",
            "1/1 [==============================] - 0s 141ms/step - factorized_top_k/top_1_categorical_accuracy: 0.0000e+00 - factorized_top_k/top_5_categorical_accuracy: 0.9225 - factorized_top_k/top_10_categorical_accuracy: 1.0000 - factorized_top_k/top_50_categorical_accuracy: 1.0000 - factorized_top_k/top_100_categorical_accuracy: 1.0000 - loss: 2333.2329 - regularization_loss: 0.0000e+00 - total_loss: 2333.2329\n",
            "Epoch 198/250\n",
            "1/1 [==============================] - 0s 136ms/step - factorized_top_k/top_1_categorical_accuracy: 0.0000e+00 - factorized_top_k/top_5_categorical_accuracy: 0.9225 - factorized_top_k/top_10_categorical_accuracy: 1.0000 - factorized_top_k/top_50_categorical_accuracy: 1.0000 - factorized_top_k/top_100_categorical_accuracy: 1.0000 - loss: 2333.2161 - regularization_loss: 0.0000e+00 - total_loss: 2333.2161\n",
            "Epoch 199/250\n",
            "1/1 [==============================] - 0s 171ms/step - factorized_top_k/top_1_categorical_accuracy: 0.0000e+00 - factorized_top_k/top_5_categorical_accuracy: 0.9225 - factorized_top_k/top_10_categorical_accuracy: 1.0000 - factorized_top_k/top_50_categorical_accuracy: 1.0000 - factorized_top_k/top_100_categorical_accuracy: 1.0000 - loss: 2333.1992 - regularization_loss: 0.0000e+00 - total_loss: 2333.1992\n",
            "Epoch 200/250\n",
            "1/1 [==============================] - 0s 153ms/step - factorized_top_k/top_1_categorical_accuracy: 0.0000e+00 - factorized_top_k/top_5_categorical_accuracy: 0.9225 - factorized_top_k/top_10_categorical_accuracy: 1.0000 - factorized_top_k/top_50_categorical_accuracy: 1.0000 - factorized_top_k/top_100_categorical_accuracy: 1.0000 - loss: 2333.1826 - regularization_loss: 0.0000e+00 - total_loss: 2333.1826\n",
            "Epoch 201/250\n",
            "1/1 [==============================] - 0s 180ms/step - factorized_top_k/top_1_categorical_accuracy: 0.0000e+00 - factorized_top_k/top_5_categorical_accuracy: 0.9225 - factorized_top_k/top_10_categorical_accuracy: 1.0000 - factorized_top_k/top_50_categorical_accuracy: 1.0000 - factorized_top_k/top_100_categorical_accuracy: 1.0000 - loss: 2333.1658 - regularization_loss: 0.0000e+00 - total_loss: 2333.1658\n",
            "Epoch 202/250\n",
            "1/1 [==============================] - 0s 215ms/step - factorized_top_k/top_1_categorical_accuracy: 0.0000e+00 - factorized_top_k/top_5_categorical_accuracy: 0.9225 - factorized_top_k/top_10_categorical_accuracy: 1.0000 - factorized_top_k/top_50_categorical_accuracy: 1.0000 - factorized_top_k/top_100_categorical_accuracy: 1.0000 - loss: 2333.1492 - regularization_loss: 0.0000e+00 - total_loss: 2333.1492\n",
            "Epoch 203/250\n",
            "1/1 [==============================] - 0s 213ms/step - factorized_top_k/top_1_categorical_accuracy: 0.0000e+00 - factorized_top_k/top_5_categorical_accuracy: 0.9225 - factorized_top_k/top_10_categorical_accuracy: 1.0000 - factorized_top_k/top_50_categorical_accuracy: 1.0000 - factorized_top_k/top_100_categorical_accuracy: 1.0000 - loss: 2333.1328 - regularization_loss: 0.0000e+00 - total_loss: 2333.1328\n",
            "Epoch 204/250\n",
            "1/1 [==============================] - 0s 162ms/step - factorized_top_k/top_1_categorical_accuracy: 0.0000e+00 - factorized_top_k/top_5_categorical_accuracy: 0.9225 - factorized_top_k/top_10_categorical_accuracy: 1.0000 - factorized_top_k/top_50_categorical_accuracy: 1.0000 - factorized_top_k/top_100_categorical_accuracy: 1.0000 - loss: 2333.1160 - regularization_loss: 0.0000e+00 - total_loss: 2333.1160\n",
            "Epoch 205/250\n",
            "1/1 [==============================] - 0s 184ms/step - factorized_top_k/top_1_categorical_accuracy: 0.0000e+00 - factorized_top_k/top_5_categorical_accuracy: 0.9225 - factorized_top_k/top_10_categorical_accuracy: 1.0000 - factorized_top_k/top_50_categorical_accuracy: 1.0000 - factorized_top_k/top_100_categorical_accuracy: 1.0000 - loss: 2333.0996 - regularization_loss: 0.0000e+00 - total_loss: 2333.0996\n",
            "Epoch 206/250\n",
            "1/1 [==============================] - 0s 206ms/step - factorized_top_k/top_1_categorical_accuracy: 0.0000e+00 - factorized_top_k/top_5_categorical_accuracy: 0.9225 - factorized_top_k/top_10_categorical_accuracy: 1.0000 - factorized_top_k/top_50_categorical_accuracy: 1.0000 - factorized_top_k/top_100_categorical_accuracy: 1.0000 - loss: 2333.0830 - regularization_loss: 0.0000e+00 - total_loss: 2333.0830\n",
            "Epoch 207/250\n",
            "1/1 [==============================] - 0s 180ms/step - factorized_top_k/top_1_categorical_accuracy: 0.0000e+00 - factorized_top_k/top_5_categorical_accuracy: 0.9225 - factorized_top_k/top_10_categorical_accuracy: 1.0000 - factorized_top_k/top_50_categorical_accuracy: 1.0000 - factorized_top_k/top_100_categorical_accuracy: 1.0000 - loss: 2333.0664 - regularization_loss: 0.0000e+00 - total_loss: 2333.0664\n",
            "Epoch 208/250\n",
            "1/1 [==============================] - 0s 193ms/step - factorized_top_k/top_1_categorical_accuracy: 0.0000e+00 - factorized_top_k/top_5_categorical_accuracy: 0.9225 - factorized_top_k/top_10_categorical_accuracy: 1.0000 - factorized_top_k/top_50_categorical_accuracy: 1.0000 - factorized_top_k/top_100_categorical_accuracy: 1.0000 - loss: 2333.0498 - regularization_loss: 0.0000e+00 - total_loss: 2333.0498\n",
            "Epoch 209/250\n",
            "1/1 [==============================] - 0s 181ms/step - factorized_top_k/top_1_categorical_accuracy: 0.0000e+00 - factorized_top_k/top_5_categorical_accuracy: 0.9225 - factorized_top_k/top_10_categorical_accuracy: 1.0000 - factorized_top_k/top_50_categorical_accuracy: 1.0000 - factorized_top_k/top_100_categorical_accuracy: 1.0000 - loss: 2333.0337 - regularization_loss: 0.0000e+00 - total_loss: 2333.0337\n",
            "Epoch 210/250\n",
            "1/1 [==============================] - 0s 201ms/step - factorized_top_k/top_1_categorical_accuracy: 0.0000e+00 - factorized_top_k/top_5_categorical_accuracy: 0.9225 - factorized_top_k/top_10_categorical_accuracy: 1.0000 - factorized_top_k/top_50_categorical_accuracy: 1.0000 - factorized_top_k/top_100_categorical_accuracy: 1.0000 - loss: 2333.0171 - regularization_loss: 0.0000e+00 - total_loss: 2333.0171\n",
            "Epoch 211/250\n",
            "1/1 [==============================] - 0s 211ms/step - factorized_top_k/top_1_categorical_accuracy: 0.0000e+00 - factorized_top_k/top_5_categorical_accuracy: 0.9225 - factorized_top_k/top_10_categorical_accuracy: 1.0000 - factorized_top_k/top_50_categorical_accuracy: 1.0000 - factorized_top_k/top_100_categorical_accuracy: 1.0000 - loss: 2333.0007 - regularization_loss: 0.0000e+00 - total_loss: 2333.0007\n",
            "Epoch 212/250\n",
            "1/1 [==============================] - 0s 218ms/step - factorized_top_k/top_1_categorical_accuracy: 0.0000e+00 - factorized_top_k/top_5_categorical_accuracy: 0.9225 - factorized_top_k/top_10_categorical_accuracy: 1.0000 - factorized_top_k/top_50_categorical_accuracy: 1.0000 - factorized_top_k/top_100_categorical_accuracy: 1.0000 - loss: 2332.9846 - regularization_loss: 0.0000e+00 - total_loss: 2332.9846\n",
            "Epoch 213/250\n",
            "1/1 [==============================] - 0s 197ms/step - factorized_top_k/top_1_categorical_accuracy: 0.0000e+00 - factorized_top_k/top_5_categorical_accuracy: 0.9225 - factorized_top_k/top_10_categorical_accuracy: 1.0000 - factorized_top_k/top_50_categorical_accuracy: 1.0000 - factorized_top_k/top_100_categorical_accuracy: 1.0000 - loss: 2332.9683 - regularization_loss: 0.0000e+00 - total_loss: 2332.9683\n",
            "Epoch 214/250\n",
            "1/1 [==============================] - 0s 171ms/step - factorized_top_k/top_1_categorical_accuracy: 0.0000e+00 - factorized_top_k/top_5_categorical_accuracy: 0.9225 - factorized_top_k/top_10_categorical_accuracy: 1.0000 - factorized_top_k/top_50_categorical_accuracy: 1.0000 - factorized_top_k/top_100_categorical_accuracy: 1.0000 - loss: 2332.9521 - regularization_loss: 0.0000e+00 - total_loss: 2332.9521\n",
            "Epoch 215/250\n",
            "1/1 [==============================] - 0s 214ms/step - factorized_top_k/top_1_categorical_accuracy: 0.0000e+00 - factorized_top_k/top_5_categorical_accuracy: 0.9225 - factorized_top_k/top_10_categorical_accuracy: 1.0000 - factorized_top_k/top_50_categorical_accuracy: 1.0000 - factorized_top_k/top_100_categorical_accuracy: 1.0000 - loss: 2332.9360 - regularization_loss: 0.0000e+00 - total_loss: 2332.9360\n",
            "Epoch 216/250\n",
            "1/1 [==============================] - 0s 208ms/step - factorized_top_k/top_1_categorical_accuracy: 0.0000e+00 - factorized_top_k/top_5_categorical_accuracy: 0.9225 - factorized_top_k/top_10_categorical_accuracy: 1.0000 - factorized_top_k/top_50_categorical_accuracy: 1.0000 - factorized_top_k/top_100_categorical_accuracy: 1.0000 - loss: 2332.9194 - regularization_loss: 0.0000e+00 - total_loss: 2332.9194\n",
            "Epoch 217/250\n",
            "1/1 [==============================] - 0s 195ms/step - factorized_top_k/top_1_categorical_accuracy: 0.0000e+00 - factorized_top_k/top_5_categorical_accuracy: 0.9225 - factorized_top_k/top_10_categorical_accuracy: 1.0000 - factorized_top_k/top_50_categorical_accuracy: 1.0000 - factorized_top_k/top_100_categorical_accuracy: 1.0000 - loss: 2332.9036 - regularization_loss: 0.0000e+00 - total_loss: 2332.9036\n",
            "Epoch 218/250\n",
            "1/1 [==============================] - 0s 208ms/step - factorized_top_k/top_1_categorical_accuracy: 0.0000e+00 - factorized_top_k/top_5_categorical_accuracy: 0.9225 - factorized_top_k/top_10_categorical_accuracy: 1.0000 - factorized_top_k/top_50_categorical_accuracy: 1.0000 - factorized_top_k/top_100_categorical_accuracy: 1.0000 - loss: 2332.8875 - regularization_loss: 0.0000e+00 - total_loss: 2332.8875\n",
            "Epoch 219/250\n",
            "1/1 [==============================] - 0s 175ms/step - factorized_top_k/top_1_categorical_accuracy: 0.0000e+00 - factorized_top_k/top_5_categorical_accuracy: 0.9225 - factorized_top_k/top_10_categorical_accuracy: 1.0000 - factorized_top_k/top_50_categorical_accuracy: 1.0000 - factorized_top_k/top_100_categorical_accuracy: 1.0000 - loss: 2332.8713 - regularization_loss: 0.0000e+00 - total_loss: 2332.8713\n",
            "Epoch 220/250\n",
            "1/1 [==============================] - 0s 198ms/step - factorized_top_k/top_1_categorical_accuracy: 0.0000e+00 - factorized_top_k/top_5_categorical_accuracy: 0.9225 - factorized_top_k/top_10_categorical_accuracy: 1.0000 - factorized_top_k/top_50_categorical_accuracy: 1.0000 - factorized_top_k/top_100_categorical_accuracy: 1.0000 - loss: 2332.8552 - regularization_loss: 0.0000e+00 - total_loss: 2332.8552\n",
            "Epoch 221/250\n",
            "1/1 [==============================] - 0s 218ms/step - factorized_top_k/top_1_categorical_accuracy: 0.0000e+00 - factorized_top_k/top_5_categorical_accuracy: 0.9225 - factorized_top_k/top_10_categorical_accuracy: 1.0000 - factorized_top_k/top_50_categorical_accuracy: 1.0000 - factorized_top_k/top_100_categorical_accuracy: 1.0000 - loss: 2332.8394 - regularization_loss: 0.0000e+00 - total_loss: 2332.8394\n",
            "Epoch 222/250\n",
            "1/1 [==============================] - 0s 205ms/step - factorized_top_k/top_1_categorical_accuracy: 0.0000e+00 - factorized_top_k/top_5_categorical_accuracy: 0.9225 - factorized_top_k/top_10_categorical_accuracy: 1.0000 - factorized_top_k/top_50_categorical_accuracy: 1.0000 - factorized_top_k/top_100_categorical_accuracy: 1.0000 - loss: 2332.8232 - regularization_loss: 0.0000e+00 - total_loss: 2332.8232\n",
            "Epoch 223/250\n",
            "1/1 [==============================] - 0s 194ms/step - factorized_top_k/top_1_categorical_accuracy: 0.0000e+00 - factorized_top_k/top_5_categorical_accuracy: 0.9225 - factorized_top_k/top_10_categorical_accuracy: 1.0000 - factorized_top_k/top_50_categorical_accuracy: 1.0000 - factorized_top_k/top_100_categorical_accuracy: 1.0000 - loss: 2332.8074 - regularization_loss: 0.0000e+00 - total_loss: 2332.8074\n",
            "Epoch 224/250\n",
            "1/1 [==============================] - 0s 201ms/step - factorized_top_k/top_1_categorical_accuracy: 0.0000e+00 - factorized_top_k/top_5_categorical_accuracy: 0.9225 - factorized_top_k/top_10_categorical_accuracy: 1.0000 - factorized_top_k/top_50_categorical_accuracy: 1.0000 - factorized_top_k/top_100_categorical_accuracy: 1.0000 - loss: 2332.7915 - regularization_loss: 0.0000e+00 - total_loss: 2332.7915\n",
            "Epoch 225/250\n",
            "1/1 [==============================] - 0s 203ms/step - factorized_top_k/top_1_categorical_accuracy: 0.0000e+00 - factorized_top_k/top_5_categorical_accuracy: 0.9225 - factorized_top_k/top_10_categorical_accuracy: 1.0000 - factorized_top_k/top_50_categorical_accuracy: 1.0000 - factorized_top_k/top_100_categorical_accuracy: 1.0000 - loss: 2332.7754 - regularization_loss: 0.0000e+00 - total_loss: 2332.7754\n",
            "Epoch 226/250\n",
            "1/1 [==============================] - 0s 195ms/step - factorized_top_k/top_1_categorical_accuracy: 0.0000e+00 - factorized_top_k/top_5_categorical_accuracy: 0.9225 - factorized_top_k/top_10_categorical_accuracy: 1.0000 - factorized_top_k/top_50_categorical_accuracy: 1.0000 - factorized_top_k/top_100_categorical_accuracy: 1.0000 - loss: 2332.7598 - regularization_loss: 0.0000e+00 - total_loss: 2332.7598\n",
            "Epoch 227/250\n",
            "1/1 [==============================] - 0s 189ms/step - factorized_top_k/top_1_categorical_accuracy: 0.0000e+00 - factorized_top_k/top_5_categorical_accuracy: 0.9225 - factorized_top_k/top_10_categorical_accuracy: 1.0000 - factorized_top_k/top_50_categorical_accuracy: 1.0000 - factorized_top_k/top_100_categorical_accuracy: 1.0000 - loss: 2332.7439 - regularization_loss: 0.0000e+00 - total_loss: 2332.7439\n",
            "Epoch 228/250\n",
            "1/1 [==============================] - 0s 156ms/step - factorized_top_k/top_1_categorical_accuracy: 0.0000e+00 - factorized_top_k/top_5_categorical_accuracy: 0.9225 - factorized_top_k/top_10_categorical_accuracy: 1.0000 - factorized_top_k/top_50_categorical_accuracy: 1.0000 - factorized_top_k/top_100_categorical_accuracy: 1.0000 - loss: 2332.7280 - regularization_loss: 0.0000e+00 - total_loss: 2332.7280\n",
            "Epoch 229/250\n",
            "1/1 [==============================] - 0s 208ms/step - factorized_top_k/top_1_categorical_accuracy: 0.0000e+00 - factorized_top_k/top_5_categorical_accuracy: 0.9225 - factorized_top_k/top_10_categorical_accuracy: 1.0000 - factorized_top_k/top_50_categorical_accuracy: 1.0000 - factorized_top_k/top_100_categorical_accuracy: 1.0000 - loss: 2332.7124 - regularization_loss: 0.0000e+00 - total_loss: 2332.7124\n",
            "Epoch 230/250\n",
            "1/1 [==============================] - 0s 167ms/step - factorized_top_k/top_1_categorical_accuracy: 0.0000e+00 - factorized_top_k/top_5_categorical_accuracy: 0.9225 - factorized_top_k/top_10_categorical_accuracy: 1.0000 - factorized_top_k/top_50_categorical_accuracy: 1.0000 - factorized_top_k/top_100_categorical_accuracy: 1.0000 - loss: 2332.6968 - regularization_loss: 0.0000e+00 - total_loss: 2332.6968\n",
            "Epoch 231/250\n",
            "1/1 [==============================] - 0s 139ms/step - factorized_top_k/top_1_categorical_accuracy: 0.0000e+00 - factorized_top_k/top_5_categorical_accuracy: 0.9225 - factorized_top_k/top_10_categorical_accuracy: 1.0000 - factorized_top_k/top_50_categorical_accuracy: 1.0000 - factorized_top_k/top_100_categorical_accuracy: 1.0000 - loss: 2332.6809 - regularization_loss: 0.0000e+00 - total_loss: 2332.6809\n",
            "Epoch 232/250\n",
            "1/1 [==============================] - 0s 199ms/step - factorized_top_k/top_1_categorical_accuracy: 0.0000e+00 - factorized_top_k/top_5_categorical_accuracy: 0.9225 - factorized_top_k/top_10_categorical_accuracy: 1.0000 - factorized_top_k/top_50_categorical_accuracy: 1.0000 - factorized_top_k/top_100_categorical_accuracy: 1.0000 - loss: 2332.6655 - regularization_loss: 0.0000e+00 - total_loss: 2332.6655\n",
            "Epoch 233/250\n",
            "1/1 [==============================] - 0s 196ms/step - factorized_top_k/top_1_categorical_accuracy: 0.0000e+00 - factorized_top_k/top_5_categorical_accuracy: 0.9225 - factorized_top_k/top_10_categorical_accuracy: 1.0000 - factorized_top_k/top_50_categorical_accuracy: 1.0000 - factorized_top_k/top_100_categorical_accuracy: 1.0000 - loss: 2332.6494 - regularization_loss: 0.0000e+00 - total_loss: 2332.6494\n",
            "Epoch 234/250\n",
            "1/1 [==============================] - 0s 155ms/step - factorized_top_k/top_1_categorical_accuracy: 0.0000e+00 - factorized_top_k/top_5_categorical_accuracy: 0.9225 - factorized_top_k/top_10_categorical_accuracy: 1.0000 - factorized_top_k/top_50_categorical_accuracy: 1.0000 - factorized_top_k/top_100_categorical_accuracy: 1.0000 - loss: 2332.6338 - regularization_loss: 0.0000e+00 - total_loss: 2332.6338\n",
            "Epoch 235/250\n",
            "1/1 [==============================] - 0s 130ms/step - factorized_top_k/top_1_categorical_accuracy: 0.0000e+00 - factorized_top_k/top_5_categorical_accuracy: 0.9225 - factorized_top_k/top_10_categorical_accuracy: 1.0000 - factorized_top_k/top_50_categorical_accuracy: 1.0000 - factorized_top_k/top_100_categorical_accuracy: 1.0000 - loss: 2332.6184 - regularization_loss: 0.0000e+00 - total_loss: 2332.6184\n",
            "Epoch 236/250\n",
            "1/1 [==============================] - 0s 147ms/step - factorized_top_k/top_1_categorical_accuracy: 0.0000e+00 - factorized_top_k/top_5_categorical_accuracy: 0.9225 - factorized_top_k/top_10_categorical_accuracy: 1.0000 - factorized_top_k/top_50_categorical_accuracy: 1.0000 - factorized_top_k/top_100_categorical_accuracy: 1.0000 - loss: 2332.6030 - regularization_loss: 0.0000e+00 - total_loss: 2332.6030\n",
            "Epoch 237/250\n",
            "1/1 [==============================] - 0s 135ms/step - factorized_top_k/top_1_categorical_accuracy: 0.0000e+00 - factorized_top_k/top_5_categorical_accuracy: 0.9225 - factorized_top_k/top_10_categorical_accuracy: 1.0000 - factorized_top_k/top_50_categorical_accuracy: 1.0000 - factorized_top_k/top_100_categorical_accuracy: 1.0000 - loss: 2332.5874 - regularization_loss: 0.0000e+00 - total_loss: 2332.5874\n",
            "Epoch 238/250\n",
            "1/1 [==============================] - 0s 156ms/step - factorized_top_k/top_1_categorical_accuracy: 0.0000e+00 - factorized_top_k/top_5_categorical_accuracy: 0.9225 - factorized_top_k/top_10_categorical_accuracy: 1.0000 - factorized_top_k/top_50_categorical_accuracy: 1.0000 - factorized_top_k/top_100_categorical_accuracy: 1.0000 - loss: 2332.5718 - regularization_loss: 0.0000e+00 - total_loss: 2332.5718\n",
            "Epoch 239/250\n",
            "1/1 [==============================] - 0s 133ms/step - factorized_top_k/top_1_categorical_accuracy: 0.0000e+00 - factorized_top_k/top_5_categorical_accuracy: 0.9225 - factorized_top_k/top_10_categorical_accuracy: 1.0000 - factorized_top_k/top_50_categorical_accuracy: 1.0000 - factorized_top_k/top_100_categorical_accuracy: 1.0000 - loss: 2332.5564 - regularization_loss: 0.0000e+00 - total_loss: 2332.5564\n",
            "Epoch 240/250\n",
            "1/1 [==============================] - 0s 157ms/step - factorized_top_k/top_1_categorical_accuracy: 0.0000e+00 - factorized_top_k/top_5_categorical_accuracy: 0.9225 - factorized_top_k/top_10_categorical_accuracy: 1.0000 - factorized_top_k/top_50_categorical_accuracy: 1.0000 - factorized_top_k/top_100_categorical_accuracy: 1.0000 - loss: 2332.5408 - regularization_loss: 0.0000e+00 - total_loss: 2332.5408\n",
            "Epoch 241/250\n",
            "1/1 [==============================] - 0s 144ms/step - factorized_top_k/top_1_categorical_accuracy: 0.0000e+00 - factorized_top_k/top_5_categorical_accuracy: 0.9225 - factorized_top_k/top_10_categorical_accuracy: 1.0000 - factorized_top_k/top_50_categorical_accuracy: 1.0000 - factorized_top_k/top_100_categorical_accuracy: 1.0000 - loss: 2332.5256 - regularization_loss: 0.0000e+00 - total_loss: 2332.5256\n",
            "Epoch 242/250\n",
            "1/1 [==============================] - 0s 133ms/step - factorized_top_k/top_1_categorical_accuracy: 0.0000e+00 - factorized_top_k/top_5_categorical_accuracy: 0.9225 - factorized_top_k/top_10_categorical_accuracy: 1.0000 - factorized_top_k/top_50_categorical_accuracy: 1.0000 - factorized_top_k/top_100_categorical_accuracy: 1.0000 - loss: 2332.5103 - regularization_loss: 0.0000e+00 - total_loss: 2332.5103\n",
            "Epoch 243/250\n",
            "1/1 [==============================] - 0s 172ms/step - factorized_top_k/top_1_categorical_accuracy: 0.0000e+00 - factorized_top_k/top_5_categorical_accuracy: 0.9225 - factorized_top_k/top_10_categorical_accuracy: 1.0000 - factorized_top_k/top_50_categorical_accuracy: 1.0000 - factorized_top_k/top_100_categorical_accuracy: 1.0000 - loss: 2332.4946 - regularization_loss: 0.0000e+00 - total_loss: 2332.4946\n",
            "Epoch 244/250\n",
            "1/1 [==============================] - 0s 87ms/step - factorized_top_k/top_1_categorical_accuracy: 0.0000e+00 - factorized_top_k/top_5_categorical_accuracy: 0.9225 - factorized_top_k/top_10_categorical_accuracy: 1.0000 - factorized_top_k/top_50_categorical_accuracy: 1.0000 - factorized_top_k/top_100_categorical_accuracy: 1.0000 - loss: 2332.4792 - regularization_loss: 0.0000e+00 - total_loss: 2332.4792\n",
            "Epoch 245/250\n",
            "1/1 [==============================] - 0s 83ms/step - factorized_top_k/top_1_categorical_accuracy: 0.0000e+00 - factorized_top_k/top_5_categorical_accuracy: 0.9225 - factorized_top_k/top_10_categorical_accuracy: 1.0000 - factorized_top_k/top_50_categorical_accuracy: 1.0000 - factorized_top_k/top_100_categorical_accuracy: 1.0000 - loss: 2332.4641 - regularization_loss: 0.0000e+00 - total_loss: 2332.4641\n",
            "Epoch 246/250\n",
            "1/1 [==============================] - 0s 79ms/step - factorized_top_k/top_1_categorical_accuracy: 0.0000e+00 - factorized_top_k/top_5_categorical_accuracy: 0.9225 - factorized_top_k/top_10_categorical_accuracy: 1.0000 - factorized_top_k/top_50_categorical_accuracy: 1.0000 - factorized_top_k/top_100_categorical_accuracy: 1.0000 - loss: 2332.4490 - regularization_loss: 0.0000e+00 - total_loss: 2332.4490\n",
            "Epoch 247/250\n",
            "1/1 [==============================] - 0s 99ms/step - factorized_top_k/top_1_categorical_accuracy: 0.0000e+00 - factorized_top_k/top_5_categorical_accuracy: 0.9225 - factorized_top_k/top_10_categorical_accuracy: 1.0000 - factorized_top_k/top_50_categorical_accuracy: 1.0000 - factorized_top_k/top_100_categorical_accuracy: 1.0000 - loss: 2332.4336 - regularization_loss: 0.0000e+00 - total_loss: 2332.4336\n",
            "Epoch 248/250\n",
            "1/1 [==============================] - 0s 88ms/step - factorized_top_k/top_1_categorical_accuracy: 0.0000e+00 - factorized_top_k/top_5_categorical_accuracy: 0.9225 - factorized_top_k/top_10_categorical_accuracy: 1.0000 - factorized_top_k/top_50_categorical_accuracy: 1.0000 - factorized_top_k/top_100_categorical_accuracy: 1.0000 - loss: 2332.4185 - regularization_loss: 0.0000e+00 - total_loss: 2332.4185\n",
            "Epoch 249/250\n",
            "1/1 [==============================] - 0s 85ms/step - factorized_top_k/top_1_categorical_accuracy: 0.0000e+00 - factorized_top_k/top_5_categorical_accuracy: 0.9225 - factorized_top_k/top_10_categorical_accuracy: 1.0000 - factorized_top_k/top_50_categorical_accuracy: 1.0000 - factorized_top_k/top_100_categorical_accuracy: 1.0000 - loss: 2332.4031 - regularization_loss: 0.0000e+00 - total_loss: 2332.4031\n",
            "Epoch 250/250\n",
            "1/1 [==============================] - 0s 98ms/step - factorized_top_k/top_1_categorical_accuracy: 0.0000e+00 - factorized_top_k/top_5_categorical_accuracy: 0.9225 - factorized_top_k/top_10_categorical_accuracy: 1.0000 - factorized_top_k/top_50_categorical_accuracy: 1.0000 - factorized_top_k/top_100_categorical_accuracy: 1.0000 - loss: 2332.3882 - regularization_loss: 0.0000e+00 - total_loss: 2332.3882\n"
          ]
        },
        {
          "output_type": "execute_result",
          "data": {
            "text/plain": [
              "<keras.src.callbacks.History at 0x7c9438529ff0>"
            ]
          },
          "metadata": {},
          "execution_count": 52
        }
      ]
    },
    {
      "cell_type": "code",
      "source": [
        "model.evaluate(cached_test, return_dict=True)"
      ],
      "metadata": {
        "colab": {
          "base_uri": "https://localhost:8080/"
        },
        "id": "NkuJmYJdKyFX",
        "outputId": "e919ab9e-e440-48f5-bd6a-16b11d8bab24"
      },
      "execution_count": 53,
      "outputs": [
        {
          "output_type": "stream",
          "name": "stdout",
          "text": [
            "1/1 [==============================] - 0s 468ms/step - factorized_top_k/top_1_categorical_accuracy: 0.0000e+00 - factorized_top_k/top_5_categorical_accuracy: 0.3100 - factorized_top_k/top_10_categorical_accuracy: 0.5600 - factorized_top_k/top_50_categorical_accuracy: 0.7100 - factorized_top_k/top_100_categorical_accuracy: 0.7900 - loss: 455.8046 - regularization_loss: 0.0000e+00 - total_loss: 455.8046\n"
          ]
        },
        {
          "output_type": "execute_result",
          "data": {
            "text/plain": [
              "{'factorized_top_k/top_1_categorical_accuracy': 0.0,\n",
              " 'factorized_top_k/top_5_categorical_accuracy': 0.3100000023841858,\n",
              " 'factorized_top_k/top_10_categorical_accuracy': 0.5600000023841858,\n",
              " 'factorized_top_k/top_50_categorical_accuracy': 0.7099999785423279,\n",
              " 'factorized_top_k/top_100_categorical_accuracy': 0.7900000214576721,\n",
              " 'loss': 455.8045654296875,\n",
              " 'regularization_loss': 0,\n",
              " 'total_loss': 455.8045654296875}"
            ]
          },
          "metadata": {},
          "execution_count": 53
        }
      ]
    },
    {
      "cell_type": "code",
      "source": [
        "index = tfrs.layers.factorized_top_k.BruteForce(model.user_model)"
      ],
      "metadata": {
        "id": "l2MQglhJZ5lh"
      },
      "execution_count": 54,
      "outputs": []
    },
    {
      "cell_type": "code",
      "source": [
        "# Export the query model.\n",
        "path = \"retrieval_model\"\n",
        "\n",
        "# Save the index.\n",
        "tf.saved_model.save(index, path)"
      ],
      "metadata": {
        "id": "UygaEwc_Yx1n",
        "outputId": "eaa4d7df-4041-4b50-b826-a61017510318",
        "colab": {
          "base_uri": "https://localhost:8080/"
        }
      },
      "execution_count": 59,
      "outputs": [
        {
          "output_type": "stream",
          "name": "stderr",
          "text": [
            "WARNING:tensorflow:Skipping full serialization of Keras layer <tensorflow_recommenders.layers.factorized_top_k.BruteForce object at 0x7c943826b400>, because it is not built.\n",
            "WARNING:tensorflow:Model's `__init__()` arguments contain non-serializable objects. Please implement a `get_config()` method in the subclassed Model for proper saving and loading. Defaulting to empty config.\n",
            "WARNING:tensorflow:Model's `__init__()` arguments contain non-serializable objects. Please implement a `get_config()` method in the subclassed Model for proper saving and loading. Defaulting to empty config.\n"
          ]
        }
      ]
    }
  ],
  "metadata": {
    "colab": {
      "provenance": [],
      "include_colab_link": true
    },
    "kernelspec": {
      "display_name": "Python 3",
      "name": "python3"
    },
    "language_info": {
      "name": "python"
    }
  },
  "nbformat": 4,
  "nbformat_minor": 0
}